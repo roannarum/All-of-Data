{
  "cells": [
    {
      "cell_type": "markdown",
      "metadata": {
        "id": "view-in-github",
        "colab_type": "text"
      },
      "source": [
        "<a href=\"https://colab.research.google.com/github/roannarum/Data-Practice/blob/main/CustomerChurnPrediction.ipynb\" target=\"_parent\"><img src=\"https://colab.research.google.com/assets/colab-badge.svg\" alt=\"Open In Colab\"/></a>"
      ]
    },
    {
      "cell_type": "markdown",
      "metadata": {
        "id": "xYTGIq_KCWbx"
      },
      "source": [
        "# Customer Churn Prediction dengan Metodologi Knowledge Discovery and Data Mining KDD\n",
        "### oleh: Herdiesel Santoso\n",
        "\n",
        "DataSet : https://www.kaggle.com/datasets/blastchar/telco-customer-churn\n",
        "\n",
        "\n",
        "Artikel Sumber : \n",
        "1. https://medium.com/@hafizmrf3/penerapan-data-science-pada-marketing-customer-churn-prediction-python-de43eed149a4 \n",
        "\n",
        "2. https://deepnote.com/@yulius-riski-kristiawan/Customer-Churn-Prediction-using-Machine-Learning-9e826160-f9d2-4f80-8185-a1d1200906b0\n",
        "\n",
        "3. https://galihbahtera.medium.com/prediksi-churn-dari-customer-menggunakan-machine-learning-dan-python-4cacf435f743\n",
        "\n",
        "4. https://kakazidane2000.medium.com/memprediksi-customer-churn-dengan-menggunakan-supervised-machine-learning-6b7b945d41a3\n",
        "\n",
        "5. https://medium.com/@techtangent.in/visualizing-the-telco-churn-dataset-and-picking-up-the-important-features-94bc154e4153"
      ]
    },
    {
      "cell_type": "code",
      "source": [
        "from google.colab import drive\n",
        "drive.mount('/content/drive')"
      ],
      "metadata": {
        "id": "hwyVH3tbCm5L",
        "colab": {
          "base_uri": "https://localhost:8080/"
        },
        "outputId": "f3ff221a-d54e-45e9-ff74-82e4b978dfce"
      },
      "execution_count": 1,
      "outputs": [
        {
          "output_type": "stream",
          "name": "stdout",
          "text": [
            "Mounted at /content/drive\n"
          ]
        }
      ]
    },
    {
      "cell_type": "markdown",
      "metadata": {
        "id": "TDLepj81CWb6"
      },
      "source": [
        "# **Penetapan Tujuan dan Pemahaman Aplikasi**"
      ]
    },
    {
      "cell_type": "markdown",
      "source": [
        "**Latar Belakang :** Menurut Zeniarja, J., & Luthfiarta, A. (2015) Pelanggan adalah aset yang paling penting dari semua jenis bisnis. Prospek usaha hanya mungkin dapat dilakukan dengan kehadiran pelanggan yang puas yang selalu setia dan membangun hubungan mereka dengan perusahaan. Untuk alasan ini, perusahaan harus merencanakan dan menerapkan strategi untuk menciptakan pelanggan,umumnya dikenal sebagai Customer Relationship Management (CRM).\n",
        "\n",
        "Customer Relationship Management (CRM) merupakan strategi bisnis yang bertujuan untuk mengelola hubungan dengan pelanggan yang memadukan proses antara manusia dan teknologi. Sistem CRM bertujuan untuk membantu, mempertahankan, mengelola, dan meningkatkan hubungan pelanggan setia dan langgeng atau di sebut juga dengan proses menejemen Churn. Churn prediction bertujuan untuk memprediksi peluang seorang pelanggan untuk churn/kehilangan pelanggan dari suatu bisnis sebelum pelanggan tersebut benar-benar melakukannya, dengan demikian provider bisa memberikan treatment untuk meminimalisir kemungkinan mereka churn. \n",
        "\n",
        "\n",
        "**Tujuan :** Melakukan Prediksi dengan menggunakan machine learning dengan sebuah algoritme supervised learning untuk mengklasifikasikan pelanggan menjadi churn atau tidak churn di masa mendatang. \n",
        "\n"
      ],
      "metadata": {
        "id": "zWUTM1tRMyV-"
      }
    },
    {
      "cell_type": "markdown",
      "metadata": {
        "id": "feoikfHFCWcA"
      },
      "source": [
        "# **Data Selection**\n",
        "\n",
        "**Jenis Dataset :** Dataset yang digunakan adalah dataset pelanggan telekomunikasi (Telco), yang dapat diakses secara public di https://www.kaggle.com/datasets/blastchar/telco-customer-churn. \n",
        "\n",
        "Berikut beberapa library yang dapat membantu kita dalam melakukan pemodelan pada kasus ini, diantaranya:\n",
        "*   Pandas (untuk proses analisis data seperti manipulasi data, persiapan data, dan pembersihan data).\n",
        "*   Matplotlib (untuk visualisasi data seperti membuat plot grafik).\n",
        "*   Seaborn (membuat plot Matplotlib tradisional terlihat lebih menarik)\n",
        "*   Scikit-learn (menyediakan algoritma Machine Learning baik untuk pemodelan).\n",
        "*   XGboost (khusus untuk algoritma eXtreme Gradient Boosting).\n",
        "*   Pickle (implementasi protokol biner untuk serializing dan de-serializing dari struktur objek pada Python)."
      ]
    },
    {
      "cell_type": "code",
      "execution_count": 2,
      "metadata": {
        "id": "AKd8FP1JCWb9"
      },
      "outputs": [],
      "source": [
        "import pandas as pd\n",
        "import numpy as np\n",
        "import matplotlib.pyplot as plt\n",
        "import seaborn as sns\n",
        "from sklearn.preprocessing import LabelEncoder\n",
        "from sklearn.model_selection import train_test_split\n",
        "from sklearn.linear_model import LogisticRegression\n",
        "from sklearn.ensemble import RandomForestClassifier\n",
        "from sklearn.ensemble import GradientBoostingClassifier\n",
        "from sklearn.metrics import confusion_matrix, classification_report\n",
        "import pickle\n",
        "from pathlib import Path"
      ]
    },
    {
      "cell_type": "code",
      "execution_count": 6,
      "metadata": {
        "colab": {
          "base_uri": "https://localhost:8080/"
        },
        "id": "EiPxIuzsCWcB",
        "outputId": "32172df6-6d7a-4623-f7e1-ef00490cbc9f"
      },
      "outputs": [
        {
          "output_type": "stream",
          "name": "stdout",
          "text": [
            "   UpdatedAt   customerID  gender SeniorCitizen Partner  tenure PhoneService  \\\n",
            "0     202006  45759018157  Female            No     Yes       1           No   \n",
            "1     202006  45315483266    Male            No     Yes      60          Yes   \n",
            "2     202006  45236961615    Male            No      No       5          Yes   \n",
            "3     202006  45929827382  Female            No     Yes      72          Yes   \n",
            "4     202006  45305082233  Female            No     Yes      56          Yes   \n",
            "\n",
            "  StreamingTV InternetService PaperlessBilling  MonthlyCharges  TotalCharges  \\\n",
            "0          No             Yes              Yes           29.85         29.85   \n",
            "1          No              No              Yes           20.50       1198.80   \n",
            "2         Yes             Yes               No          104.10        541.90   \n",
            "3         Yes             Yes              Yes          115.50       8312.75   \n",
            "4         Yes             Yes               No           81.25       4620.40   \n",
            "\n",
            "  Churn  \n",
            "0    No  \n",
            "1    No  \n",
            "2   Yes  \n",
            "3    No  \n",
            "4    No  \n"
          ]
        }
      ],
      "source": [
        "df_load = pd.read_csv('/content/drive/MyDrive/Dataset/telco_dataset.csv')\n",
        "#Tampilkan 5 data teratas\n",
        "print(df_load.head())"
      ]
    },
    {
      "cell_type": "code",
      "source": [
        "# Menampilkan Baris dan Kolom dari dataset\n",
        "print(df_load.shape)"
      ],
      "metadata": {
        "colab": {
          "base_uri": "https://localhost:8080/"
        },
        "id": "L5_JlJuIvK6K",
        "outputId": "b6e58ebf-1bfe-4e8e-c7bb-f8771c86e716"
      },
      "execution_count": 7,
      "outputs": [
        {
          "output_type": "stream",
          "name": "stdout",
          "text": [
            "(6950, 13)\n"
          ]
        }
      ]
    },
    {
      "cell_type": "code",
      "source": [
        "# Melihat semua kolom dalam dataset\n",
        "print(df_load.columns)"
      ],
      "metadata": {
        "colab": {
          "base_uri": "https://localhost:8080/"
        },
        "id": "jNAVK7sxyFQ1",
        "outputId": "b605f1a5-13c6-4854-93c2-dc50d8d04387"
      },
      "execution_count": 8,
      "outputs": [
        {
          "output_type": "stream",
          "name": "stdout",
          "text": [
            "Index(['UpdatedAt', 'customerID', 'gender', 'SeniorCitizen', 'Partner',\n",
            "       'tenure', 'PhoneService', 'StreamingTV', 'InternetService',\n",
            "       'PaperlessBilling', 'MonthlyCharges', 'TotalCharges', 'Churn'],\n",
            "      dtype='object')\n"
          ]
        }
      ]
    },
    {
      "cell_type": "code",
      "source": [
        "#Tampilkan jumlah ID yang unik\n",
        "print(df_load.customerID.nunique())"
      ],
      "metadata": {
        "colab": {
          "base_uri": "https://localhost:8080/"
        },
        "id": "ErWx5jJRvUwE",
        "outputId": "fa786270-5535-4ae0-c34b-0eb7b89f1b12"
      },
      "execution_count": 9,
      "outputs": [
        {
          "output_type": "stream",
          "name": "stdout",
          "text": [
            "6950\n"
          ]
        }
      ]
    },
    {
      "cell_type": "code",
      "source": [
        "# Menampilkan informasi feature dari Dataset\n",
        "print(df_load.info())"
      ],
      "metadata": {
        "colab": {
          "base_uri": "https://localhost:8080/"
        },
        "id": "jLUW7cJpvm41",
        "outputId": "4c771cc0-049f-45d6-b252-f781676d7a4d"
      },
      "execution_count": 10,
      "outputs": [
        {
          "output_type": "stream",
          "name": "stdout",
          "text": [
            "<class 'pandas.core.frame.DataFrame'>\n",
            "RangeIndex: 6950 entries, 0 to 6949\n",
            "Data columns (total 13 columns):\n",
            " #   Column            Non-Null Count  Dtype  \n",
            "---  ------            --------------  -----  \n",
            " 0   UpdatedAt         6950 non-null   int64  \n",
            " 1   customerID        6950 non-null   int64  \n",
            " 2   gender            6950 non-null   object \n",
            " 3   SeniorCitizen     6950 non-null   object \n",
            " 4   Partner           6950 non-null   object \n",
            " 5   tenure            6950 non-null   int64  \n",
            " 6   PhoneService      6950 non-null   object \n",
            " 7   StreamingTV       6950 non-null   object \n",
            " 8   InternetService   6950 non-null   object \n",
            " 9   PaperlessBilling  6950 non-null   object \n",
            " 10  MonthlyCharges    6950 non-null   float64\n",
            " 11  TotalCharges      6950 non-null   float64\n",
            " 12  Churn             6950 non-null   object \n",
            "dtypes: float64(2), int64(3), object(8)\n",
            "memory usage: 706.0+ KB\n",
            "None\n"
          ]
        }
      ]
    },
    {
      "cell_type": "markdown",
      "source": [
        "Dataset customer chrun yang digunakan terdiri dari dari 13 Feature, yaitu :\n",
        "*   UpdateAt: Tanggal dicatatnya data, tipe data Numerik.\n",
        "*   Customer ID: Indeks pelanggan, tipe data Numerik.\n",
        "*   Gender: Jenis kelamin pelanggan, tipe data Nominal. Kolom ini memiliki 2 nilai: male dan female.\n",
        "*   SeniorCitizen: Pelanggan adalah warga negara senior,  tipe data Nominal. Kolom ini memiliki 2 nilai yaitu 0 dan 1.\n",
        "*   Partners: Pelanggan memiliki mitra/pasangan, tipe data Nominal. Kolom ini memiliki 2 nilai, yaitu: Yes dan No.\n",
        "*   Tenure: Jumlah bulan pelanggan menggunakan layanan perusahaan, tipe data Numerik.\n",
        "*   PhoneService: Pelanggan memiliki layanan telepon, tipe data Nominal. Kolom ini memiliki 2 nilai, yaitu Yes dan No.\n",
        "*   StreamingTV: Pelanggan memiliki layanan streaming televisi, tipe data Nominal. Kolom ini memiliki 2 nilai yaitu Yes dan No.\n",
        "*   InternetService: Penyedia layanan internet pelanggan, tipe data Nominal. Kolom ini mempunyai 2 nilai yaitu Yes dan No.\n",
        "*   PaperlessBilling: Pelanggan memiliki tagihan tanpa kertas, tipe data Nominal. Kolom ini memiliki 2 nilai yaitu: Yes dan No.\n",
        "*   MonthlyCharges: Ini adalah jumlah yang dibebankan kepada pelanggan setiap bulan, tipe data Numerik.\n",
        "*   TotalCharges: Jumlah total layanan yang dibebankan kepada pelangga, tipe data Numerik.\n",
        "*   Churn: Kategori pelanggan churn atau tidak, tipe data Nominal. Kolom ini memiliki 2 nilai yaitu Yes dan No.\n",
        "\n",
        "Dataset memiliki jumlah record/baris 6950, dengan keseluruhannya Customer ID unik.\n",
        "\n",
        "Untuk atribut **'UpdatedAt' dan 'customerID'**, merupakan atribut metadata, tidak berpengaruh terhadap pernentuan apakah pelanggan Chrun atau Tidak. Sedangkan atribut **'gender', 'SeniorCitizen', 'Partner', 'tenure', 'PhoneService', 'StreamingTV', 'InternetService' 'PaperlessBilling', 'MonthlyCharges', dan  'TotalCharges'** merupakan atribut Feature. Atribut **'Churn'** merupakan atribut Label/Target yang akan kita gunakan untuk klasifikasi.\n",
        "\n",
        "\n",
        "\n",
        "\n",
        "\n"
      ],
      "metadata": {
        "id": "cFG7DJTPPTyk"
      }
    },
    {
      "cell_type": "markdown",
      "source": [
        "Terdapat 6950 data pelanggan unik dengan tenure rata-rata masa berlangganan pelanggan adalah 32.49 bulan dengan paling sebentar adalah 1 bulan dan paling lama 124 bulan. Lalu, untuk kolom MonthlyCharges rata-rata pelanggan menghabiskan biaya 64.99 dolar/bulan dengan paling murah adalah 18.55 dolar/bulan dan paling mahal 169.93 dolar/bulan. Selanjutnya, untuk kolom TotalCharges rata-rata pelanggan menghabiskan 2286.05 dollar dengan paling murahnya adalah 19 dolar dan paling mahalnya adalah 8889.13 dolar."
      ],
      "metadata": {
        "id": "XuUmjnZMLJzs"
      }
    },
    {
      "cell_type": "markdown",
      "metadata": {
        "id": "RnyqnZ7bCWcL"
      },
      "source": [
        "# **Preprocessing Data**\n",
        "\n",
        "Proses Preprocessing mencakup antara lain : pengecekan missing value (data yang hilang), membuang duplikasi data, memperbaiki kesalahan pada data, label encoding dll. "
      ]
    },
    {
      "cell_type": "markdown",
      "source": [
        "## Pengecakan Missing Value\n",
        "\n",
        "Pengecekan missing value sangat penting untuk melihat apakah data yang terdapat di dataset ada yang kosong atau tidak. Hal ini dikarenakan kosongnya data yang terdapat di dataset akan mengganggu dalam proses pemodelan."
      ],
      "metadata": {
        "id": "mFJa4x5r5StS"
      }
    },
    {
      "cell_type": "code",
      "source": [
        "df_load.isnull().sum()"
      ],
      "metadata": {
        "colab": {
          "base_uri": "https://localhost:8080/"
        },
        "id": "XgV7bwT-1a2h",
        "outputId": "27ab071e-08a8-4873-a7ef-4098e46af823"
      },
      "execution_count": null,
      "outputs": [
        {
          "output_type": "execute_result",
          "data": {
            "text/plain": [
              "UpdatedAt           0\n",
              "customerID          0\n",
              "gender              0\n",
              "SeniorCitizen       0\n",
              "Partner             0\n",
              "tenure              0\n",
              "PhoneService        0\n",
              "StreamingTV         0\n",
              "InternetService     0\n",
              "PaperlessBilling    0\n",
              "MonthlyCharges      0\n",
              "TotalCharges        0\n",
              "Churn               0\n",
              "dtype: int64"
            ]
          },
          "metadata": {},
          "execution_count": 8
        }
      ]
    },
    {
      "cell_type": "code",
      "source": [
        "df_load.isna().sum()"
      ],
      "metadata": {
        "colab": {
          "base_uri": "https://localhost:8080/"
        },
        "id": "eUJln7oc1hrx",
        "outputId": "c0522551-5433-47dd-ab29-33cd22bee4cb"
      },
      "execution_count": null,
      "outputs": [
        {
          "output_type": "execute_result",
          "data": {
            "text/plain": [
              "UpdatedAt           0\n",
              "customerID          0\n",
              "gender              0\n",
              "SeniorCitizen       0\n",
              "Partner             0\n",
              "tenure              0\n",
              "PhoneService        0\n",
              "StreamingTV         0\n",
              "InternetService     0\n",
              "PaperlessBilling    0\n",
              "MonthlyCharges      0\n",
              "TotalCharges        0\n",
              "Churn               0\n",
              "dtype: int64"
            ]
          },
          "metadata": {},
          "execution_count": 9
        }
      ]
    },
    {
      "cell_type": "markdown",
      "source": [
        "Setelah melakukan pengecakan terhadap setiap kolom, tidak ditemukan kolom yang memiliki data missing value. Semua datanya lengkap."
      ],
      "metadata": {
        "id": "Ddk3pkti4dT2"
      }
    },
    {
      "cell_type": "markdown",
      "source": [
        "## Memperbaiki kesalahan pada Data"
      ],
      "metadata": {
        "id": "9Z3av_bIH-IR"
      }
    },
    {
      "cell_type": "code",
      "source": [
        "df_load.describe()"
      ],
      "metadata": {
        "colab": {
          "base_uri": "https://localhost:8080/",
          "height": 300
        },
        "id": "6nyZME-S8pgK",
        "outputId": "dd1722df-60f4-4ccb-8edc-8a6339ed5b6b"
      },
      "execution_count": null,
      "outputs": [
        {
          "output_type": "execute_result",
          "data": {
            "text/plain": [
              "       UpdatedAt    customerID       tenure  MonthlyCharges  TotalCharges\n",
              "count     6950.0  6.950000e+03  6950.000000     6950.000000   6950.000000\n",
              "mean    202006.0  4.549898e+10    32.423165       64.992201   2286.058750\n",
              "std          0.0  2.854091e+08    24.581073       30.032040   2265.702553\n",
              "min     202006.0  4.500026e+10     0.000000        0.000000     19.000000\n",
              "25%     202006.0  4.525607e+10     9.000000       36.462500    406.975000\n",
              "50%     202006.0  4.549871e+10    29.000000       70.450000   1400.850000\n",
              "75%     202006.0  4.574384e+10    55.000000       89.850000   3799.837500\n",
              "max     202006.0  4.599959e+10   124.000000      169.931250   8889.131250"
            ],
            "text/html": [
              "\n",
              "  <div id=\"df-55b8f6a2-aac3-44b4-b645-ce935d6522d8\">\n",
              "    <div class=\"colab-df-container\">\n",
              "      <div>\n",
              "<style scoped>\n",
              "    .dataframe tbody tr th:only-of-type {\n",
              "        vertical-align: middle;\n",
              "    }\n",
              "\n",
              "    .dataframe tbody tr th {\n",
              "        vertical-align: top;\n",
              "    }\n",
              "\n",
              "    .dataframe thead th {\n",
              "        text-align: right;\n",
              "    }\n",
              "</style>\n",
              "<table border=\"1\" class=\"dataframe\">\n",
              "  <thead>\n",
              "    <tr style=\"text-align: right;\">\n",
              "      <th></th>\n",
              "      <th>UpdatedAt</th>\n",
              "      <th>customerID</th>\n",
              "      <th>tenure</th>\n",
              "      <th>MonthlyCharges</th>\n",
              "      <th>TotalCharges</th>\n",
              "    </tr>\n",
              "  </thead>\n",
              "  <tbody>\n",
              "    <tr>\n",
              "      <th>count</th>\n",
              "      <td>6950.0</td>\n",
              "      <td>6.950000e+03</td>\n",
              "      <td>6950.000000</td>\n",
              "      <td>6950.000000</td>\n",
              "      <td>6950.000000</td>\n",
              "    </tr>\n",
              "    <tr>\n",
              "      <th>mean</th>\n",
              "      <td>202006.0</td>\n",
              "      <td>4.549898e+10</td>\n",
              "      <td>32.423165</td>\n",
              "      <td>64.992201</td>\n",
              "      <td>2286.058750</td>\n",
              "    </tr>\n",
              "    <tr>\n",
              "      <th>std</th>\n",
              "      <td>0.0</td>\n",
              "      <td>2.854091e+08</td>\n",
              "      <td>24.581073</td>\n",
              "      <td>30.032040</td>\n",
              "      <td>2265.702553</td>\n",
              "    </tr>\n",
              "    <tr>\n",
              "      <th>min</th>\n",
              "      <td>202006.0</td>\n",
              "      <td>4.500026e+10</td>\n",
              "      <td>0.000000</td>\n",
              "      <td>0.000000</td>\n",
              "      <td>19.000000</td>\n",
              "    </tr>\n",
              "    <tr>\n",
              "      <th>25%</th>\n",
              "      <td>202006.0</td>\n",
              "      <td>4.525607e+10</td>\n",
              "      <td>9.000000</td>\n",
              "      <td>36.462500</td>\n",
              "      <td>406.975000</td>\n",
              "    </tr>\n",
              "    <tr>\n",
              "      <th>50%</th>\n",
              "      <td>202006.0</td>\n",
              "      <td>4.549871e+10</td>\n",
              "      <td>29.000000</td>\n",
              "      <td>70.450000</td>\n",
              "      <td>1400.850000</td>\n",
              "    </tr>\n",
              "    <tr>\n",
              "      <th>75%</th>\n",
              "      <td>202006.0</td>\n",
              "      <td>4.574384e+10</td>\n",
              "      <td>55.000000</td>\n",
              "      <td>89.850000</td>\n",
              "      <td>3799.837500</td>\n",
              "    </tr>\n",
              "    <tr>\n",
              "      <th>max</th>\n",
              "      <td>202006.0</td>\n",
              "      <td>4.599959e+10</td>\n",
              "      <td>124.000000</td>\n",
              "      <td>169.931250</td>\n",
              "      <td>8889.131250</td>\n",
              "    </tr>\n",
              "  </tbody>\n",
              "</table>\n",
              "</div>\n",
              "      <button class=\"colab-df-convert\" onclick=\"convertToInteractive('df-55b8f6a2-aac3-44b4-b645-ce935d6522d8')\"\n",
              "              title=\"Convert this dataframe to an interactive table.\"\n",
              "              style=\"display:none;\">\n",
              "        \n",
              "  <svg xmlns=\"http://www.w3.org/2000/svg\" height=\"24px\"viewBox=\"0 0 24 24\"\n",
              "       width=\"24px\">\n",
              "    <path d=\"M0 0h24v24H0V0z\" fill=\"none\"/>\n",
              "    <path d=\"M18.56 5.44l.94 2.06.94-2.06 2.06-.94-2.06-.94-.94-2.06-.94 2.06-2.06.94zm-11 1L8.5 8.5l.94-2.06 2.06-.94-2.06-.94L8.5 2.5l-.94 2.06-2.06.94zm10 10l.94 2.06.94-2.06 2.06-.94-2.06-.94-.94-2.06-.94 2.06-2.06.94z\"/><path d=\"M17.41 7.96l-1.37-1.37c-.4-.4-.92-.59-1.43-.59-.52 0-1.04.2-1.43.59L10.3 9.45l-7.72 7.72c-.78.78-.78 2.05 0 2.83L4 21.41c.39.39.9.59 1.41.59.51 0 1.02-.2 1.41-.59l7.78-7.78 2.81-2.81c.8-.78.8-2.07 0-2.86zM5.41 20L4 18.59l7.72-7.72 1.47 1.35L5.41 20z\"/>\n",
              "  </svg>\n",
              "      </button>\n",
              "      \n",
              "  <style>\n",
              "    .colab-df-container {\n",
              "      display:flex;\n",
              "      flex-wrap:wrap;\n",
              "      gap: 12px;\n",
              "    }\n",
              "\n",
              "    .colab-df-convert {\n",
              "      background-color: #E8F0FE;\n",
              "      border: none;\n",
              "      border-radius: 50%;\n",
              "      cursor: pointer;\n",
              "      display: none;\n",
              "      fill: #1967D2;\n",
              "      height: 32px;\n",
              "      padding: 0 0 0 0;\n",
              "      width: 32px;\n",
              "    }\n",
              "\n",
              "    .colab-df-convert:hover {\n",
              "      background-color: #E2EBFA;\n",
              "      box-shadow: 0px 1px 2px rgba(60, 64, 67, 0.3), 0px 1px 3px 1px rgba(60, 64, 67, 0.15);\n",
              "      fill: #174EA6;\n",
              "    }\n",
              "\n",
              "    [theme=dark] .colab-df-convert {\n",
              "      background-color: #3B4455;\n",
              "      fill: #D2E3FC;\n",
              "    }\n",
              "\n",
              "    [theme=dark] .colab-df-convert:hover {\n",
              "      background-color: #434B5C;\n",
              "      box-shadow: 0px 1px 3px 1px rgba(0, 0, 0, 0.15);\n",
              "      filter: drop-shadow(0px 1px 2px rgba(0, 0, 0, 0.3));\n",
              "      fill: #FFFFFF;\n",
              "    }\n",
              "  </style>\n",
              "\n",
              "      <script>\n",
              "        const buttonEl =\n",
              "          document.querySelector('#df-55b8f6a2-aac3-44b4-b645-ce935d6522d8 button.colab-df-convert');\n",
              "        buttonEl.style.display =\n",
              "          google.colab.kernel.accessAllowed ? 'block' : 'none';\n",
              "\n",
              "        async function convertToInteractive(key) {\n",
              "          const element = document.querySelector('#df-55b8f6a2-aac3-44b4-b645-ce935d6522d8');\n",
              "          const dataTable =\n",
              "            await google.colab.kernel.invokeFunction('convertToInteractive',\n",
              "                                                     [key], {});\n",
              "          if (!dataTable) return;\n",
              "\n",
              "          const docLinkHtml = 'Like what you see? Visit the ' +\n",
              "            '<a target=\"_blank\" href=https://colab.research.google.com/notebooks/data_table.ipynb>data table notebook</a>'\n",
              "            + ' to learn more about interactive tables.';\n",
              "          element.innerHTML = '';\n",
              "          dataTable['output_type'] = 'display_data';\n",
              "          await google.colab.output.renderOutput(dataTable, element);\n",
              "          const docLink = document.createElement('div');\n",
              "          docLink.innerHTML = docLinkHtml;\n",
              "          element.appendChild(docLink);\n",
              "        }\n",
              "      </script>\n",
              "    </div>\n",
              "  </div>\n",
              "  "
            ]
          },
          "metadata": {},
          "execution_count": 10
        }
      ]
    },
    {
      "cell_type": "markdown",
      "source": [
        "Terdapat 6950 data pelanggan unik dengan tenure rata-rata masa berlangganan pelanggan adalah 32.42 bulan dengan paling sebentar adalah 0 bulan dan paling lama 124 bulan. Jika kita lakukan analisis, nilai TotalCharger adalah perkalian antara tenure dan MonthlyCharges. Jika tenure atau MonthlyCharges = 0 dolar harusnya memberikan nilai TotalCharger = 0 dolar (karena ada yang berlangganan hanya 0 bulan jadi saat dikalikan dengan MonthlyCharges menjadi 0). Karena itu dapat disimpulkan, ada kesalahan data khususnya di Kolom teanure, MonthlyCharges dan TotalCharger.\n",
        "\n",
        "Kita tampilkan customer yang memiliki tenure = 0 atau MonthlyCharges = 0."
      ],
      "metadata": {
        "id": "8krvREbr81w6"
      }
    },
    {
      "cell_type": "code",
      "source": [
        "# Tampilkan customer yang memiliki tenure = 0 atau MonthlyCharges = 0\n",
        "\n",
        "df = df_load.loc[(df_load['tenure'] == 0) | (df_load['MonthlyCharges'] == 0)]\n",
        "\n",
        "df"
      ],
      "metadata": {
        "colab": {
          "base_uri": "https://localhost:8080/",
          "height": 489
        },
        "id": "i4Ag-Kde-Wrk",
        "outputId": "daadfff0-e6f2-44a5-b2ba-520377bf2fef"
      },
      "execution_count": null,
      "outputs": [
        {
          "output_type": "execute_result",
          "data": {
            "text/plain": [
              "      UpdatedAt   customerID  gender SeniorCitizen Partner  tenure  \\\n",
              "623      202006  45292318527    Male            No     Yes       0   \n",
              "945      202006  45321311527    Male            No     Yes       0   \n",
              "1230     202006  45682399467    Male            No      No      28   \n",
              "1478     202006  45252097001  Female            No     Yes       0   \n",
              "2394     202006  45277595655    Male            No      No       0   \n",
              "2423     202006  45407521496  Female            No     Yes       0   \n",
              "3762     202006  45570921557  Female            No     Yes       0   \n",
              "3809     202006  45436746415    Male            No     Yes       0   \n",
              "4180     202006  45137142615  Female            No     Yes       0   \n",
              "4794     202006  45311535354    Male            No      No       0   \n",
              "5077     202006  45447221479  Female            No     Yes       0   \n",
              "5858     202006  45764453134    Male            No     Yes       0   \n",
              "\n",
              "     PhoneService StreamingTV InternetService PaperlessBilling  \\\n",
              "623           Yes          No              No              Yes   \n",
              "945           Yes          No              No               No   \n",
              "1230          Yes          No              No               No   \n",
              "1478          Yes          No              No               No   \n",
              "2394          Yes          No             Yes              Yes   \n",
              "2423          Yes         Yes             Yes               No   \n",
              "3762          Yes         Yes             Yes               No   \n",
              "3809          Yes          No              No               No   \n",
              "4180           No         Yes             Yes               No   \n",
              "4794          Yes          No              No               No   \n",
              "5077           No         Yes             Yes              Yes   \n",
              "5858          Yes          No              No               No   \n",
              "\n",
              "      MonthlyCharges  TotalCharges Churn  \n",
              "623            19.70       1400.85    No  \n",
              "945            25.35       1400.85    No  \n",
              "1230            0.00        534.70    No  \n",
              "1478           20.00       1400.85    No  \n",
              "2394           61.90       1400.85    No  \n",
              "2423           73.35       1400.85    No  \n",
              "3762           80.85       1400.85    No  \n",
              "3809           25.75       1400.85    No  \n",
              "4180           56.05       1400.85    No  \n",
              "4794           20.25       1400.85    No  \n",
              "5077           52.55       1400.85    No  \n",
              "5858           19.85       1400.85    No  "
            ],
            "text/html": [
              "\n",
              "  <div id=\"df-14a5da30-039d-4222-b3b9-60aa932c01a4\">\n",
              "    <div class=\"colab-df-container\">\n",
              "      <div>\n",
              "<style scoped>\n",
              "    .dataframe tbody tr th:only-of-type {\n",
              "        vertical-align: middle;\n",
              "    }\n",
              "\n",
              "    .dataframe tbody tr th {\n",
              "        vertical-align: top;\n",
              "    }\n",
              "\n",
              "    .dataframe thead th {\n",
              "        text-align: right;\n",
              "    }\n",
              "</style>\n",
              "<table border=\"1\" class=\"dataframe\">\n",
              "  <thead>\n",
              "    <tr style=\"text-align: right;\">\n",
              "      <th></th>\n",
              "      <th>UpdatedAt</th>\n",
              "      <th>customerID</th>\n",
              "      <th>gender</th>\n",
              "      <th>SeniorCitizen</th>\n",
              "      <th>Partner</th>\n",
              "      <th>tenure</th>\n",
              "      <th>PhoneService</th>\n",
              "      <th>StreamingTV</th>\n",
              "      <th>InternetService</th>\n",
              "      <th>PaperlessBilling</th>\n",
              "      <th>MonthlyCharges</th>\n",
              "      <th>TotalCharges</th>\n",
              "      <th>Churn</th>\n",
              "    </tr>\n",
              "  </thead>\n",
              "  <tbody>\n",
              "    <tr>\n",
              "      <th>623</th>\n",
              "      <td>202006</td>\n",
              "      <td>45292318527</td>\n",
              "      <td>Male</td>\n",
              "      <td>No</td>\n",
              "      <td>Yes</td>\n",
              "      <td>0</td>\n",
              "      <td>Yes</td>\n",
              "      <td>No</td>\n",
              "      <td>No</td>\n",
              "      <td>Yes</td>\n",
              "      <td>19.70</td>\n",
              "      <td>1400.85</td>\n",
              "      <td>No</td>\n",
              "    </tr>\n",
              "    <tr>\n",
              "      <th>945</th>\n",
              "      <td>202006</td>\n",
              "      <td>45321311527</td>\n",
              "      <td>Male</td>\n",
              "      <td>No</td>\n",
              "      <td>Yes</td>\n",
              "      <td>0</td>\n",
              "      <td>Yes</td>\n",
              "      <td>No</td>\n",
              "      <td>No</td>\n",
              "      <td>No</td>\n",
              "      <td>25.35</td>\n",
              "      <td>1400.85</td>\n",
              "      <td>No</td>\n",
              "    </tr>\n",
              "    <tr>\n",
              "      <th>1230</th>\n",
              "      <td>202006</td>\n",
              "      <td>45682399467</td>\n",
              "      <td>Male</td>\n",
              "      <td>No</td>\n",
              "      <td>No</td>\n",
              "      <td>28</td>\n",
              "      <td>Yes</td>\n",
              "      <td>No</td>\n",
              "      <td>No</td>\n",
              "      <td>No</td>\n",
              "      <td>0.00</td>\n",
              "      <td>534.70</td>\n",
              "      <td>No</td>\n",
              "    </tr>\n",
              "    <tr>\n",
              "      <th>1478</th>\n",
              "      <td>202006</td>\n",
              "      <td>45252097001</td>\n",
              "      <td>Female</td>\n",
              "      <td>No</td>\n",
              "      <td>Yes</td>\n",
              "      <td>0</td>\n",
              "      <td>Yes</td>\n",
              "      <td>No</td>\n",
              "      <td>No</td>\n",
              "      <td>No</td>\n",
              "      <td>20.00</td>\n",
              "      <td>1400.85</td>\n",
              "      <td>No</td>\n",
              "    </tr>\n",
              "    <tr>\n",
              "      <th>2394</th>\n",
              "      <td>202006</td>\n",
              "      <td>45277595655</td>\n",
              "      <td>Male</td>\n",
              "      <td>No</td>\n",
              "      <td>No</td>\n",
              "      <td>0</td>\n",
              "      <td>Yes</td>\n",
              "      <td>No</td>\n",
              "      <td>Yes</td>\n",
              "      <td>Yes</td>\n",
              "      <td>61.90</td>\n",
              "      <td>1400.85</td>\n",
              "      <td>No</td>\n",
              "    </tr>\n",
              "    <tr>\n",
              "      <th>2423</th>\n",
              "      <td>202006</td>\n",
              "      <td>45407521496</td>\n",
              "      <td>Female</td>\n",
              "      <td>No</td>\n",
              "      <td>Yes</td>\n",
              "      <td>0</td>\n",
              "      <td>Yes</td>\n",
              "      <td>Yes</td>\n",
              "      <td>Yes</td>\n",
              "      <td>No</td>\n",
              "      <td>73.35</td>\n",
              "      <td>1400.85</td>\n",
              "      <td>No</td>\n",
              "    </tr>\n",
              "    <tr>\n",
              "      <th>3762</th>\n",
              "      <td>202006</td>\n",
              "      <td>45570921557</td>\n",
              "      <td>Female</td>\n",
              "      <td>No</td>\n",
              "      <td>Yes</td>\n",
              "      <td>0</td>\n",
              "      <td>Yes</td>\n",
              "      <td>Yes</td>\n",
              "      <td>Yes</td>\n",
              "      <td>No</td>\n",
              "      <td>80.85</td>\n",
              "      <td>1400.85</td>\n",
              "      <td>No</td>\n",
              "    </tr>\n",
              "    <tr>\n",
              "      <th>3809</th>\n",
              "      <td>202006</td>\n",
              "      <td>45436746415</td>\n",
              "      <td>Male</td>\n",
              "      <td>No</td>\n",
              "      <td>Yes</td>\n",
              "      <td>0</td>\n",
              "      <td>Yes</td>\n",
              "      <td>No</td>\n",
              "      <td>No</td>\n",
              "      <td>No</td>\n",
              "      <td>25.75</td>\n",
              "      <td>1400.85</td>\n",
              "      <td>No</td>\n",
              "    </tr>\n",
              "    <tr>\n",
              "      <th>4180</th>\n",
              "      <td>202006</td>\n",
              "      <td>45137142615</td>\n",
              "      <td>Female</td>\n",
              "      <td>No</td>\n",
              "      <td>Yes</td>\n",
              "      <td>0</td>\n",
              "      <td>No</td>\n",
              "      <td>Yes</td>\n",
              "      <td>Yes</td>\n",
              "      <td>No</td>\n",
              "      <td>56.05</td>\n",
              "      <td>1400.85</td>\n",
              "      <td>No</td>\n",
              "    </tr>\n",
              "    <tr>\n",
              "      <th>4794</th>\n",
              "      <td>202006</td>\n",
              "      <td>45311535354</td>\n",
              "      <td>Male</td>\n",
              "      <td>No</td>\n",
              "      <td>No</td>\n",
              "      <td>0</td>\n",
              "      <td>Yes</td>\n",
              "      <td>No</td>\n",
              "      <td>No</td>\n",
              "      <td>No</td>\n",
              "      <td>20.25</td>\n",
              "      <td>1400.85</td>\n",
              "      <td>No</td>\n",
              "    </tr>\n",
              "    <tr>\n",
              "      <th>5077</th>\n",
              "      <td>202006</td>\n",
              "      <td>45447221479</td>\n",
              "      <td>Female</td>\n",
              "      <td>No</td>\n",
              "      <td>Yes</td>\n",
              "      <td>0</td>\n",
              "      <td>No</td>\n",
              "      <td>Yes</td>\n",
              "      <td>Yes</td>\n",
              "      <td>Yes</td>\n",
              "      <td>52.55</td>\n",
              "      <td>1400.85</td>\n",
              "      <td>No</td>\n",
              "    </tr>\n",
              "    <tr>\n",
              "      <th>5858</th>\n",
              "      <td>202006</td>\n",
              "      <td>45764453134</td>\n",
              "      <td>Male</td>\n",
              "      <td>No</td>\n",
              "      <td>Yes</td>\n",
              "      <td>0</td>\n",
              "      <td>Yes</td>\n",
              "      <td>No</td>\n",
              "      <td>No</td>\n",
              "      <td>No</td>\n",
              "      <td>19.85</td>\n",
              "      <td>1400.85</td>\n",
              "      <td>No</td>\n",
              "    </tr>\n",
              "  </tbody>\n",
              "</table>\n",
              "</div>\n",
              "      <button class=\"colab-df-convert\" onclick=\"convertToInteractive('df-14a5da30-039d-4222-b3b9-60aa932c01a4')\"\n",
              "              title=\"Convert this dataframe to an interactive table.\"\n",
              "              style=\"display:none;\">\n",
              "        \n",
              "  <svg xmlns=\"http://www.w3.org/2000/svg\" height=\"24px\"viewBox=\"0 0 24 24\"\n",
              "       width=\"24px\">\n",
              "    <path d=\"M0 0h24v24H0V0z\" fill=\"none\"/>\n",
              "    <path d=\"M18.56 5.44l.94 2.06.94-2.06 2.06-.94-2.06-.94-.94-2.06-.94 2.06-2.06.94zm-11 1L8.5 8.5l.94-2.06 2.06-.94-2.06-.94L8.5 2.5l-.94 2.06-2.06.94zm10 10l.94 2.06.94-2.06 2.06-.94-2.06-.94-.94-2.06-.94 2.06-2.06.94z\"/><path d=\"M17.41 7.96l-1.37-1.37c-.4-.4-.92-.59-1.43-.59-.52 0-1.04.2-1.43.59L10.3 9.45l-7.72 7.72c-.78.78-.78 2.05 0 2.83L4 21.41c.39.39.9.59 1.41.59.51 0 1.02-.2 1.41-.59l7.78-7.78 2.81-2.81c.8-.78.8-2.07 0-2.86zM5.41 20L4 18.59l7.72-7.72 1.47 1.35L5.41 20z\"/>\n",
              "  </svg>\n",
              "      </button>\n",
              "      \n",
              "  <style>\n",
              "    .colab-df-container {\n",
              "      display:flex;\n",
              "      flex-wrap:wrap;\n",
              "      gap: 12px;\n",
              "    }\n",
              "\n",
              "    .colab-df-convert {\n",
              "      background-color: #E8F0FE;\n",
              "      border: none;\n",
              "      border-radius: 50%;\n",
              "      cursor: pointer;\n",
              "      display: none;\n",
              "      fill: #1967D2;\n",
              "      height: 32px;\n",
              "      padding: 0 0 0 0;\n",
              "      width: 32px;\n",
              "    }\n",
              "\n",
              "    .colab-df-convert:hover {\n",
              "      background-color: #E2EBFA;\n",
              "      box-shadow: 0px 1px 2px rgba(60, 64, 67, 0.3), 0px 1px 3px 1px rgba(60, 64, 67, 0.15);\n",
              "      fill: #174EA6;\n",
              "    }\n",
              "\n",
              "    [theme=dark] .colab-df-convert {\n",
              "      background-color: #3B4455;\n",
              "      fill: #D2E3FC;\n",
              "    }\n",
              "\n",
              "    [theme=dark] .colab-df-convert:hover {\n",
              "      background-color: #434B5C;\n",
              "      box-shadow: 0px 1px 3px 1px rgba(0, 0, 0, 0.15);\n",
              "      filter: drop-shadow(0px 1px 2px rgba(0, 0, 0, 0.3));\n",
              "      fill: #FFFFFF;\n",
              "    }\n",
              "  </style>\n",
              "\n",
              "      <script>\n",
              "        const buttonEl =\n",
              "          document.querySelector('#df-14a5da30-039d-4222-b3b9-60aa932c01a4 button.colab-df-convert');\n",
              "        buttonEl.style.display =\n",
              "          google.colab.kernel.accessAllowed ? 'block' : 'none';\n",
              "\n",
              "        async function convertToInteractive(key) {\n",
              "          const element = document.querySelector('#df-14a5da30-039d-4222-b3b9-60aa932c01a4');\n",
              "          const dataTable =\n",
              "            await google.colab.kernel.invokeFunction('convertToInteractive',\n",
              "                                                     [key], {});\n",
              "          if (!dataTable) return;\n",
              "\n",
              "          const docLinkHtml = 'Like what you see? Visit the ' +\n",
              "            '<a target=\"_blank\" href=https://colab.research.google.com/notebooks/data_table.ipynb>data table notebook</a>'\n",
              "            + ' to learn more about interactive tables.';\n",
              "          element.innerHTML = '';\n",
              "          dataTable['output_type'] = 'display_data';\n",
              "          await google.colab.output.renderOutput(dataTable, element);\n",
              "          const docLink = document.createElement('div');\n",
              "          docLink.innerHTML = docLinkHtml;\n",
              "          element.appendChild(docLink);\n",
              "        }\n",
              "      </script>\n",
              "    </div>\n",
              "  </div>\n",
              "  "
            ]
          },
          "metadata": {},
          "execution_count": 11
        }
      ]
    },
    {
      "cell_type": "markdown",
      "source": [
        "Terlihat bahwa pelanggan memiliki target chrun = No, harusnya pelanggan tersebut tergolong pelanggan Setia dan tidak mungkin memiliki tenure = 0 begitu juga MonthlyCharges = 0.\n",
        "\n",
        "Karena itu untuk pelanggan yang memiliki nilai tenure = 0, isi dengan rumus **TotalCharges/MonthlyCharges**.\n",
        "\n",
        "Sedangkan untuk pelanggan yang memiliki nilai MonthlyCharges = 0, isi dengan rumus **TotalCharges/tenure**.\n",
        "\n",
        "Jika tidak yakin apakah **TotalCharges = MonthlyCharges x tenure**, bisa dicek terlebih dahulu."
      ],
      "metadata": {
        "id": "EOk_0_itMIvh"
      }
    },
    {
      "cell_type": "code",
      "source": [
        "# Cek apakah TotalCharges = MonthlyCharges x tenure\n",
        "\n",
        "df_load['NewTotalCharges'] = df_load['tenure'] * df_load['MonthlyCharges']\n",
        "df_load['Perbandingan'] = df_load['NewTotalCharges'] - df_load['TotalCharges']\n",
        "\n",
        "df_load['NewTotalCharges'].astype('float')\n",
        "\n",
        "df_load[['tenure', 'MonthlyCharges', 'TotalCharges', 'NewTotalCharges', 'Perbandingan']]"
      ],
      "metadata": {
        "colab": {
          "base_uri": "https://localhost:8080/",
          "height": 423
        },
        "id": "1S43RmAJF83b",
        "outputId": "130ad542-d659-425a-9d42-eebed524a413"
      },
      "execution_count": null,
      "outputs": [
        {
          "output_type": "execute_result",
          "data": {
            "text/plain": [
              "      tenure  MonthlyCharges  TotalCharges  NewTotalCharges  Perbandingan\n",
              "0          1           29.85         29.85            29.85          0.00\n",
              "1         60           20.50       1198.80          1230.00         31.20\n",
              "2          5          104.10        541.90           520.50        -21.40\n",
              "3         72          115.50       8312.75          8316.00          3.25\n",
              "4         56           81.25       4620.40          4550.00        -70.40\n",
              "...      ...             ...           ...              ...           ...\n",
              "6945       1           44.75         44.75            44.75          0.00\n",
              "6946       1           70.15         70.15            70.15          0.00\n",
              "6947       1           85.55         85.55            85.55          0.00\n",
              "6948      72          117.15       8529.50          8434.80        -94.70\n",
              "6949      64           99.25       6549.45          6352.00       -197.45\n",
              "\n",
              "[6950 rows x 5 columns]"
            ],
            "text/html": [
              "\n",
              "  <div id=\"df-a7b2ca1d-5276-41fa-a8b5-31feb6e5b18b\">\n",
              "    <div class=\"colab-df-container\">\n",
              "      <div>\n",
              "<style scoped>\n",
              "    .dataframe tbody tr th:only-of-type {\n",
              "        vertical-align: middle;\n",
              "    }\n",
              "\n",
              "    .dataframe tbody tr th {\n",
              "        vertical-align: top;\n",
              "    }\n",
              "\n",
              "    .dataframe thead th {\n",
              "        text-align: right;\n",
              "    }\n",
              "</style>\n",
              "<table border=\"1\" class=\"dataframe\">\n",
              "  <thead>\n",
              "    <tr style=\"text-align: right;\">\n",
              "      <th></th>\n",
              "      <th>tenure</th>\n",
              "      <th>MonthlyCharges</th>\n",
              "      <th>TotalCharges</th>\n",
              "      <th>NewTotalCharges</th>\n",
              "      <th>Perbandingan</th>\n",
              "    </tr>\n",
              "  </thead>\n",
              "  <tbody>\n",
              "    <tr>\n",
              "      <th>0</th>\n",
              "      <td>1</td>\n",
              "      <td>29.85</td>\n",
              "      <td>29.85</td>\n",
              "      <td>29.85</td>\n",
              "      <td>0.00</td>\n",
              "    </tr>\n",
              "    <tr>\n",
              "      <th>1</th>\n",
              "      <td>60</td>\n",
              "      <td>20.50</td>\n",
              "      <td>1198.80</td>\n",
              "      <td>1230.00</td>\n",
              "      <td>31.20</td>\n",
              "    </tr>\n",
              "    <tr>\n",
              "      <th>2</th>\n",
              "      <td>5</td>\n",
              "      <td>104.10</td>\n",
              "      <td>541.90</td>\n",
              "      <td>520.50</td>\n",
              "      <td>-21.40</td>\n",
              "    </tr>\n",
              "    <tr>\n",
              "      <th>3</th>\n",
              "      <td>72</td>\n",
              "      <td>115.50</td>\n",
              "      <td>8312.75</td>\n",
              "      <td>8316.00</td>\n",
              "      <td>3.25</td>\n",
              "    </tr>\n",
              "    <tr>\n",
              "      <th>4</th>\n",
              "      <td>56</td>\n",
              "      <td>81.25</td>\n",
              "      <td>4620.40</td>\n",
              "      <td>4550.00</td>\n",
              "      <td>-70.40</td>\n",
              "    </tr>\n",
              "    <tr>\n",
              "      <th>...</th>\n",
              "      <td>...</td>\n",
              "      <td>...</td>\n",
              "      <td>...</td>\n",
              "      <td>...</td>\n",
              "      <td>...</td>\n",
              "    </tr>\n",
              "    <tr>\n",
              "      <th>6945</th>\n",
              "      <td>1</td>\n",
              "      <td>44.75</td>\n",
              "      <td>44.75</td>\n",
              "      <td>44.75</td>\n",
              "      <td>0.00</td>\n",
              "    </tr>\n",
              "    <tr>\n",
              "      <th>6946</th>\n",
              "      <td>1</td>\n",
              "      <td>70.15</td>\n",
              "      <td>70.15</td>\n",
              "      <td>70.15</td>\n",
              "      <td>0.00</td>\n",
              "    </tr>\n",
              "    <tr>\n",
              "      <th>6947</th>\n",
              "      <td>1</td>\n",
              "      <td>85.55</td>\n",
              "      <td>85.55</td>\n",
              "      <td>85.55</td>\n",
              "      <td>0.00</td>\n",
              "    </tr>\n",
              "    <tr>\n",
              "      <th>6948</th>\n",
              "      <td>72</td>\n",
              "      <td>117.15</td>\n",
              "      <td>8529.50</td>\n",
              "      <td>8434.80</td>\n",
              "      <td>-94.70</td>\n",
              "    </tr>\n",
              "    <tr>\n",
              "      <th>6949</th>\n",
              "      <td>64</td>\n",
              "      <td>99.25</td>\n",
              "      <td>6549.45</td>\n",
              "      <td>6352.00</td>\n",
              "      <td>-197.45</td>\n",
              "    </tr>\n",
              "  </tbody>\n",
              "</table>\n",
              "<p>6950 rows × 5 columns</p>\n",
              "</div>\n",
              "      <button class=\"colab-df-convert\" onclick=\"convertToInteractive('df-a7b2ca1d-5276-41fa-a8b5-31feb6e5b18b')\"\n",
              "              title=\"Convert this dataframe to an interactive table.\"\n",
              "              style=\"display:none;\">\n",
              "        \n",
              "  <svg xmlns=\"http://www.w3.org/2000/svg\" height=\"24px\"viewBox=\"0 0 24 24\"\n",
              "       width=\"24px\">\n",
              "    <path d=\"M0 0h24v24H0V0z\" fill=\"none\"/>\n",
              "    <path d=\"M18.56 5.44l.94 2.06.94-2.06 2.06-.94-2.06-.94-.94-2.06-.94 2.06-2.06.94zm-11 1L8.5 8.5l.94-2.06 2.06-.94-2.06-.94L8.5 2.5l-.94 2.06-2.06.94zm10 10l.94 2.06.94-2.06 2.06-.94-2.06-.94-.94-2.06-.94 2.06-2.06.94z\"/><path d=\"M17.41 7.96l-1.37-1.37c-.4-.4-.92-.59-1.43-.59-.52 0-1.04.2-1.43.59L10.3 9.45l-7.72 7.72c-.78.78-.78 2.05 0 2.83L4 21.41c.39.39.9.59 1.41.59.51 0 1.02-.2 1.41-.59l7.78-7.78 2.81-2.81c.8-.78.8-2.07 0-2.86zM5.41 20L4 18.59l7.72-7.72 1.47 1.35L5.41 20z\"/>\n",
              "  </svg>\n",
              "      </button>\n",
              "      \n",
              "  <style>\n",
              "    .colab-df-container {\n",
              "      display:flex;\n",
              "      flex-wrap:wrap;\n",
              "      gap: 12px;\n",
              "    }\n",
              "\n",
              "    .colab-df-convert {\n",
              "      background-color: #E8F0FE;\n",
              "      border: none;\n",
              "      border-radius: 50%;\n",
              "      cursor: pointer;\n",
              "      display: none;\n",
              "      fill: #1967D2;\n",
              "      height: 32px;\n",
              "      padding: 0 0 0 0;\n",
              "      width: 32px;\n",
              "    }\n",
              "\n",
              "    .colab-df-convert:hover {\n",
              "      background-color: #E2EBFA;\n",
              "      box-shadow: 0px 1px 2px rgba(60, 64, 67, 0.3), 0px 1px 3px 1px rgba(60, 64, 67, 0.15);\n",
              "      fill: #174EA6;\n",
              "    }\n",
              "\n",
              "    [theme=dark] .colab-df-convert {\n",
              "      background-color: #3B4455;\n",
              "      fill: #D2E3FC;\n",
              "    }\n",
              "\n",
              "    [theme=dark] .colab-df-convert:hover {\n",
              "      background-color: #434B5C;\n",
              "      box-shadow: 0px 1px 3px 1px rgba(0, 0, 0, 0.15);\n",
              "      filter: drop-shadow(0px 1px 2px rgba(0, 0, 0, 0.3));\n",
              "      fill: #FFFFFF;\n",
              "    }\n",
              "  </style>\n",
              "\n",
              "      <script>\n",
              "        const buttonEl =\n",
              "          document.querySelector('#df-a7b2ca1d-5276-41fa-a8b5-31feb6e5b18b button.colab-df-convert');\n",
              "        buttonEl.style.display =\n",
              "          google.colab.kernel.accessAllowed ? 'block' : 'none';\n",
              "\n",
              "        async function convertToInteractive(key) {\n",
              "          const element = document.querySelector('#df-a7b2ca1d-5276-41fa-a8b5-31feb6e5b18b');\n",
              "          const dataTable =\n",
              "            await google.colab.kernel.invokeFunction('convertToInteractive',\n",
              "                                                     [key], {});\n",
              "          if (!dataTable) return;\n",
              "\n",
              "          const docLinkHtml = 'Like what you see? Visit the ' +\n",
              "            '<a target=\"_blank\" href=https://colab.research.google.com/notebooks/data_table.ipynb>data table notebook</a>'\n",
              "            + ' to learn more about interactive tables.';\n",
              "          element.innerHTML = '';\n",
              "          dataTable['output_type'] = 'display_data';\n",
              "          await google.colab.output.renderOutput(dataTable, element);\n",
              "          const docLink = document.createElement('div');\n",
              "          docLink.innerHTML = docLinkHtml;\n",
              "          element.appendChild(docLink);\n",
              "        }\n",
              "      </script>\n",
              "    </div>\n",
              "  </div>\n",
              "  "
            ]
          },
          "metadata": {},
          "execution_count": 12
        }
      ]
    },
    {
      "cell_type": "code",
      "source": [
        "# Pelanggan yang memiliki nilai tenure = 0, isi dengan rumus TotalCharges/MonthlyCharges\n",
        "df_load[\"tenure\"].loc[df_load['tenure'] == 0] = df_load[\"TotalCharges\"] / df_load['MonthlyCharges']\n",
        "\n",
        "# Pelanggan yang memiliki nilai MonthlyCharges = 0, isi dengan rumus TotalCharges/tenure\n",
        "df_load[\"MonthlyCharges\"].loc[df_load['MonthlyCharges'] == 0] = df_load[\"TotalCharges\"] / df_load['tenure'] \n",
        "\n",
        "df_load.describe()"
      ],
      "metadata": {
        "colab": {
          "base_uri": "https://localhost:8080/",
          "height": 391
        },
        "id": "LVunStHSBtFM",
        "outputId": "385d5ca7-29b5-436d-92f5-ade03fe982ce"
      },
      "execution_count": null,
      "outputs": [
        {
          "output_type": "stream",
          "name": "stderr",
          "text": [
            "/usr/local/lib/python3.8/dist-packages/pandas/core/indexing.py:1732: SettingWithCopyWarning: \n",
            "A value is trying to be set on a copy of a slice from a DataFrame\n",
            "\n",
            "See the caveats in the documentation: https://pandas.pydata.org/pandas-docs/stable/user_guide/indexing.html#returning-a-view-versus-a-copy\n",
            "  self._setitem_single_block(indexer, value, name)\n"
          ]
        },
        {
          "output_type": "execute_result",
          "data": {
            "text/plain": [
              "       UpdatedAt    customerID       tenure  MonthlyCharges  TotalCharges  \\\n",
              "count     6950.0  6.950000e+03  6950.000000     6950.000000   6950.000000   \n",
              "mean    202006.0  4.549898e+10    32.495291       64.994948   2286.058750   \n",
              "std          0.0  2.854091e+08    24.568520       30.026966   2265.702553   \n",
              "min     202006.0  4.500026e+10     1.000000       18.550000     19.000000   \n",
              "25%     202006.0  4.525607e+10     9.000000       36.462500    406.975000   \n",
              "50%     202006.0  4.549871e+10    29.000000       70.450000   1400.850000   \n",
              "75%     202006.0  4.574384e+10    55.815089       89.850000   3799.837500   \n",
              "max     202006.0  4.599959e+10   124.000000      169.931250   8889.131250   \n",
              "\n",
              "       NewTotalCharges  Perbandingan  \n",
              "count      6950.000000   6950.000000  \n",
              "mean       2289.650848      3.592098  \n",
              "std        2272.728558    167.468285  \n",
              "min           0.000000  -1400.850000  \n",
              "25%         399.700000    -28.900000  \n",
              "50%        1399.475000      0.000000  \n",
              "75%        3800.337500     29.337500  \n",
              "max       12235.050000   4923.800000  "
            ],
            "text/html": [
              "\n",
              "  <div id=\"df-4d5cb463-dadc-442b-89d4-4bd83664291a\">\n",
              "    <div class=\"colab-df-container\">\n",
              "      <div>\n",
              "<style scoped>\n",
              "    .dataframe tbody tr th:only-of-type {\n",
              "        vertical-align: middle;\n",
              "    }\n",
              "\n",
              "    .dataframe tbody tr th {\n",
              "        vertical-align: top;\n",
              "    }\n",
              "\n",
              "    .dataframe thead th {\n",
              "        text-align: right;\n",
              "    }\n",
              "</style>\n",
              "<table border=\"1\" class=\"dataframe\">\n",
              "  <thead>\n",
              "    <tr style=\"text-align: right;\">\n",
              "      <th></th>\n",
              "      <th>UpdatedAt</th>\n",
              "      <th>customerID</th>\n",
              "      <th>tenure</th>\n",
              "      <th>MonthlyCharges</th>\n",
              "      <th>TotalCharges</th>\n",
              "      <th>NewTotalCharges</th>\n",
              "      <th>Perbandingan</th>\n",
              "    </tr>\n",
              "  </thead>\n",
              "  <tbody>\n",
              "    <tr>\n",
              "      <th>count</th>\n",
              "      <td>6950.0</td>\n",
              "      <td>6.950000e+03</td>\n",
              "      <td>6950.000000</td>\n",
              "      <td>6950.000000</td>\n",
              "      <td>6950.000000</td>\n",
              "      <td>6950.000000</td>\n",
              "      <td>6950.000000</td>\n",
              "    </tr>\n",
              "    <tr>\n",
              "      <th>mean</th>\n",
              "      <td>202006.0</td>\n",
              "      <td>4.549898e+10</td>\n",
              "      <td>32.495291</td>\n",
              "      <td>64.994948</td>\n",
              "      <td>2286.058750</td>\n",
              "      <td>2289.650848</td>\n",
              "      <td>3.592098</td>\n",
              "    </tr>\n",
              "    <tr>\n",
              "      <th>std</th>\n",
              "      <td>0.0</td>\n",
              "      <td>2.854091e+08</td>\n",
              "      <td>24.568520</td>\n",
              "      <td>30.026966</td>\n",
              "      <td>2265.702553</td>\n",
              "      <td>2272.728558</td>\n",
              "      <td>167.468285</td>\n",
              "    </tr>\n",
              "    <tr>\n",
              "      <th>min</th>\n",
              "      <td>202006.0</td>\n",
              "      <td>4.500026e+10</td>\n",
              "      <td>1.000000</td>\n",
              "      <td>18.550000</td>\n",
              "      <td>19.000000</td>\n",
              "      <td>0.000000</td>\n",
              "      <td>-1400.850000</td>\n",
              "    </tr>\n",
              "    <tr>\n",
              "      <th>25%</th>\n",
              "      <td>202006.0</td>\n",
              "      <td>4.525607e+10</td>\n",
              "      <td>9.000000</td>\n",
              "      <td>36.462500</td>\n",
              "      <td>406.975000</td>\n",
              "      <td>399.700000</td>\n",
              "      <td>-28.900000</td>\n",
              "    </tr>\n",
              "    <tr>\n",
              "      <th>50%</th>\n",
              "      <td>202006.0</td>\n",
              "      <td>4.549871e+10</td>\n",
              "      <td>29.000000</td>\n",
              "      <td>70.450000</td>\n",
              "      <td>1400.850000</td>\n",
              "      <td>1399.475000</td>\n",
              "      <td>0.000000</td>\n",
              "    </tr>\n",
              "    <tr>\n",
              "      <th>75%</th>\n",
              "      <td>202006.0</td>\n",
              "      <td>4.574384e+10</td>\n",
              "      <td>55.815089</td>\n",
              "      <td>89.850000</td>\n",
              "      <td>3799.837500</td>\n",
              "      <td>3800.337500</td>\n",
              "      <td>29.337500</td>\n",
              "    </tr>\n",
              "    <tr>\n",
              "      <th>max</th>\n",
              "      <td>202006.0</td>\n",
              "      <td>4.599959e+10</td>\n",
              "      <td>124.000000</td>\n",
              "      <td>169.931250</td>\n",
              "      <td>8889.131250</td>\n",
              "      <td>12235.050000</td>\n",
              "      <td>4923.800000</td>\n",
              "    </tr>\n",
              "  </tbody>\n",
              "</table>\n",
              "</div>\n",
              "      <button class=\"colab-df-convert\" onclick=\"convertToInteractive('df-4d5cb463-dadc-442b-89d4-4bd83664291a')\"\n",
              "              title=\"Convert this dataframe to an interactive table.\"\n",
              "              style=\"display:none;\">\n",
              "        \n",
              "  <svg xmlns=\"http://www.w3.org/2000/svg\" height=\"24px\"viewBox=\"0 0 24 24\"\n",
              "       width=\"24px\">\n",
              "    <path d=\"M0 0h24v24H0V0z\" fill=\"none\"/>\n",
              "    <path d=\"M18.56 5.44l.94 2.06.94-2.06 2.06-.94-2.06-.94-.94-2.06-.94 2.06-2.06.94zm-11 1L8.5 8.5l.94-2.06 2.06-.94-2.06-.94L8.5 2.5l-.94 2.06-2.06.94zm10 10l.94 2.06.94-2.06 2.06-.94-2.06-.94-.94-2.06-.94 2.06-2.06.94z\"/><path d=\"M17.41 7.96l-1.37-1.37c-.4-.4-.92-.59-1.43-.59-.52 0-1.04.2-1.43.59L10.3 9.45l-7.72 7.72c-.78.78-.78 2.05 0 2.83L4 21.41c.39.39.9.59 1.41.59.51 0 1.02-.2 1.41-.59l7.78-7.78 2.81-2.81c.8-.78.8-2.07 0-2.86zM5.41 20L4 18.59l7.72-7.72 1.47 1.35L5.41 20z\"/>\n",
              "  </svg>\n",
              "      </button>\n",
              "      \n",
              "  <style>\n",
              "    .colab-df-container {\n",
              "      display:flex;\n",
              "      flex-wrap:wrap;\n",
              "      gap: 12px;\n",
              "    }\n",
              "\n",
              "    .colab-df-convert {\n",
              "      background-color: #E8F0FE;\n",
              "      border: none;\n",
              "      border-radius: 50%;\n",
              "      cursor: pointer;\n",
              "      display: none;\n",
              "      fill: #1967D2;\n",
              "      height: 32px;\n",
              "      padding: 0 0 0 0;\n",
              "      width: 32px;\n",
              "    }\n",
              "\n",
              "    .colab-df-convert:hover {\n",
              "      background-color: #E2EBFA;\n",
              "      box-shadow: 0px 1px 2px rgba(60, 64, 67, 0.3), 0px 1px 3px 1px rgba(60, 64, 67, 0.15);\n",
              "      fill: #174EA6;\n",
              "    }\n",
              "\n",
              "    [theme=dark] .colab-df-convert {\n",
              "      background-color: #3B4455;\n",
              "      fill: #D2E3FC;\n",
              "    }\n",
              "\n",
              "    [theme=dark] .colab-df-convert:hover {\n",
              "      background-color: #434B5C;\n",
              "      box-shadow: 0px 1px 3px 1px rgba(0, 0, 0, 0.15);\n",
              "      filter: drop-shadow(0px 1px 2px rgba(0, 0, 0, 0.3));\n",
              "      fill: #FFFFFF;\n",
              "    }\n",
              "  </style>\n",
              "\n",
              "      <script>\n",
              "        const buttonEl =\n",
              "          document.querySelector('#df-4d5cb463-dadc-442b-89d4-4bd83664291a button.colab-df-convert');\n",
              "        buttonEl.style.display =\n",
              "          google.colab.kernel.accessAllowed ? 'block' : 'none';\n",
              "\n",
              "        async function convertToInteractive(key) {\n",
              "          const element = document.querySelector('#df-4d5cb463-dadc-442b-89d4-4bd83664291a');\n",
              "          const dataTable =\n",
              "            await google.colab.kernel.invokeFunction('convertToInteractive',\n",
              "                                                     [key], {});\n",
              "          if (!dataTable) return;\n",
              "\n",
              "          const docLinkHtml = 'Like what you see? Visit the ' +\n",
              "            '<a target=\"_blank\" href=https://colab.research.google.com/notebooks/data_table.ipynb>data table notebook</a>'\n",
              "            + ' to learn more about interactive tables.';\n",
              "          element.innerHTML = '';\n",
              "          dataTable['output_type'] = 'display_data';\n",
              "          await google.colab.output.renderOutput(dataTable, element);\n",
              "          const docLink = document.createElement('div');\n",
              "          docLink.innerHTML = docLinkHtml;\n",
              "          element.appendChild(docLink);\n",
              "        }\n",
              "      </script>\n",
              "    </div>\n",
              "  </div>\n",
              "  "
            ]
          },
          "metadata": {},
          "execution_count": 13
        }
      ]
    },
    {
      "cell_type": "markdown",
      "source": [
        "Terdapat 6950 data pelanggan unik dengan tenure rata-rata masa berlangganan pelanggan adalah 32.49 bulan dengan paling sebentar adalah 1 bulan dan paling lama 124 bulan. Lalu, untuk kolom MonthlyCharges rata-rata pelanggan menghabiskan biaya 64.99 dolar/bulan dengan paling murah adalah 18.55 dolar/bulan dan paling mahal 169.93 dolar/bulan. Selanjutnya, untuk kolom TotalCharges rata-rata pelanggan menghabiskan 2286.05 dollar dengan paling murahnya adalah 19 dolar dan paling mahalnya adalah 8889.13 dolar."
      ],
      "metadata": {
        "id": "S69EHJL5OTbp"
      }
    },
    {
      "cell_type": "markdown",
      "metadata": {
        "id": "ZUDTI4RbCWcM"
      },
      "source": [
        "## Menghapus variabel-variabel yang tidak dibutuhkan (unnecessary variables) untuk pemodelan"
      ]
    },
    {
      "cell_type": "code",
      "execution_count": null,
      "metadata": {
        "colab": {
          "base_uri": "https://localhost:8080/"
        },
        "id": "ogh8nlN1CWcN",
        "outputId": "dfc16046-9787-4e60-e18a-220b738d55bd"
      },
      "outputs": [
        {
          "output_type": "stream",
          "name": "stdout",
          "text": [
            "   gender SeniorCitizen Partner  tenure PhoneService StreamingTV  \\\n",
            "0  Female            No     Yes     1.0           No          No   \n",
            "1    Male            No     Yes    60.0          Yes          No   \n",
            "2    Male            No      No     5.0          Yes         Yes   \n",
            "3  Female            No     Yes    72.0          Yes         Yes   \n",
            "4  Female            No     Yes    56.0          Yes         Yes   \n",
            "\n",
            "  InternetService PaperlessBilling  MonthlyCharges  TotalCharges Churn  \\\n",
            "0             Yes              Yes           29.85         29.85    No   \n",
            "1              No              Yes           20.50       1198.80    No   \n",
            "2             Yes               No          104.10        541.90   Yes   \n",
            "3             Yes              Yes          115.50       8312.75    No   \n",
            "4             Yes               No           81.25       4620.40    No   \n",
            "\n",
            "   NewTotalCharges  Perbandingan  \n",
            "0            29.85          0.00  \n",
            "1          1230.00         31.20  \n",
            "2           520.50        -21.40  \n",
            "3          8316.00          3.25  \n",
            "4          4550.00        -70.40  \n"
          ]
        }
      ],
      "source": [
        "# hapus variabel customerID dan UpdatedAt dari dataset\n",
        "cleaned_df = df_load.drop(['customerID', 'UpdatedAt'], axis=1)\n",
        "print(cleaned_df.head())"
      ]
    },
    {
      "cell_type": "markdown",
      "metadata": {
        "id": "oFiYYPsxCWcN"
      },
      "source": [
        "## Label Encoding data\n",
        "\n",
        "Langkah selanjutnya adalah mengubah nilai dari data untuk fitur-fitur layanan menjadi hanya ‘Yes’ dan ‘No’ atau representasi boolean numeriknya yakni 1 dan 0. \n",
        "\n",
        "Kemudian, fitur Churn juga perlu direpresentasikan sebagai boolean numerik yakni 1 dan 0, agar mudah dilakukan analisis. Walaupun bentuk datanya berupa angka numerik 1 dan 0, tetapi tipe datanya tetaplah Nominal. \n",
        "\n",
        "Untuk mengubah nilai tersebut, buat dataframe baru sebagai copy dari data yang variabel data_load agar tidak mengubah fitur yang ada pada data yang asli."
      ]
    },
    {
      "cell_type": "code",
      "execution_count": null,
      "metadata": {
        "colab": {
          "base_uri": "https://localhost:8080/"
        },
        "id": "9wDIubhCCWcO",
        "outputId": "71bba398-eb35-4e81-fae6-8921c19e5e3f"
      },
      "outputs": [
        {
          "output_type": "stream",
          "name": "stdout",
          "text": [
            "      gender  SeniorCitizen  Partner  tenure  PhoneService  StreamingTV  \\\n",
            "0          0              0        1     1.0             0            0   \n",
            "1          1              0        1    60.0             1            0   \n",
            "2          1              0        0     5.0             1            1   \n",
            "3          0              0        1    72.0             1            1   \n",
            "4          0              0        1    56.0             1            1   \n",
            "...      ...            ...      ...     ...           ...          ...   \n",
            "6945       1              0        0     1.0             1            0   \n",
            "6946       0              1        0     1.0             1            0   \n",
            "6947       0              0        0     1.0             1            1   \n",
            "6948       0              0        1    72.0             1            1   \n",
            "6949       1              0        0    64.0             1            0   \n",
            "\n",
            "      InternetService  PaperlessBilling  MonthlyCharges  TotalCharges  Churn  \\\n",
            "0                   1                 1           29.85         29.85      0   \n",
            "1                   0                 1           20.50       1198.80      0   \n",
            "2                   1                 0          104.10        541.90      1   \n",
            "3                   1                 1          115.50       8312.75      0   \n",
            "4                   1                 0           81.25       4620.40      0   \n",
            "...               ...               ...             ...           ...    ...   \n",
            "6945                1                 1           44.75         44.75      0   \n",
            "6946                1                 1           70.15         70.15      1   \n",
            "6947                1                 1           85.55         85.55      1   \n",
            "6948                1                 1          117.15       8529.50      0   \n",
            "6949                1                 0           99.25       6549.45      0   \n",
            "\n",
            "      NewTotalCharges  Perbandingan  \n",
            "0               29.85          0.00  \n",
            "1             1230.00         31.20  \n",
            "2              520.50        -21.40  \n",
            "3             8316.00          3.25  \n",
            "4             4550.00        -70.40  \n",
            "...               ...           ...  \n",
            "6945            44.75          0.00  \n",
            "6946            70.15          0.00  \n",
            "6947            85.55          0.00  \n",
            "6948          8434.80        -94.70  \n",
            "6949          6352.00       -197.45  \n",
            "\n",
            "[6950 rows x 13 columns]\n"
          ]
        },
        {
          "output_type": "stream",
          "name": "stderr",
          "text": [
            "<ipython-input-15-51795edc2954>:4: DeprecationWarning: Converting `np.inexact` or `np.floating` to a dtype is deprecated. The current result is `float64` which is not strictly correct.\n",
            "  if cleaned_df[column].dtype == np.number: continue\n"
          ]
        }
      ],
      "source": [
        "from sklearn.preprocessing import LabelEncoder\n",
        "#konversi semua variabel tipe non-numerikal ke tipe numerikal  \n",
        "for column in cleaned_df.columns:\n",
        "    if cleaned_df[column].dtype == np.number: continue\n",
        "    #terapkan encoding pada tiap variabel non-numerikal\n",
        "    cleaned_df[column] = LabelEncoder().fit_transform(cleaned_df[column])\n",
        "print(cleaned_df)"
      ]
    },
    {
      "cell_type": "markdown",
      "metadata": {
        "id": "_FbdOyZ3CWcO"
      },
      "source": [
        "## Splitting data (Memisahkan data train dan data test)"
      ]
    },
    {
      "cell_type": "markdown",
      "source": [
        "Dataset yang kita gunakan untuk pemodelan yaitu terbagi menjadi 2 tipe, data train dan data test. Pada kasus ini saya membagi data 70% untuk data train dan 30% untuk data test. Dimana variabel x sebagai predictor dan variabel y sebagai targetnya."
      ],
      "metadata": {
        "id": "-i4Y_0dnYrul"
      }
    },
    {
      "cell_type": "code",
      "execution_count": null,
      "metadata": {
        "colab": {
          "base_uri": "https://localhost:8080/"
        },
        "id": "GoP_oU6jCWcS",
        "outputId": "5b75e139-420d-4039-f4fb-95f2e75c79a8"
      },
      "outputs": [
        {
          "output_type": "stream",
          "name": "stdout",
          "text": [
            "Jumlah baris dan kolom dari x_train adalah:  (4865, 12) , sedangkan Jumlah baris dan kolom dari y_train adalah: (4865,)\n",
            "Persentase Churn di data Training adalah:\n",
            "0    0.734841\n",
            "1    0.265159\n",
            "Name: Churn, dtype: float64\n",
            "Jumlah baris dan kolom dari x_test adalah: (2085, 12) , sedangkan Jumlah baris dan kolom dari y_test adalah: (2085,)\n",
            "Persentase Churn di data Testing adalah:\n",
            "0    0.738129\n",
            "1    0.261871\n",
            "Name: Churn, dtype: float64\n"
          ]
        }
      ],
      "source": [
        "from sklearn.model_selection import train_test_split\n",
        "\n",
        "# Predictor -> X dan target -> y\n",
        "X = cleaned_df.drop('Churn', axis = 1)\n",
        "y = cleaned_df['Churn']\n",
        "\n",
        "# Splitting data train dan data test\n",
        "x_train, x_test, y_train, y_test = train_test_split(X, y, test_size = 0.3, random_state=42)\n",
        "\n",
        "# Print deskripsi\n",
        "print('Jumlah baris dan kolom dari x_train adalah: ', x_train.shape, ', sedangkan Jumlah baris dan kolom dari y_train adalah:', y_train.shape)\n",
        "print('Persentase Churn di data Training adalah:')\n",
        "print(y_train.value_counts(normalize=True))\n",
        "print('Jumlah baris dan kolom dari x_test adalah:', x_test.shape, ', sedangkan Jumlah baris dan kolom dari y_test adalah:', y_test.shape)\n",
        "print('Persentase Churn di data Testing adalah:')\n",
        "print(y_test.value_counts(normalize=True))"
      ]
    },
    {
      "cell_type": "markdown",
      "metadata": {
        "id": "XZNXZSh4CWcU"
      },
      "source": [
        "# **Pemodelan Data Mining untuk Prediksi dan Klasifikasi**"
      ]
    },
    {
      "cell_type": "markdown",
      "metadata": {
        "id": "6-tDoCl7CWcV"
      },
      "source": [
        "## a. Pemodelan dengan metode Logistic Regression"
      ]
    },
    {
      "cell_type": "markdown",
      "source": [
        "Model machine learning yang pertama digunakan yaitu Logistic Regression. Logistic Regression ini metode yang biasa digunakan untuk memprediksi probabilitas suatu kejadian atau dapat disebut dengan penentuan regresi binomial. Terminologi ‘Binomial’ disini diartikan bahwa hanya ada 2 kemungkinan yang menjadi hasil output dari model machine learning yang akan dibangun. Model Logistic Regression ini kita terapkan pada output variabel Churn yang hanya berisi 1 (ya, churn) atau 0 (tidak). "
      ],
      "metadata": {
        "id": "Q81ki56AZR1e"
      }
    },
    {
      "cell_type": "code",
      "execution_count": null,
      "metadata": {
        "colab": {
          "base_uri": "https://localhost:8080/"
        },
        "id": "jpln0NgpCWcX",
        "outputId": "7334c748-b3b3-4e00-efc8-870a73bfddb7"
      },
      "outputs": [
        {
          "output_type": "stream",
          "name": "stdout",
          "text": [
            "Model Logistic Regression yang terbentuk adalah: \n",
            " LogisticRegression()\n"
          ]
        }
      ],
      "source": [
        "from sklearn.linear_model import LogisticRegression\n",
        "log_model = LogisticRegression().fit(x_train, y_train)\n",
        "print('Model Logistic Regression yang terbentuk adalah: \\n',log_model)"
      ]
    },
    {
      "cell_type": "markdown",
      "source": [
        "Performa Pada Data Training.\n",
        "\n",
        "Setelah model dibuat, maka lakukan perhitungan untuk memperoleh classification report dan confusion matrix dari data train dengan source code dan hasil di bawah ini. Gunakan classification_report() & confusion_matrix()."
      ],
      "metadata": {
        "id": "2qdJjk16ZcIw"
      }
    },
    {
      "cell_type": "code",
      "execution_count": null,
      "metadata": {
        "colab": {
          "base_uri": "https://localhost:8080/"
        },
        "id": "85W_ItBTCWcZ",
        "outputId": "928d4019-ebc5-4bd9-b47e-889daefa9d27"
      },
      "outputs": [
        {
          "output_type": "stream",
          "name": "stdout",
          "text": [
            "Classification Report Training Model (Logistic Regression) :\n",
            "              precision    recall  f1-score   support\n",
            "\n",
            "           0       0.84      0.86      0.85      3575\n",
            "           1       0.59      0.55      0.57      1290\n",
            "\n",
            "    accuracy                           0.78      4865\n",
            "   macro avg       0.72      0.71      0.71      4865\n",
            "weighted avg       0.78      0.78      0.78      4865\n",
            "\n"
          ]
        }
      ],
      "source": [
        "#Menampilkan hasil training dengan confusion matrix\n",
        "from sklearn.metrics import classification_report\n",
        "# Predict\n",
        "y_train_pred = log_model.predict(x_train)\n",
        "# Print classification report \n",
        "print('Classification Report Training Model (Logistic Regression) :')\n",
        "print(classification_report(y_train, y_train_pred))"
      ]
    },
    {
      "cell_type": "markdown",
      "source": [
        "Dari data training dapat dilihat bahwa model mampu memprediksi data dengan tingkat akurasi sebesar 80%, dengan detail prediksi Churn yang sebenarnya Churn adalah 640, prediksi tidak Churn yang sebenarnya tidak Churn adalah 3237, prediksi tidak Churn yang sebenarnya Churn adalah 650 dan prediksi churn yang sebenarnya tidak churn adalah 338."
      ],
      "metadata": {
        "id": "vSHDCzMgZuY3"
      }
    },
    {
      "cell_type": "code",
      "execution_count": null,
      "metadata": {
        "colab": {
          "base_uri": "https://localhost:8080/",
          "height": 328
        },
        "id": "mIIWD8eoCWca",
        "outputId": "12f9a15f-67e3-4e8c-b850-8fdcc8124eb0"
      },
      "outputs": [
        {
          "output_type": "display_data",
          "data": {
            "text/plain": [
              "<Figure size 432x288 with 2 Axes>"
            ],
            "image/png": "[encoded data removed]"
          },
          "metadata": {
            "needs_background": "light"
          }
        }
      ],
      "source": [
        "#Menampilkan hasil training model dengan visualisasi heatmap dari confusion matrix \n",
        "confusion_matrix_df = pd.DataFrame((confusion_matrix(y_train, y_train_pred)), ('No churn', 'Churn'), ('No churn', 'Churn'))\n",
        "\n",
        "# Plot confusion matrix\n",
        "plt.figure()\n",
        "heatmap = sns.heatmap(confusion_matrix_df, annot=True, annot_kws={'size': 14}, fmt='d', cmap='YlGnBu')\n",
        "heatmap.yaxis.set_ticklabels(heatmap.yaxis.get_ticklabels(), rotation=0, ha='right', fontsize=14)\n",
        "heatmap.xaxis.set_ticklabels(heatmap.xaxis.get_ticklabels(), rotation=0, ha='right', fontsize=14)\n",
        "\n",
        "plt.title('Confusion Matrix untuk Training Model\\n(Logistic Regression)', fontsize=18, color='darkblue')\n",
        "plt.ylabel('True label', fontsize=14)\n",
        "plt.xlabel('Predicted label', fontsize=14)\n",
        "plt.show()"
      ]
    },
    {
      "cell_type": "markdown",
      "source": [
        "Performa Model pada Data Test\n",
        "\n",
        "Lakukan perhitungan untuk memperoleh classification report dan confusion matrix juga pada data test dengan source code dan hasil di bawah ini. Gunakan classification_report() & confusion_matrix()."
      ],
      "metadata": {
        "id": "zPDWxOqCZ2il"
      }
    },
    {
      "cell_type": "code",
      "execution_count": null,
      "metadata": {
        "colab": {
          "base_uri": "https://localhost:8080/"
        },
        "id": "slc21j_nCWcb",
        "outputId": "8da74591-9aef-49f5-b690-b15fd7bf6071"
      },
      "outputs": [
        {
          "output_type": "stream",
          "name": "stdout",
          "text": [
            "Classification Report Testing Model (Logistic Regression):\n",
            "              precision    recall  f1-score   support\n",
            "\n",
            "           0       0.84      0.87      0.86      1539\n",
            "           1       0.60      0.53      0.56       546\n",
            "\n",
            "    accuracy                           0.78      2085\n",
            "   macro avg       0.72      0.70      0.71      2085\n",
            "weighted avg       0.78      0.78      0.78      2085\n",
            "\n"
          ]
        }
      ],
      "source": [
        "#Menampilkan hasil testing model dengan confusion matrix\n",
        "# Predict\n",
        "y_test_pred = log_model.predict(x_test)\n",
        "# Print classification report\n",
        "print('Classification Report Testing Model (Logistic Regression):')\n",
        "print(classification_report(y_test, y_test_pred))"
      ]
    },
    {
      "cell_type": "markdown",
      "source": [
        "Dari data testing dapat dilihat bahwa model mampu memprediksi data dengan tingkat akurasi sebesar 79%, dengan detail prediksi Churn yang sebenarnya churn adalah 264, prediksi tidak Churn yang sebenarnya tidak Churn adalah 1393, prediksi tidak churn yang sebenarnya Churn adalah 282 dan prediksi Churn yang sebenarnya tidak Churn adalah 146."
      ],
      "metadata": {
        "id": "s7ajJpQjZ43H"
      }
    },
    {
      "cell_type": "code",
      "execution_count": null,
      "metadata": {
        "colab": {
          "base_uri": "https://localhost:8080/",
          "height": 349
        },
        "id": "IvNmT2hqCWcc",
        "outputId": "a712777c-5ff3-4610-95fd-5dfade34d1f6"
      },
      "outputs": [
        {
          "output_type": "display_data",
          "data": {
            "text/plain": [
              "<Figure size 432x288 with 2 Axes>"
            ],
            "image/png": "[encoded data removed]"
          },
          "metadata": {
            "needs_background": "light"
          }
        }
      ],
      "source": [
        "#Menampilkan hasil testing model dengan visualisasi heatmap dari confusion matrix \n",
        "confusion_matrix_df = pd.DataFrame((confusion_matrix(y_test, y_test_pred)), ('No churn', 'Churn'), ('No churn', 'Churn'))\n",
        "\n",
        "# Plot confusion matrix\n",
        "plt.figure()\n",
        "heatmap = sns.heatmap(confusion_matrix_df, annot=True, annot_kws={'size': 14}, fmt='d', cmap='YlGnBu')\n",
        "heatmap.yaxis.set_ticklabels(heatmap.yaxis.get_ticklabels(), rotation=0, ha='right', fontsize=14)\n",
        "heatmap.xaxis.set_ticklabels(heatmap.xaxis.get_ticklabels(), rotation=0, ha='right', fontsize=14)\n",
        "\n",
        "plt.title('Confusion Matrix untuk Testing Model\\n(Logistic Regression)\\n', fontsize=18, color='darkblue')\n",
        "plt.ylabel('True label', fontsize=14)\n",
        "plt.xlabel('Predicted label', fontsize=14)\n",
        "plt.show()"
      ]
    },
    {
      "cell_type": "markdown",
      "metadata": {
        "id": "9kRjv89BCWcd"
      },
      "source": [
        "## b. Pemodelan dengan metode Random Forest\n",
        "\n",
        "Random Forest sebagai gabungan dari Decision Tree. Jumlah decision tree akan mempengaruhi akurasi random forest secara keseluruhan."
      ]
    },
    {
      "cell_type": "markdown",
      "source": [
        "Performa Model pada Data Train\n",
        "\n",
        "Setelah model dibuat, maka lakukan perhitungan untuk memperoleh classification report dan confusion matrix dari data train dengan source code dan hasil di bawah ini. Gunakan classification_report() & confusion_matrix()."
      ],
      "metadata": {
        "id": "AGmV-hkb4i_P"
      }
    },
    {
      "cell_type": "code",
      "execution_count": null,
      "metadata": {
        "colab": {
          "base_uri": "https://localhost:8080/"
        },
        "id": "a6MZg_37CWcd",
        "outputId": "769f0442-5f03-4caa-c0c7-30ecaf599ace"
      },
      "outputs": [
        {
          "output_type": "stream",
          "name": "stdout",
          "text": [
            "RandomForestClassifier()\n"
          ]
        }
      ],
      "source": [
        "from sklearn.ensemble import RandomForestClassifier\n",
        "\n",
        "# Latih model dengan RandomForestClassifier()\n",
        "rdf_model = RandomForestClassifier().fit(x_train, y_train)\n",
        "print(rdf_model)"
      ]
    },
    {
      "cell_type": "code",
      "execution_count": null,
      "metadata": {
        "colab": {
          "base_uri": "https://localhost:8080/"
        },
        "id": "xJ_v4KGUCWcg",
        "outputId": "1115f8df-fbb9-4039-9a49-459b362fcb01"
      },
      "outputs": [
        {
          "output_type": "stream",
          "name": "stdout",
          "text": [
            "Classification Report Training Model (Random Forest) :\n",
            "              precision    recall  f1-score   support\n",
            "\n",
            "           0       1.00      1.00      1.00      3575\n",
            "           1       1.00      0.99      0.99      1290\n",
            "\n",
            "    accuracy                           1.00      4865\n",
            "   macro avg       1.00      0.99      0.99      4865\n",
            "weighted avg       1.00      1.00      1.00      4865\n",
            "\n"
          ]
        }
      ],
      "source": [
        "# Menampilkan hasil training dengan confusion matrix\n",
        "from sklearn.metrics import classification_report\n",
        "\n",
        "# Predict\n",
        "y_train_pred = rdf_model.predict(x_train)\n",
        "\n",
        "# Print classification report \n",
        "print('Classification Report Training Model (Random Forest) :')\n",
        "print(classification_report(y_train, y_train_pred))"
      ]
    },
    {
      "cell_type": "markdown",
      "source": [
        "Dari data training dapat dilihat bahwa model mampu memprediksi data dengan tingkat akurasi sempurna 100%, dengan detail prediksi Churn yang sebenarnya Churn adalah 1276, prediksi tidak Churn yang sebenarnya tidak Churn adalah 3568, prediksi tidak Churn yang sebenarnya Churn adalah 14 dan prediksi churn yang sebenarnya tidak churn adalah 7."
      ],
      "metadata": {
        "id": "rOxTDkvw48AU"
      }
    },
    {
      "cell_type": "code",
      "execution_count": null,
      "metadata": {
        "colab": {
          "base_uri": "https://localhost:8080/",
          "height": 328
        },
        "id": "fEfAjTLHCWch",
        "outputId": "8484e367-e990-46f9-81cb-d31618974c78"
      },
      "outputs": [
        {
          "output_type": "display_data",
          "data": {
            "text/plain": [
              "<Figure size 432x288 with 2 Axes>"
            ],
            "image/png": "[encoded data removed]"
          },
          "metadata": {
            "needs_background": "light"
          }
        }
      ],
      "source": [
        "#Menampilkan hasil training model dengan visualisasi heatmap dari confusion matrix \n",
        "confusion_matrix_df = pd.DataFrame((confusion_matrix(y_train, y_train_pred)), ('No churn', 'Churn'), ('No churn', 'Churn'))\n",
        "\n",
        "# Plot confusion matrix\n",
        "plt.figure()\n",
        "heatmap = sns.heatmap(confusion_matrix_df, annot=True, annot_kws = {'size': 14}, fmt = 'd', cmap = 'YlGnBu')\n",
        "heatmap.yaxis.set_ticklabels(heatmap.yaxis.get_ticklabels(), rotation = 0, ha = 'right', fontsize = 14)\n",
        "heatmap.xaxis.set_ticklabels(heatmap.xaxis.get_ticklabels(), rotation = 0, ha = 'right', fontsize = 14)\n",
        "\n",
        "plt.title('Confusion Matrix untuk Training Model\\n(Random Forest)', fontsize = 18, color = 'darkblue')\n",
        "plt.ylabel('True label', fontsize=14)\n",
        "plt.xlabel('Predicted label', fontsize=14)\n",
        "plt.show()"
      ]
    },
    {
      "cell_type": "markdown",
      "source": [
        "Performa Model pada Data Test\n",
        "\n",
        "Lakukan perhitungan untuk memperoleh classification report dan confusion matrix juga pada data test dengan source code dan hasil di bawah ini. Gunakan classification_report() & confusion_matrix()."
      ],
      "metadata": {
        "id": "yWd6K26R51R0"
      }
    },
    {
      "cell_type": "code",
      "execution_count": null,
      "metadata": {
        "colab": {
          "base_uri": "https://localhost:8080/"
        },
        "id": "6VaZLpY4CWci",
        "outputId": "2cb07508-94d9-4f02-b8a9-c60a07b8edf1"
      },
      "outputs": [
        {
          "output_type": "stream",
          "name": "stdout",
          "text": [
            "Classification Report Testing Model (Random Forest):\n",
            "              precision    recall  f1-score   support\n",
            "\n",
            "           0       0.83      0.89      0.86      1539\n",
            "           1       0.60      0.47      0.53       546\n",
            "\n",
            "    accuracy                           0.78      2085\n",
            "   macro avg       0.71      0.68      0.69      2085\n",
            "weighted avg       0.77      0.78      0.77      2085\n",
            "\n"
          ]
        }
      ],
      "source": [
        "#Menampilkan hasil testing model dengan confusion matrix\n",
        "# Predict\n",
        "y_test_pred = rdf_model.predict(x_test)\n",
        "\n",
        "# Print classification report\n",
        "print('Classification Report Testing Model (Random Forest):')\n",
        "print(classification_report(y_test, y_test_pred))"
      ]
    },
    {
      "cell_type": "markdown",
      "source": [
        "Dari data testing dapat dilihat bahwa model mampu memprediksi data dengan tingkat akurasi sebesar 78%, dengan detail prediksi Churn yang sebenarnya churn adalah 263, prediksi tidak Churn yang sebenarnya tidak Churn adalah 1356, prediksi tidak churn yang sebenarnya Churn adalah 283 dan prediksi Churn yang sebenarnya tidak Churn adalah 183."
      ],
      "metadata": {
        "id": "-zTTl5le6PV-"
      }
    },
    {
      "cell_type": "code",
      "execution_count": null,
      "metadata": {
        "colab": {
          "base_uri": "https://localhost:8080/",
          "height": 349
        },
        "id": "GVXyL3F-CWcj",
        "outputId": "094161c4-fe55-4377-d9ad-70460bc2f63d"
      },
      "outputs": [
        {
          "output_type": "display_data",
          "data": {
            "text/plain": [
              "<Figure size 432x288 with 2 Axes>"
            ],
            "image/png": "[encoded data removed]"
          },
          "metadata": {
            "needs_background": "light"
          }
        }
      ],
      "source": [
        "#Menampilkan hasil testing model dengan visualisasi heatmap dari confusion matrix \n",
        "confusion_matrix_df = pd.DataFrame((confusion_matrix(y_test, y_test_pred)), ('No churn', 'Churn'), ('No churn', 'Churn'))\n",
        "\n",
        "# Plot confusion matrix\n",
        "plt.figure()\n",
        "heatmap = sns.heatmap(confusion_matrix_df, annot=True, annot_kws = {'size': 14}, fmt = 'd', cmap = 'YlGnBu')\n",
        "heatmap.yaxis.set_ticklabels(heatmap.yaxis.get_ticklabels(), rotation = 0, ha = 'right', fontsize = 14)\n",
        "heatmap.xaxis.set_ticklabels(heatmap.xaxis.get_ticklabels(), rotation = 0, ha = 'right', fontsize = 14)\n",
        "\n",
        "plt.title('Confusion Matrix untuk Testing Model\\n(Random Forest)\\n', fontsize=18, color = 'darkblue')\n",
        "plt.ylabel('True label', fontsize = 14)\n",
        "plt.xlabel('Predicted label', fontsize = 14)\n",
        "plt.show()"
      ]
    },
    {
      "cell_type": "markdown",
      "metadata": {
        "id": "-I0pwhdeCWck"
      },
      "source": [
        "## c. Pemodelan dengan metode Gradient Boosting\n",
        "\n",
        "XGBoost merupakan akronim dari eXtreme Gradient Boosting. Dengan XGBoost, model yang dibangun dapat mengoptimalkan sumber daya komputasi berdasarkan algoritma tree. XGBoost digunakan pada kasus ini juga karena:\n",
        "\n",
        "*   Execution Speed (Memory Efficient)\n",
        "*   Model Performance ( High Accuracy )\n",
        "\n",
        "Selanjutnya, untuk menggunakan algoritma GradientBoosting, kita dapat import dari module sklearn.ensemble. Cukup gunakan function GradientBoostingClassifier() untuk melakukan training data."
      ]
    },
    {
      "cell_type": "markdown",
      "source": [
        "Performa Model pada Data Train\n",
        "\n",
        "Setelah model dibuat, maka lakukan perhitungan untuk memperoleh classification report dan confusion matrix dari data train dengan source code dan hasil di bawah ini. Gunakan classification_report() & confusion_matrix()."
      ],
      "metadata": {
        "id": "FQz-5ykf_WTL"
      }
    },
    {
      "cell_type": "code",
      "execution_count": null,
      "metadata": {
        "colab": {
          "base_uri": "https://localhost:8080/"
        },
        "id": "UbKc-y16CWcl",
        "outputId": "70937b8a-b721-46cf-ad4e-a7a2f32b3778"
      },
      "outputs": [
        {
          "output_type": "stream",
          "name": "stdout",
          "text": [
            "GradientBoostingClassifier()\n"
          ]
        }
      ],
      "source": [
        "from sklearn.ensemble import GradientBoostingClassifier\n",
        "\n",
        "# Latih model dengan GradientBoostingClassifier()\n",
        "gbt_model = GradientBoostingClassifier().fit(x_train, y_train)\n",
        "print(gbt_model)"
      ]
    },
    {
      "cell_type": "code",
      "execution_count": null,
      "metadata": {
        "colab": {
          "base_uri": "https://localhost:8080/"
        },
        "id": "Gve18hICCWcn",
        "outputId": "0876ea22-e202-4c62-e004-822a74e0b032"
      },
      "outputs": [
        {
          "output_type": "stream",
          "name": "stdout",
          "text": [
            "Classification Report Training Model (Gradien Boosting) :\n",
            "              precision    recall  f1-score   support\n",
            "\n",
            "           0       0.85      0.92      0.88      3575\n",
            "           1       0.71      0.54      0.62      1290\n",
            "\n",
            "    accuracy                           0.82      4865\n",
            "   macro avg       0.78      0.73      0.75      4865\n",
            "weighted avg       0.81      0.82      0.81      4865\n",
            "\n"
          ]
        }
      ],
      "source": [
        "# Menampilkan hasil training dengan confusion matrix\n",
        "from sklearn.metrics import classification_report\n",
        "\n",
        "# Predict\n",
        "y_train_pred = gbt_model.predict(x_train)\n",
        "# Print classification report \n",
        "print('Classification Report Training Model (Gradien Boosting) :')\n",
        "print(classification_report(y_train, y_train_pred))"
      ]
    },
    {
      "cell_type": "markdown",
      "source": [
        "Dari data training dapat dilihat bahwa model mampu memprediksi data dengan tingkat akurasi 82%, dengan detail prediksi Churn yang sebenarnya Churn adalah 684, prediksi tidak Churn yang sebenarnya tidak Churn adalah 3286, prediksi tidak Churn yang sebenarnya Churn adalah 606 dan prediksi churn yang sebenarnya tidak churn adalah 289."
      ],
      "metadata": {
        "id": "73nFuzK0Baiw"
      }
    },
    {
      "cell_type": "code",
      "execution_count": null,
      "metadata": {
        "colab": {
          "base_uri": "https://localhost:8080/",
          "height": 328
        },
        "id": "rer2WPw6CWcn",
        "outputId": "2ebf018b-1b85-4a5c-c130-4025df56bc96"
      },
      "outputs": [
        {
          "output_type": "display_data",
          "data": {
            "text/plain": [
              "<Figure size 432x288 with 2 Axes>"
            ],
            "image/png": "[encoded data removed]"
          },
          "metadata": {
            "needs_background": "light"
          }
        }
      ],
      "source": [
        "#Menampilkan hasil training model dengan visualisasi heatmap dari confusion matrix \n",
        "confusion_matrix_df = pd.DataFrame((confusion_matrix(y_train, y_train_pred)), ('No churn', 'Churn'), ('No churn', 'Churn'))\n",
        "\n",
        "# Plot confusion matrix\n",
        "plt.figure()\n",
        "heatmap = sns.heatmap(confusion_matrix_df, annot=True, annot_kws ={'size': 14}, fmt='d', cmap='YlGnBu')\n",
        "heatmap.yaxis.set_ticklabels(heatmap.yaxis.get_ticklabels(), rotation=0, ha='right', fontsize=14)\n",
        "heatmap.xaxis.set_ticklabels(heatmap.xaxis.get_ticklabels(), rotation=0, ha='right', fontsize=14)\n",
        "\n",
        "plt.title('Confusion Matrix untuk Training Model\\n(Gradient Boosting)', fontsize=18, color='darkblue')\n",
        "plt.ylabel('True label', fontsize=14)\n",
        "plt.xlabel('Predicted label', fontsize=14)\n",
        "plt.show()"
      ]
    },
    {
      "cell_type": "markdown",
      "source": [
        "Performa Model pada Data Test\n",
        "\n",
        "Lakukan perhitungan untuk memperoleh classification report dan confusion matrix juga pada data test dengan source code dan hasil di bawah ini. Gunakan classification_report() & confusion_matrix()."
      ],
      "metadata": {
        "id": "Wdkx22mnBss0"
      }
    },
    {
      "cell_type": "code",
      "execution_count": null,
      "metadata": {
        "colab": {
          "base_uri": "https://localhost:8080/"
        },
        "id": "naFy3z53CWco",
        "outputId": "bb4bd40a-23db-4962-8439-9a77d9d3bbae"
      },
      "outputs": [
        {
          "output_type": "stream",
          "name": "stdout",
          "text": [
            "Classification Report Testing Model (Gradient Boosting):\n",
            "              precision    recall  f1-score   support\n",
            "\n",
            "           0       0.83      0.90      0.87      1539\n",
            "           1       0.64      0.49      0.55       546\n",
            "\n",
            "    accuracy                           0.79      2085\n",
            "   macro avg       0.74      0.70      0.71      2085\n",
            "weighted avg       0.78      0.79      0.78      2085\n",
            "\n"
          ]
        }
      ],
      "source": [
        "# Menampilkan hasil testing model dengan confusion matrix\n",
        "# Predict\n",
        "y_test_pred = gbt_model.predict(x_test)\n",
        "\n",
        "# Print classification report\n",
        "print('Classification Report Testing Model (Gradient Boosting):')\n",
        "print(classification_report(y_test, y_test_pred))"
      ]
    },
    {
      "cell_type": "markdown",
      "source": [
        "Dari data testing dapat dilihat bahwa model mampu memprediksi data dengan tingkat akurasi sebesar 79%, dengan detail prediksi Churn yang sebenarnya churn adalah 261, prediksi tidak Churn yang sebenarnya tidak Churn adalah 1395, prediksi tidak churn yang sebenarnya Churn adalah 285 dan prediksi Churn yang sebenarnya tidak Churn adalah 144."
      ],
      "metadata": {
        "id": "okYeCnbWBvea"
      }
    },
    {
      "cell_type": "code",
      "execution_count": null,
      "metadata": {
        "colab": {
          "base_uri": "https://localhost:8080/",
          "height": 349
        },
        "id": "0qTShWTjCWcp",
        "outputId": "c2355793-6150-4927-98f9-1c7536979811"
      },
      "outputs": [
        {
          "output_type": "display_data",
          "data": {
            "text/plain": [
              "<Figure size 432x288 with 2 Axes>"
            ],
            "image/png": "[encoded data removed]"
          },
          "metadata": {
            "needs_background": "light"
          }
        }
      ],
      "source": [
        "#Menampilkan hasil testing model dengan visualisasi heatmap dari confusion matrix \n",
        "confusion_matrix_df = pd.DataFrame((confusion_matrix(y_test, y_test_pred)), ('No churn', 'Churn'), ('No churn', 'Churn'))\n",
        "\n",
        "# Plot confusion matrix\n",
        "plt.figure()\n",
        "heatmap = sns.heatmap(confusion_matrix_df, annot=True, annot_kws={'size': 14}, fmt='d', cmap='YlGnBu')\n",
        "heatmap.yaxis.set_ticklabels(heatmap.yaxis.get_ticklabels(), rotation=0, ha='right', fontsize=14)\n",
        "heatmap.xaxis.set_ticklabels(heatmap.xaxis.get_ticklabels(), rotation=0, ha='right', fontsize=14)\n",
        "\n",
        "plt.title('Confusion Matrix untuk Testing Model\\n(Gradient Boosting)\\n', fontsize=18, color='darkblue')\n",
        "plt.ylabel('True label', fontsize=14)\n",
        "plt.xlabel('Predicted label', fontsize=14)\n",
        "plt.show()"
      ]
    },
    {
      "cell_type": "markdown",
      "source": [
        "# **Evaluation**\n",
        "\n"
      ],
      "metadata": {
        "id": "ORa8Vn1jCE6r"
      }
    },
    {
      "cell_type": "markdown",
      "source": [
        "## Over-Fitting Vs Under-Fitting\n",
        "\n",
        "Model yang baik adalah model yang mampu memberikan performa bagus di fase training dan testing model. Ada beberapa terminologi yang sering muncul ketika membahas bagaimana model yang baik, di antaranya:\n",
        "\n",
        "*  Over-Fitting — suatu kondisi dimana model mampu memprediksi dengan sangat baik di fase training, akan tetapi tidak mampu memprediksi sama baiknya di fase testing.\n",
        "*   Under-Fitting — suatu kondisi dimana model kurang mampu memprediksi dengan baik di fase training, akan tetapi mampu memprediksi dengan baik di fase testing.\n",
        "*   Appropriate-Fitting — suatu kondisi dimana model mampu memprediksi dengan baik di fase training maupun di fase testing.\n",
        "\n",
        "\n",
        "\n",
        "\n",
        "\n",
        "\n"
      ],
      "metadata": {
        "id": "7l-WQf7tCPPF"
      }
    },
    {
      "cell_type": "markdown",
      "source": [
        "## Menentukan Algoritma Terbaik\n",
        "\n",
        "Berdasarkan pemodelan yang telah dilakukan dengan menggunakan Logistic Regression, Random Forest dan Extreme Gradiant Boost, maka dapat disimpulkan untuk memprediksi Churn dari pelanggan telco dengan menggunakan dataset ini model terbaiknya adalah menggunakan algortima Logistic Regression. Hal ini dikarenakan performa dari model Logistic Regression cenderung mampu memprediksi sama baiknya di fase training maupun testing (akurasi training 80%, akurasi testing 79%), dilain sisi algoritma lainnya cenderung Over-Fitting performanya. Akan tetapi hal ini tidak menjadikan kita untuk menarik kesimpulan bahwsannya jika untuk melakukan pemodelan apapun maka digunakan Logistic Regression, kita tetap harus melakukan banyak percobaan model untuk menentukan mana yang terbaik. "
      ],
      "metadata": {
        "id": "vYY0Hp-9HtRN"
      }
    },
    {
      "cell_type": "markdown",
      "source": [
        "## Menyimpan Model Terbaik\n",
        "\n",
        "Setelah menentukan model algoritma terbaik dari beberapa percobaan model yang sudah dilakukan (Appropriate-Fitting), kemudian kita dapat simpan model tersebut sebagai file best_model_churn.pkl dengan tujuan untuk deployment model nantinya kita tidak perlu mengulang lagi pemodelan, cukup memanggil file tersebut saja. Simpan di file direktori sesuai dataset berada, kemudian check apakah file tersebut benar tersimpan atau tidak. Gunakan dump() dari pickle untuk menyimpan file model."
      ],
      "metadata": {
        "id": "cWuyxDHvL6Sf"
      }
    },
    {
      "cell_type": "code",
      "execution_count": null,
      "metadata": {
        "id": "QqPllLKXCWcp"
      },
      "outputs": [],
      "source": [
        "#Save Model log_model (Logistic Regression) sebagai model terbaik\n",
        "\n",
        "pickle.dump(log_model, open('best_model_churn.pkl', 'wb'))"
      ]
    },
    {
      "cell_type": "code",
      "execution_count": null,
      "metadata": {
        "colab": {
          "base_uri": "https://localhost:8080/"
        },
        "id": "Ufa-e3jzCWcq",
        "outputId": "c2055cbc-e7ef-4a15-95b3-cd4a15d01b35"
      },
      "outputs": [
        {
          "output_type": "stream",
          "name": "stdout",
          "text": [
            "LogisticRegression()\n"
          ]
        }
      ],
      "source": [
        "print(log_model)"
      ]
    },
    {
      "cell_type": "markdown",
      "metadata": {
        "id": "PdTBkp2WCWcF"
      },
      "source": [
        "# **Knowledge Presentation**\n",
        "\n",
        "Pada fase terakhir ini yang dilakukan adalah proses pembentukan keluaran yang mudah dimengerti yang bersumber pada proses Data Mining "
      ]
    },
    {
      "cell_type": "code",
      "execution_count": null,
      "metadata": {
        "colab": {
          "base_uri": "https://localhost:8080/",
          "height": 319
        },
        "id": "CewPsiulCWcG",
        "outputId": "862fff80-aa19-469b-cae8-3859180e9563"
      },
      "outputs": [
        {
          "output_type": "display_data",
          "data": {
            "text/plain": [
              "<Figure size 432x288 with 1 Axes>"
            ],
            "image/png": "[encoded data removed]"
          },
          "metadata": {}
        }
      ],
      "source": [
        "#memvisualisasi persentase Churn pada dataset\n",
        "fig = plt.figure()\n",
        "ax = fig.add_axes([0,0,1,1])\n",
        "ax.axis('equal')\n",
        "labels = ['No','Yes']\n",
        "churn = df_load.Churn.value_counts()\n",
        "ax.pie(churn, labels=labels, autopct='%.0f%%')\n",
        "plt.show()"
      ]
    },
    {
      "cell_type": "markdown",
      "source": [
        "Berdasarkan pie chart di atas, dapat disimpulkan bahwa sebaran data secara mayoritas customer tidak melakukan Churn, dengan detail Churn sebanyak 26% dan No Churn sebanyak 74%."
      ],
      "metadata": {
        "id": "PrKowN5KFnPq"
      }
    },
    {
      "cell_type": "markdown",
      "metadata": {
        "id": "O8w_JINlCWcH"
      },
      "source": [
        "## Exploratory Data Analysis pada Variabel Numerik"
      ]
    },
    {
      "cell_type": "code",
      "execution_count": null,
      "metadata": {
        "colab": {
          "base_uri": "https://localhost:8080/",
          "height": 390
        },
        "id": "LbflLqf8CWcI",
        "outputId": "53dbc143-983f-49b5-9ca8-7f973f579847"
      },
      "outputs": [
        {
          "output_type": "display_data",
          "data": {
            "text/plain": [
              "<Figure size 1080x432 with 3 Axes>"
            ],
            "image/png": "[encoded data removed]"
          },
          "metadata": {
            "needs_background": "light"
          }
        }
      ],
      "source": [
        "# Membuat distribution diagram untuk 3 variabel numerik berikut \n",
        "numerical_features = ['MonthlyCharges','TotalCharges','tenure']\n",
        "fig, ax = plt.subplots(1, 3, figsize=(15, 6))\n",
        "\n",
        "# Gunakan code berikut ini untuk memplot 2 lapisan untuk membedakan mana yang Churn (Orange) atau Tidak (Blue) \n",
        "df_load[df_load.Churn == 'No'][numerical_features].hist(bins=20, color='blue', alpha=0.5, ax=ax)\n",
        "df_load[df_load.Churn == 'Yes'][numerical_features].hist(bins=20, color='orange', alpha=0.5, ax=ax)\n",
        "plt.show()"
      ]
    },
    {
      "cell_type": "markdown",
      "source": [
        "Keterangan : \n",
        "\n",
        "*   Sumbu X adalah biaya\n",
        "*   Sumbu Y adalah jumlah pelanggan\n",
        "*   Warna Biru adalah pelanggan Tidak Churn \n",
        "*   Warna Orange adalah pelanggan Churn\n",
        "\n",
        "\n",
        "Pada histogram di atas, dapat kita ketahui bahwa untuk variabel MonthlyCharges ada kecenderungan bahwa semakin kecil nilai biaya bulanan yang dikenakan, semakin kecil juga kecenderungan untuk melakukan Churn. Penyedia layanan dapat menetapkan harga disekitar 20 - 60 dolar/bulan untuk mengurangi kecenderungan melakukan churn.\n",
        "\n",
        "Untuk TotalCharges terlihat tidak ada kecenderungan apapun terhadap Churn. \n",
        "\n",
        "Sedangkan variabel tenure ada kecenderungan bahwa semakin lama berlangganan customer, semakin kecil kecenderungan untuk melakukan Churn. Untuk mengurangi kecenderungan Churn, penyedia layanan minimal mempertahankan pelanggan antara 15 - 20 Bulan"
      ],
      "metadata": {
        "id": "T2d1VuvWUbq1"
      }
    },
    {
      "cell_type": "markdown",
      "metadata": {
        "id": "Sq5OzW1RCWcJ"
      },
      "source": [
        "## Exploratory Data Analysis pada Variabel Kategorikal"
      ]
    },
    {
      "cell_type": "code",
      "execution_count": null,
      "metadata": {
        "colab": {
          "base_uri": "https://localhost:8080/",
          "height": 869
        },
        "id": "AdR9H-blCWcK",
        "outputId": "ffebc35d-9935-4d85-a4b3-3abb27a6864c"
      },
      "outputs": [
        {
          "output_type": "display_data",
          "data": {
            "text/plain": [
              "<Figure size 1008x864 with 9 Axes>"
            ],
            "image/png": "[encoded data removed]"
          },
          "metadata": {}
        }
      ],
      "source": [
        "sns.set(style='darkgrid')\n",
        "# memplot data dengan subplot ukuran 3x3\n",
        "fig, ax = plt.subplots(3, 3, figsize=(14, 12))\n",
        "\n",
        "# menampilkan data berdasarkan variabel-variabel kategorikal yang ada\n",
        "sns.countplot(data=df_load, x='gender', hue='Churn', ax=ax[0][0])\n",
        "sns.countplot(data=df_load, x='Partner', hue='Churn', ax=ax[0][1])\n",
        "sns.countplot(data=df_load, x='SeniorCitizen', hue='Churn', ax=ax[0][2])\n",
        "sns.countplot(data=df_load, x='PhoneService', hue='Churn', ax=ax[1][0])\n",
        "sns.countplot(data=df_load, x='StreamingTV', hue='Churn', ax=ax[1][1])\n",
        "sns.countplot(data=df_load, x='InternetService', hue='Churn', ax=ax[1][2])\n",
        "sns.countplot(data=df_load, x='PaperlessBilling', hue='Churn', ax=ax[2][1])\n",
        "plt.tight_layout()\n",
        "plt.show()"
      ]
    },
    {
      "cell_type": "markdown",
      "source": [
        "Keterangan : \n",
        "\n",
        "*   Sumbu X adalah Kategori Feature\n",
        "*   Sumbu Y adalah jumlah pelanggan\n",
        "*   Warna Biru adalah pelanggan Tidak Churn \n",
        "*   Warna Orange adalah pelanggan Churn\n",
        "\n",
        "Pada visualisasi data di atas, dapat ketahui bahwa tidak ada perbedaan yang signifikan untuk orang melakukan churn dilihat dari faktor jenis kelamin (gender) dan layanan telfonnya (PhoneService).\n",
        "\n",
        "Akan tetapi ada kecenderungan bahwa customer yang melakukan churn adalah customer yang tidak memiliki partner (partner: No), customer yang statusnya adalah senior citizen / usia > 60thn (SeniorCitizen: Yes), customer yang mempunyai layanan streaming TV (StreamingTV: Yes), customer yang mempunyai layanan Internet (internetService: Yes) dan customer yang tagihannya paperless (PaperlessBilling: Yes)."
      ],
      "metadata": {
        "id": "oFqf9atlXC3B"
      }
    }
  ],
  "metadata": {
    "kernelspec": {
      "display_name": "Python 3",
      "language": "python",
      "name": "python3"
    },
    "language_info": {
      "codemirror_mode": {
        "name": "ipython",
        "version": 3
      },
      "file_extension": ".py",
      "mimetype": "text/x-python",
      "name": "python",
      "nbconvert_exporter": "python",
      "pygments_lexer": "ipython3",
      "version": "3.7.1"
    },
    "colab": {
      "provenance": [],
      "include_colab_link": true
    }
  },
  "nbformat": 4,
  "nbformat_minor": 0
}