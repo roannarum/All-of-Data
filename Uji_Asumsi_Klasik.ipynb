{
  "nbformat": 4,
  "nbformat_minor": 0,
  "metadata": {
    "colab": {
      "provenance": [],
      "authorship_tag": "ABX9TyP3K4dTmas+LRT1RcGH4rc8",
      "include_colab_link": true
    },
    "kernelspec": {
      "name": "python3",
      "display_name": "Python 3"
    },
    "language_info": {
      "name": "python"
    }
  },
  "cells": [
    {
      "cell_type": "markdown",
      "metadata": {
        "id": "view-in-github",
        "colab_type": "text"
      },
      "source": [
        "<a href=\"https://colab.research.google.com/github/roannarum/Data-Practice/blob/main/Uji_Asumsi_Klasik.ipynb\" target=\"_parent\"><img src=\"https://colab.research.google.com/assets/colab-badge.svg\" alt=\"Open In Colab\"/></a>"
      ]
    },
    {
      "cell_type": "code",
      "execution_count": 1,
      "metadata": {
        "id": "_5xi_qyqc2q5"
      },
      "outputs": [],
      "source": [
        "import pandas as pd"
      ]
    },
    {
      "cell_type": "code",
      "source": [
        "data = pd.read_csv(\"/content/drinks.csv\")"
      ],
      "metadata": {
        "id": "0lpKqHCfekT4"
      },
      "execution_count": 3,
      "outputs": []
    },
    {
      "cell_type": "code",
      "source": [
        "data"
      ],
      "metadata": {
        "colab": {
          "base_uri": "https://localhost:8080/",
          "height": 423
        },
        "id": "t_prxNr3erU_",
        "outputId": "ed50848b-89fb-4f83-e38c-42828c809e5b"
      },
      "execution_count": 4,
      "outputs": [
        {
          "output_type": "execute_result",
          "data": {
            "text/plain": [
              "         country  beer_servings  spirit_servings  wine_servings  \\\n",
              "0    Afghanistan              0                0              0   \n",
              "1        Albania             89              132             54   \n",
              "2        Algeria             25                0             14   \n",
              "3        Andorra            245              138            312   \n",
              "4         Angola            217               57             45   \n",
              "..           ...            ...              ...            ...   \n",
              "188    Venezuela            333              100              3   \n",
              "189      Vietnam            111                2              1   \n",
              "190        Yemen              6                0              0   \n",
              "191       Zambia             32               19              4   \n",
              "192     Zimbabwe             64               18              4   \n",
              "\n",
              "     total_litres_of_pure_alcohol  \n",
              "0                             0.0  \n",
              "1                             4.9  \n",
              "2                             0.7  \n",
              "3                            12.4  \n",
              "4                             5.9  \n",
              "..                            ...  \n",
              "188                           7.7  \n",
              "189                           2.0  \n",
              "190                           0.1  \n",
              "191                           2.5  \n",
              "192                           4.7  \n",
              "\n",
              "[193 rows x 5 columns]"
            ],
            "text/html": [
              "\n",
              "  <div id=\"df-8dfe22a9-13e8-46f2-a438-7b2bd2c44564\">\n",
              "    <div class=\"colab-df-container\">\n",
              "      <div>\n",
              "<style scoped>\n",
              "    .dataframe tbody tr th:only-of-type {\n",
              "        vertical-align: middle;\n",
              "    }\n",
              "\n",
              "    .dataframe tbody tr th {\n",
              "        vertical-align: top;\n",
              "    }\n",
              "\n",
              "    .dataframe thead th {\n",
              "        text-align: right;\n",
              "    }\n",
              "</style>\n",
              "<table border=\"1\" class=\"dataframe\">\n",
              "  <thead>\n",
              "    <tr style=\"text-align: right;\">\n",
              "      <th></th>\n",
              "      <th>country</th>\n",
              "      <th>beer_servings</th>\n",
              "      <th>spirit_servings</th>\n",
              "      <th>wine_servings</th>\n",
              "      <th>total_litres_of_pure_alcohol</th>\n",
              "    </tr>\n",
              "  </thead>\n",
              "  <tbody>\n",
              "    <tr>\n",
              "      <th>0</th>\n",
              "      <td>Afghanistan</td>\n",
              "      <td>0</td>\n",
              "      <td>0</td>\n",
              "      <td>0</td>\n",
              "      <td>0.0</td>\n",
              "    </tr>\n",
              "    <tr>\n",
              "      <th>1</th>\n",
              "      <td>Albania</td>\n",
              "      <td>89</td>\n",
              "      <td>132</td>\n",
              "      <td>54</td>\n",
              "      <td>4.9</td>\n",
              "    </tr>\n",
              "    <tr>\n",
              "      <th>2</th>\n",
              "      <td>Algeria</td>\n",
              "      <td>25</td>\n",
              "      <td>0</td>\n",
              "      <td>14</td>\n",
              "      <td>0.7</td>\n",
              "    </tr>\n",
              "    <tr>\n",
              "      <th>3</th>\n",
              "      <td>Andorra</td>\n",
              "      <td>245</td>\n",
              "      <td>138</td>\n",
              "      <td>312</td>\n",
              "      <td>12.4</td>\n",
              "    </tr>\n",
              "    <tr>\n",
              "      <th>4</th>\n",
              "      <td>Angola</td>\n",
              "      <td>217</td>\n",
              "      <td>57</td>\n",
              "      <td>45</td>\n",
              "      <td>5.9</td>\n",
              "    </tr>\n",
              "    <tr>\n",
              "      <th>...</th>\n",
              "      <td>...</td>\n",
              "      <td>...</td>\n",
              "      <td>...</td>\n",
              "      <td>...</td>\n",
              "      <td>...</td>\n",
              "    </tr>\n",
              "    <tr>\n",
              "      <th>188</th>\n",
              "      <td>Venezuela</td>\n",
              "      <td>333</td>\n",
              "      <td>100</td>\n",
              "      <td>3</td>\n",
              "      <td>7.7</td>\n",
              "    </tr>\n",
              "    <tr>\n",
              "      <th>189</th>\n",
              "      <td>Vietnam</td>\n",
              "      <td>111</td>\n",
              "      <td>2</td>\n",
              "      <td>1</td>\n",
              "      <td>2.0</td>\n",
              "    </tr>\n",
              "    <tr>\n",
              "      <th>190</th>\n",
              "      <td>Yemen</td>\n",
              "      <td>6</td>\n",
              "      <td>0</td>\n",
              "      <td>0</td>\n",
              "      <td>0.1</td>\n",
              "    </tr>\n",
              "    <tr>\n",
              "      <th>191</th>\n",
              "      <td>Zambia</td>\n",
              "      <td>32</td>\n",
              "      <td>19</td>\n",
              "      <td>4</td>\n",
              "      <td>2.5</td>\n",
              "    </tr>\n",
              "    <tr>\n",
              "      <th>192</th>\n",
              "      <td>Zimbabwe</td>\n",
              "      <td>64</td>\n",
              "      <td>18</td>\n",
              "      <td>4</td>\n",
              "      <td>4.7</td>\n",
              "    </tr>\n",
              "  </tbody>\n",
              "</table>\n",
              "<p>193 rows × 5 columns</p>\n",
              "</div>\n",
              "      <button class=\"colab-df-convert\" onclick=\"convertToInteractive('df-8dfe22a9-13e8-46f2-a438-7b2bd2c44564')\"\n",
              "              title=\"Convert this dataframe to an interactive table.\"\n",
              "              style=\"display:none;\">\n",
              "        \n",
              "  <svg xmlns=\"http://www.w3.org/2000/svg\" height=\"24px\"viewBox=\"0 0 24 24\"\n",
              "       width=\"24px\">\n",
              "    <path d=\"M0 0h24v24H0V0z\" fill=\"none\"/>\n",
              "    <path d=\"M18.56 5.44l.94 2.06.94-2.06 2.06-.94-2.06-.94-.94-2.06-.94 2.06-2.06.94zm-11 1L8.5 8.5l.94-2.06 2.06-.94-2.06-.94L8.5 2.5l-.94 2.06-2.06.94zm10 10l.94 2.06.94-2.06 2.06-.94-2.06-.94-.94-2.06-.94 2.06-2.06.94z\"/><path d=\"M17.41 7.96l-1.37-1.37c-.4-.4-.92-.59-1.43-.59-.52 0-1.04.2-1.43.59L10.3 9.45l-7.72 7.72c-.78.78-.78 2.05 0 2.83L4 21.41c.39.39.9.59 1.41.59.51 0 1.02-.2 1.41-.59l7.78-7.78 2.81-2.81c.8-.78.8-2.07 0-2.86zM5.41 20L4 18.59l7.72-7.72 1.47 1.35L5.41 20z\"/>\n",
              "  </svg>\n",
              "      </button>\n",
              "      \n",
              "  <style>\n",
              "    .colab-df-container {\n",
              "      display:flex;\n",
              "      flex-wrap:wrap;\n",
              "      gap: 12px;\n",
              "    }\n",
              "\n",
              "    .colab-df-convert {\n",
              "      background-color: #E8F0FE;\n",
              "      border: none;\n",
              "      border-radius: 50%;\n",
              "      cursor: pointer;\n",
              "      display: none;\n",
              "      fill: #1967D2;\n",
              "      height: 32px;\n",
              "      padding: 0 0 0 0;\n",
              "      width: 32px;\n",
              "    }\n",
              "\n",
              "    .colab-df-convert:hover {\n",
              "      background-color: #E2EBFA;\n",
              "      box-shadow: 0px 1px 2px rgba(60, 64, 67, 0.3), 0px 1px 3px 1px rgba(60, 64, 67, 0.15);\n",
              "      fill: #174EA6;\n",
              "    }\n",
              "\n",
              "    [theme=dark] .colab-df-convert {\n",
              "      background-color: #3B4455;\n",
              "      fill: #D2E3FC;\n",
              "    }\n",
              "\n",
              "    [theme=dark] .colab-df-convert:hover {\n",
              "      background-color: #434B5C;\n",
              "      box-shadow: 0px 1px 3px 1px rgba(0, 0, 0, 0.15);\n",
              "      filter: drop-shadow(0px 1px 2px rgba(0, 0, 0, 0.3));\n",
              "      fill: #FFFFFF;\n",
              "    }\n",
              "  </style>\n",
              "\n",
              "      <script>\n",
              "        const buttonEl =\n",
              "          document.querySelector('#df-8dfe22a9-13e8-46f2-a438-7b2bd2c44564 button.colab-df-convert');\n",
              "        buttonEl.style.display =\n",
              "          google.colab.kernel.accessAllowed ? 'block' : 'none';\n",
              "\n",
              "        async function convertToInteractive(key) {\n",
              "          const element = document.querySelector('#df-8dfe22a9-13e8-46f2-a438-7b2bd2c44564');\n",
              "          const dataTable =\n",
              "            await google.colab.kernel.invokeFunction('convertToInteractive',\n",
              "                                                     [key], {});\n",
              "          if (!dataTable) return;\n",
              "\n",
              "          const docLinkHtml = 'Like what you see? Visit the ' +\n",
              "            '<a target=\"_blank\" href=https://colab.research.google.com/notebooks/data_table.ipynb>data table notebook</a>'\n",
              "            + ' to learn more about interactive tables.';\n",
              "          element.innerHTML = '';\n",
              "          dataTable['output_type'] = 'display_data';\n",
              "          await google.colab.output.renderOutput(dataTable, element);\n",
              "          const docLink = document.createElement('div');\n",
              "          docLink.innerHTML = docLinkHtml;\n",
              "          element.appendChild(docLink);\n",
              "        }\n",
              "      </script>\n",
              "    </div>\n",
              "  </div>\n",
              "  "
            ]
          },
          "metadata": {},
          "execution_count": 4
        }
      ]
    },
    {
      "cell_type": "markdown",
      "source": [
        "## UJI NORMALITAS (Kolmogorov Smirnov)\n",
        "# Uji hipotesis\n",
        "\n",
        "H0 : Variabel beer_servings memiliki distribusi normal\n",
        "\n",
        "Ha : Variabel beer_servings tidak memiliki distribusi normal\n",
        "\n",
        "\n",
        "Interval kepercayaan 95% maka a = 0,05%\n",
        "\n",
        "Daerah kritis : H0 ditolak jika p-value > alpha"
      ],
      "metadata": {
        "id": "5dYLZKUXe-h8"
      }
    },
    {
      "cell_type": "code",
      "source": [
        "#statistik hitung p-value\n",
        "from scipy.stats import kstest\n",
        "kstest(data['beer_servings'],'norm')\n"
      ],
      "metadata": {
        "colab": {
          "base_uri": "https://localhost:8080/"
        },
        "id": "UpFveqVVe22h",
        "outputId": "2da8e268-9d77-49de-cc2b-84740a71e7a6"
      },
      "execution_count": 5,
      "outputs": [
        {
          "output_type": "execute_result",
          "data": {
            "text/plain": [
              "KstestResult(statistic=0.8950231589631885, pvalue=2.5964374859935023e-189)"
            ]
          },
          "metadata": {},
          "execution_count": 5
        }
      ]
    },
    {
      "cell_type": "markdown",
      "source": [
        "Kesimpulan : H0 tidak ditolak karena p-value < alpha. Berarti variabel bee_servings pada data memiliki distribusi normal.\n",
        "\n",
        "karena p-value nya adalah 2,59 pangkat -189 (ini arti sebenarnya)"
      ],
      "metadata": {
        "id": "CgnYV16Thzpp"
      }
    },
    {
      "cell_type": "markdown",
      "source": [
        "# Uji hipotesis\n",
        "\n",
        "H0 : Variabel wine_servings memiliki distribusi normal\n",
        "\n",
        "\n",
        "Ha : Variabel wine_servings tidak memiliki distribusi normal\n",
        "\n",
        "\n",
        "Interval kepercayaan 95% maka a = 0,05%\n",
        "\n",
        "Daerah kritis : H0 ditolak jika p-value > alpha"
      ],
      "metadata": {
        "id": "nYO3IC3ViZwt"
      }
    },
    {
      "cell_type": "code",
      "source": [
        "#statistik hitung p-value\n",
        "from scipy.stats import kstest\n",
        "kstest(data['wine_servings'],'norm')"
      ],
      "metadata": {
        "colab": {
          "base_uri": "https://localhost:8080/"
        },
        "id": "RRGWvUuzhVpG",
        "outputId": "269a55f8-c243-4ba3-9451-b04ed0538095"
      },
      "execution_count": 6,
      "outputs": [
        {
          "output_type": "execute_result",
          "data": {
            "text/plain": [
              "KstestResult(statistic=0.687094427637313, pvalue=3.300727033865425e-91)"
            ]
          },
          "metadata": {},
          "execution_count": 6
        }
      ]
    },
    {
      "cell_type": "markdown",
      "source": [
        "Kesimpulan : H0 tidak ditolak karena p-value < alpha. \n",
        "\n",
        "Berarti variabel bee_servings pada data memiliki distribusi normal.\n",
        "\n",
        "karena p-value nya adalah 3,30 pangkat -91 (ini arti sebenarnya, jangan ngeyel)"
      ],
      "metadata": {
        "id": "7GhD-eyGiqkx"
      }
    },
    {
      "cell_type": "markdown",
      "source": [
        "## UJI NORMALITAS (JARQUE - BERA)\n"
      ],
      "metadata": {
        "id": "24YAPXWtkAsV"
      }
    },
    {
      "cell_type": "markdown",
      "source": [
        "H0 : Variabel beer_servings memiliki distribusi normal\n",
        "\n",
        "Ha : Variabel beer_servings tidak memiliki distribusi normal\n",
        "\n",
        "Interval kepercayaan 95% maka a = 0,05%\n",
        "\n",
        "Daerah kritis : H0 ditolak jika p-value > alpha"
      ],
      "metadata": {
        "id": "gMq6LM4vk-4c"
      }
    },
    {
      "cell_type": "code",
      "source": [
        "from scipy import stats\n",
        "\n",
        "stat, p = stats.jarque_bera(data['beer_servings'])\n",
        "stat, p"
      ],
      "metadata": {
        "colab": {
          "base_uri": "https://localhost:8080/"
        },
        "id": "ffPRFCRMioFI",
        "outputId": "80e9a5fe-b400-4ae8-e1ec-43ba2fe80203"
      },
      "execution_count": 10,
      "outputs": [
        {
          "output_type": "execute_result",
          "data": {
            "text/plain": [
              "(22.993078960500824, 1.0165209712531542e-05)"
            ]
          },
          "metadata": {},
          "execution_count": 10
        }
      ]
    },
    {
      "cell_type": "markdown",
      "source": [
        "Kesimpulan : H0 tidak ditolak karena p-value < alpha. Berarti variabel bee_servings pada data memiliki distribusi normal.\n",
        "\n",
        "karena p-value nya adalah 1.01 pangkat -05 (ini arti sebenarnya)"
      ],
      "metadata": {
        "id": "C1HPJNEvlPoC"
      }
    },
    {
      "cell_type": "markdown",
      "source": [
        "## UJI AUTOKORELASI (DURBIN WATSON)\n"
      ],
      "metadata": {
        "id": "A38xr1nilq1H"
      }
    },
    {
      "cell_type": "markdown",
      "source": [
        "# Uji Hipotesis\n",
        "\n",
        "H0 : data tidak mengandung autokorelasi\n",
        "\n",
        "Ha : data mengandung autokorelasi\n",
        "\n",
        "\n",
        "\n"
      ],
      "metadata": {
        "id": "u3xwdkXcl_RJ"
      }
    },
    {
      "cell_type": "markdown",
      "source": [
        "Interval kepercayaan 95% maka alpha = 0,05."
      ],
      "metadata": {
        "id": "nY3aI0glnGyQ"
      }
    },
    {
      "cell_type": "markdown",
      "source": [
        "Daerah kritis:\n",
        "\n",
        "H0 ditolak jika 0 < DW < d(lower) atau 4-d(lower) < DW < 4\n",
        "\n",
        "H0 diterima d(upper) < DW < 4-d(upper)"
      ],
      "metadata": {
        "id": "7n-K3fFOmpgO"
      }
    },
    {
      "cell_type": "code",
      "source": [
        "#Statistik Hitung\n",
        "\n",
        "from statsmodels.formula.api import ols #salah satu metode untuk membentuk regresi linier. kalo multilinier tidak bisa\n",
        "model = ols(\"total_litres_of_pure_alcohol ~ beer_servings + spirit_servings + wine_servings\", data=data).fit() #fit untuk memberikan model yang paling baik"
      ],
      "metadata": {
        "id": "NAS1ZdDilNt9"
      },
      "execution_count": 11,
      "outputs": []
    },
    {
      "cell_type": "code",
      "source": [
        "print(model.summary())"
      ],
      "metadata": {
        "colab": {
          "base_uri": "https://localhost:8080/"
        },
        "id": "nldZU9v4n1-P",
        "outputId": "46000305-82f0-497f-e486-83c69f573411"
      },
      "execution_count": 12,
      "outputs": [
        {
          "output_type": "stream",
          "name": "stdout",
          "text": [
            "                                 OLS Regression Results                                 \n",
            "========================================================================================\n",
            "Dep. Variable:     total_litres_of_pure_alcohol   R-squared:                       0.874\n",
            "Model:                                      OLS   Adj. R-squared:                  0.872\n",
            "Method:                           Least Squares   F-statistic:                     437.7\n",
            "Date:                          Wed, 16 Nov 2022   Prob (F-statistic):           8.74e-85\n",
            "Time:                                  04:08:20   Log-Likelihood:                -329.62\n",
            "No. Observations:                           193   AIC:                             667.2\n",
            "Df Residuals:                               189   BIC:                             680.3\n",
            "Df Model:                                     3                                         \n",
            "Covariance Type:                      nonrobust                                         \n",
            "===================================================================================\n",
            "                      coef    std err          t      P>|t|      [0.025      0.975]\n",
            "-----------------------------------------------------------------------------------\n",
            "Intercept           0.7224      0.149      4.841      0.000       0.428       1.017\n",
            "beer_servings       0.0183      0.001     14.608      0.000       0.016       0.021\n",
            "spirit_servings     0.0156      0.001     12.511      0.000       0.013       0.018\n",
            "wine_servings       0.0160      0.001     11.112      0.000       0.013       0.019\n",
            "==============================================================================\n",
            "Omnibus:                      162.898   Durbin-Watson:                   1.942\n",
            "Prob(Omnibus):                  0.000   Jarque-Bera (JB):             1593.746\n",
            "Skew:                           3.394   Prob(JB):                         0.00\n",
            "Kurtosis:                      15.333   Cond. No.                         289.\n",
            "==============================================================================\n",
            "\n",
            "Notes:\n",
            "[1] Standard Errors assume that the covariance matrix of the errors is correctly specified.\n"
          ]
        }
      ]
    },
    {
      "cell_type": "markdown",
      "source": [
        "Y = 0,7224 + 0.0183X1 + 0,0156X2 + 0,0160X3"
      ],
      "metadata": {
        "id": "wlqNpl3MpTpT"
      }
    },
    {
      "cell_type": "markdown",
      "source": [
        "X1 = 25\n",
        "\n",
        "X2 = 35\n",
        "\n",
        "X3 = 120\n"
      ],
      "metadata": {
        "id": "i3FmCVbWppkd"
      }
    },
    {
      "cell_type": "markdown",
      "source": [
        "Y = 0,7224 + 0.0183(25) + 0,0156(35) + 0,0160(120)\n",
        "\n",
        "Y = hitung sendiri"
      ],
      "metadata": {
        "id": "1EHO3cFkpw6A"
      }
    },
    {
      "cell_type": "markdown",
      "source": [
        "Kesimpulan : diperoleh DW : 1,942\n",
        "\n",
        "d(lower) : 1,7329 dan d(upper) : 1,7960 (ini dari tabel punya bapa)\n",
        "\n",
        "DW > d(lower) dan DW < 4-d(lower)\n",
        "\n",
        "DW > d(upper) dan DW < 4-d(upper)\n",
        "\n",
        "**Implementasi**\n",
        "\n",
        "H0 ditolak jika 0 < 1,942 < d(lower) **atau** (4-1,7329) < 1,942 < 4    ===> SALAH, coz tidak terpenuhi\n",
        "\n",
        "H0 diterima:\n",
        "\n",
        "= d(upper) < 1,942 < (4-1,7960)\n",
        "\n",
        "= 1,7960 < 1,942 < 2,204 ===> BENAR\n",
        "\n",
        "**ARTINYA DATA TIDAK MENGANTUK AUTOKORELASI**"
      ],
      "metadata": {
        "id": "lDD8i_C0qLSX"
      }
    },
    {
      "cell_type": "code",
      "source": [],
      "metadata": {
        "id": "nRt__uRfn5CW"
      },
      "execution_count": null,
      "outputs": []
    }
  ]
}