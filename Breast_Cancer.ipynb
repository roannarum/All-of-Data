{
  "nbformat": 4,
  "nbformat_minor": 0,
  "metadata": {
    "colab": {
      "provenance": [],
      "include_colab_link": true
    },
    "kernelspec": {
      "name": "python3",
      "display_name": "Python 3"
    },
    "language_info": {
      "name": "python"
    }
  },
  "cells": [
    {
      "cell_type": "markdown",
      "metadata": {
        "id": "view-in-github",
        "colab_type": "text"
      },
      "source": [
        "<a href=\"https://colab.research.google.com/github/roannarum/Data-Practice/blob/main/Breast_Cancer.ipynb\" target=\"_parent\"><img src=\"https://colab.research.google.com/assets/colab-badge.svg\" alt=\"Open In Colab\"/></a>"
      ]
    },
    {
      "cell_type": "markdown",
      "source": [
        "# Breast Cancer dengan Data breast-cancer"
      ],
      "metadata": {
        "id": "EJR9J5mGe4Ju"
      }
    },
    {
      "cell_type": "code",
      "execution_count": 1,
      "metadata": {
        "id": "BfUzDXzb-1VR",
        "colab": {
          "base_uri": "https://localhost:8080/"
        },
        "outputId": "d514351a-548d-42ba-a94d-9688a0f2feeb"
      },
      "outputs": [
        {
          "output_type": "stream",
          "name": "stdout",
          "text": [
            "Mounted at /content/drive\n"
          ]
        }
      ],
      "source": [
        "from google.colab import drive\n",
        "drive.mount('/content/drive')"
      ]
    },
    {
      "cell_type": "markdown",
      "source": [
        "![alt text](https://drive.google.com/uc?id=1pjH4x9821YVY_pTLR0SVvWoY-NOIx6rG)\n",
        "\n",
        "Dalam data mining terdapat 3 (tiga) metodologi yang bisa diterapkan untuk industry maupun penulisan ilmiah. Ketiga metodologi tersebut antara lain **KDD (Knowledge Discovery ftom Data) (Han and Kamber, 2012)**, **SEMMA (Sample, Explore, Modif, Model, and Asses)(Makhabel, 2015)**, dan **CRISP-DM (Cross Industry Standard Process for Data Mining) (North, 2012)**.\n",
        "\n",
        "Data mining menjadi salah satu cabang bidang keilmuan baru dan popular dalam dunia computer sehingga beberapa perusahaan-perusahaan besar terus mengembangkan dan menyempurnakan metodologi dalam data mining, salah satu metodologi yang berhasil dirumuskan adalah CRISP-DM. \n",
        "\n",
        "**CRISP-DM** diperkenalkan pada tahun 1999 oleh empat perusahaan besar, yaitu perusahaan pembuat mobil Daimler-Benz, produsen perangkat keras dan perangkat lunak NRC Corp, penyedia asuransi OHRA, dan perusahaan pembuat perangkat statistik SPSS, Inc. Gambar 1 menunjukan 6 (enam) tahapan dalam metodologi CRIPS-DM, yaitu business understanding, data understanding, data preparation, modeling, evaluation, dan deployment.\n",
        "\n",
        "\n",
        "\n",
        "*   **Business understanding** adalah tahapan awal dari metodologi CRISP-DM. Tahapan business understanding berisi tentang menentukan tujuan bisnis, menilai situasi saat ini dan menetapkan tujuan dilakukan data mining. Tahapan ini sangat penting, namun sering diabaikan ketika seseorang terjun ke dunia data mining.\n",
        "*   **Data understanding** adalah kegiatan persiapan, mengevaluasi persyaratan data, dan termasuk pengumpulan data. Pada tahapan ini, data yang berhasil dikumpulkan kemudian dideklarasikan (bagian mana yang atribut, kelas, dan tipe data).\n",
        "*   **Data preparation**, setelah data dikumpulkan, data-data tersebut perlu diidentifikasi, dipilih, dibersihkan, kemudian dibangun kedalam bentuk/format yang diinginkan. Data preparation disebut juga dengan data pre-processing.\n",
        "*   **Modeling**, Model adalah aplikai dari algoritma untuk mencari, mengidentifikasi, dan menampilkan pola. Pemilihan algoritma berdasarkan tipe data karena dari tipe data kita bisa mengetahui apakah data tersebut akan diestimasi, prediksi, klasifikasi, clustering, atau melihat hubungan asosiatif.\n",
        "*   **Evaluation** digunakan untuk membantu pengukuran evaluasi pada model. Kita bisa mengukur model mana yang paling baik digunakan untuk proses data mining. Ada penerapan klasifikasi, pengukuran evaluasi yang banyak digunakan adalah akurasi, sensitivity, sprditivity, G-Mean, F-Measure, dan lain sebagainya.\n",
        "*   **Deployment** adalah tahapan akhir dalam CRISP-DM. Setelah model dievaluasi dan dipilih algoritma dengan hasil pengukuran terbaik, dilanjutkan ke tahapan deployment. Tahapan deployment digunakan untuk melakukan otomatisasi model atau pengembangan aplikasi, terintegrasi dengan sistem informasi manajemen atau operasi operasional yang ada.\n",
        "\n",
        "\n",
        "\n",
        "\n",
        "\n",
        "\n",
        "\n",
        "\n",
        "\n",
        "\n",
        "\n"
      ],
      "metadata": {
        "id": "qR1HvzBywrOW"
      }
    },
    {
      "cell_type": "markdown",
      "source": [
        "# Business Understanding"
      ],
      "metadata": {
        "id": "0sbK89ghzZB5"
      }
    },
    {
      "cell_type": "markdown",
      "source": [
        "Penyakit payudara menempati posisi pertama dalam beberapa waktu dari jumlah pertumbuhan ganas terbesar di Indonesia dan mungkin merupakan pendukung paling awal dari kematian pertumbuhan ganas. Data Globocan tahun 2020, jumlah kasus baru kanker payudara mencapai 68.858 kasur (16.6%) dari total 396.914 kasus baru pertumbuhan ganas di Indonesia. Sementara itu, untuk jumlah kematiannya mencapai lebih dari 22 ribu juta kasus. Tingginya angka kanker pyudara di Indonesia menjadi prioritas penanganan oleh pemerintah, namun demikian bukan berarti penenganan kanker jenis lainnya diabaikan. Pada saat yang sama, Kemenkes tetap melakukan upaya penanggulangan terhadap penyakit kanker lainnya seperti yang tertuang dalam Rencana Aksi Nasional Kanker 2022 – 2022. kesimpulannya pada penelitian ini akan mengambil dari dua data tersebut yaitu kanker payudara dan kanker hati. "
      ],
      "metadata": {
        "id": "OCXGLNjezVQ2"
      }
    },
    {
      "cell_type": "markdown",
      "source": [
        "# Data Understanding"
      ],
      "metadata": {
        "id": "PMDbebqEw7Cq"
      }
    },
    {
      "cell_type": "markdown",
      "source": [
        "Untuk menggunakan Pandas, kita harus mengimport library di awal program python. \n",
        "\n",
        "\n",
        "```\n",
        "# Import Pandas Library\n",
        "import pandas as pd\n",
        "```\n",
        "Selanjutnya variabel pd dapat kita gunakan untuk memanggil fungsi-fungsi pandas dalam program kita. Pandas menggunakan konsep penyimpanan data yang dikenal dengan **Dataframe**. Dataframe ini mirip seperti *dictionary* (terdapat *key* dan *value*) dan list. \n",
        "\n",
        "Setelah melakukan *import library pandas*, selanjutnya adalah memanggil dan membaca sumber data (dataset) kedalam program kita. Pandas dapat memanggil dan membaca data dari berbagai sumber dan bermacam format (*extension*). Namun format data yang sering digunakan adalah **file CSV(nama_file.csv)**. File CSV (*comma-separated values*) merupakan sebuah format data yang kolom-kolomnya dipisahkan oleh tanda koma. Perintah untuk mengimport data file csv di python menggunakan pandas (pd) adalah :\n",
        "\n",
        "\n",
        "```\n",
        "# Panggil nama file breast-cancer-699_10_Missing.csv\n",
        "# Simpan pada variabel data\n",
        "data = pd.read_csv('/content/drive/MyDrive/DataSet/BreastCancer/type_1/breast-cancer-699_10_Missing.csv')\n",
        "\n",
        "```"
      ],
      "metadata": {
        "id": "Yx_6FlOC8-IN"
      }
    },
    {
      "cell_type": "code",
      "source": [
        "import pandas as pd\n",
        "\n",
        "data = pd.read_csv('/content/drive/MyDrive/DataSet/BreastCancer/type_1/breast-cancer-699_10_Missing.csv')"
      ],
      "metadata": {
        "id": "tpyNc4ZEG_vE"
      },
      "execution_count": null,
      "outputs": []
    },
    {
      "cell_type": "markdown",
      "source": [
        "Fungsi **.head()** digunakan untuk melihat data sebanyak n pada kolom awal. Jika nilai n tidak diisi, (secara default n = 5) akan ditampilkan 5 data teratas.\n",
        "\n",
        "```\n",
        "# Menampilkan data secara default\n",
        "data.head()\n",
        "\n",
        "# Menampilkan 100 data teratas\n",
        "data.head(100)\n",
        "```\n",
        "\n"
      ],
      "metadata": {
        "id": "okWS__AjxyM6"
      }
    },
    {
      "cell_type": "code",
      "source": [
        "# menampilkan 5 data teratas\n",
        "data.head()"
      ],
      "metadata": {
        "id": "maQpFt_WHBYX",
        "colab": {
          "base_uri": "https://localhost:8080/",
          "height": 206
        },
        "outputId": "1a64bdbd-657d-4c9d-84e9-e5aa6e573de5"
      },
      "execution_count": null,
      "outputs": [
        {
          "output_type": "execute_result",
          "data": {
            "text/plain": [
              "   clumpThickness  UoCSz  UoCSh  MA  SECZ bareNuc  BlandChro  NormalNucl  \\\n",
              "0               5      1      1   1     2       1          3           1   \n",
              "1               5      4      4   5     7      10          3           2   \n",
              "2               3      1      1   1     2       2          3           1   \n",
              "3               6      8      8   1     3       4          3           7   \n",
              "4               4      1      1   3     2       1          3           1   \n",
              "\n",
              "   Mitoses  Class  \n",
              "0        1      2  \n",
              "1        1      2  \n",
              "2        1      2  \n",
              "3        1      2  \n",
              "4        1      2  "
            ],
            "text/html": [
              "\n",
              "  <div id=\"df-86ee69df-dc2d-47e8-aea6-9d0125b06154\">\n",
              "    <div class=\"colab-df-container\">\n",
              "      <div>\n",
              "<style scoped>\n",
              "    .dataframe tbody tr th:only-of-type {\n",
              "        vertical-align: middle;\n",
              "    }\n",
              "\n",
              "    .dataframe tbody tr th {\n",
              "        vertical-align: top;\n",
              "    }\n",
              "\n",
              "    .dataframe thead th {\n",
              "        text-align: right;\n",
              "    }\n",
              "</style>\n",
              "<table border=\"1\" class=\"dataframe\">\n",
              "  <thead>\n",
              "    <tr style=\"text-align: right;\">\n",
              "      <th></th>\n",
              "      <th>clumpThickness</th>\n",
              "      <th>UoCSz</th>\n",
              "      <th>UoCSh</th>\n",
              "      <th>MA</th>\n",
              "      <th>SECZ</th>\n",
              "      <th>bareNuc</th>\n",
              "      <th>BlandChro</th>\n",
              "      <th>NormalNucl</th>\n",
              "      <th>Mitoses</th>\n",
              "      <th>Class</th>\n",
              "    </tr>\n",
              "  </thead>\n",
              "  <tbody>\n",
              "    <tr>\n",
              "      <th>0</th>\n",
              "      <td>5</td>\n",
              "      <td>1</td>\n",
              "      <td>1</td>\n",
              "      <td>1</td>\n",
              "      <td>2</td>\n",
              "      <td>1</td>\n",
              "      <td>3</td>\n",
              "      <td>1</td>\n",
              "      <td>1</td>\n",
              "      <td>2</td>\n",
              "    </tr>\n",
              "    <tr>\n",
              "      <th>1</th>\n",
              "      <td>5</td>\n",
              "      <td>4</td>\n",
              "      <td>4</td>\n",
              "      <td>5</td>\n",
              "      <td>7</td>\n",
              "      <td>10</td>\n",
              "      <td>3</td>\n",
              "      <td>2</td>\n",
              "      <td>1</td>\n",
              "      <td>2</td>\n",
              "    </tr>\n",
              "    <tr>\n",
              "      <th>2</th>\n",
              "      <td>3</td>\n",
              "      <td>1</td>\n",
              "      <td>1</td>\n",
              "      <td>1</td>\n",
              "      <td>2</td>\n",
              "      <td>2</td>\n",
              "      <td>3</td>\n",
              "      <td>1</td>\n",
              "      <td>1</td>\n",
              "      <td>2</td>\n",
              "    </tr>\n",
              "    <tr>\n",
              "      <th>3</th>\n",
              "      <td>6</td>\n",
              "      <td>8</td>\n",
              "      <td>8</td>\n",
              "      <td>1</td>\n",
              "      <td>3</td>\n",
              "      <td>4</td>\n",
              "      <td>3</td>\n",
              "      <td>7</td>\n",
              "      <td>1</td>\n",
              "      <td>2</td>\n",
              "    </tr>\n",
              "    <tr>\n",
              "      <th>4</th>\n",
              "      <td>4</td>\n",
              "      <td>1</td>\n",
              "      <td>1</td>\n",
              "      <td>3</td>\n",
              "      <td>2</td>\n",
              "      <td>1</td>\n",
              "      <td>3</td>\n",
              "      <td>1</td>\n",
              "      <td>1</td>\n",
              "      <td>2</td>\n",
              "    </tr>\n",
              "  </tbody>\n",
              "</table>\n",
              "</div>\n",
              "      <button class=\"colab-df-convert\" onclick=\"convertToInteractive('df-86ee69df-dc2d-47e8-aea6-9d0125b06154')\"\n",
              "              title=\"Convert this dataframe to an interactive table.\"\n",
              "              style=\"display:none;\">\n",
              "        \n",
              "  <svg xmlns=\"http://www.w3.org/2000/svg\" height=\"24px\"viewBox=\"0 0 24 24\"\n",
              "       width=\"24px\">\n",
              "    <path d=\"M0 0h24v24H0V0z\" fill=\"none\"/>\n",
              "    <path d=\"M18.56 5.44l.94 2.06.94-2.06 2.06-.94-2.06-.94-.94-2.06-.94 2.06-2.06.94zm-11 1L8.5 8.5l.94-2.06 2.06-.94-2.06-.94L8.5 2.5l-.94 2.06-2.06.94zm10 10l.94 2.06.94-2.06 2.06-.94-2.06-.94-.94-2.06-.94 2.06-2.06.94z\"/><path d=\"M17.41 7.96l-1.37-1.37c-.4-.4-.92-.59-1.43-.59-.52 0-1.04.2-1.43.59L10.3 9.45l-7.72 7.72c-.78.78-.78 2.05 0 2.83L4 21.41c.39.39.9.59 1.41.59.51 0 1.02-.2 1.41-.59l7.78-7.78 2.81-2.81c.8-.78.8-2.07 0-2.86zM5.41 20L4 18.59l7.72-7.72 1.47 1.35L5.41 20z\"/>\n",
              "  </svg>\n",
              "      </button>\n",
              "      \n",
              "  <style>\n",
              "    .colab-df-container {\n",
              "      display:flex;\n",
              "      flex-wrap:wrap;\n",
              "      gap: 12px;\n",
              "    }\n",
              "\n",
              "    .colab-df-convert {\n",
              "      background-color: #E8F0FE;\n",
              "      border: none;\n",
              "      border-radius: 50%;\n",
              "      cursor: pointer;\n",
              "      display: none;\n",
              "      fill: #1967D2;\n",
              "      height: 32px;\n",
              "      padding: 0 0 0 0;\n",
              "      width: 32px;\n",
              "    }\n",
              "\n",
              "    .colab-df-convert:hover {\n",
              "      background-color: #E2EBFA;\n",
              "      box-shadow: 0px 1px 2px rgba(60, 64, 67, 0.3), 0px 1px 3px 1px rgba(60, 64, 67, 0.15);\n",
              "      fill: #174EA6;\n",
              "    }\n",
              "\n",
              "    [theme=dark] .colab-df-convert {\n",
              "      background-color: #3B4455;\n",
              "      fill: #D2E3FC;\n",
              "    }\n",
              "\n",
              "    [theme=dark] .colab-df-convert:hover {\n",
              "      background-color: #434B5C;\n",
              "      box-shadow: 0px 1px 3px 1px rgba(0, 0, 0, 0.15);\n",
              "      filter: drop-shadow(0px 1px 2px rgba(0, 0, 0, 0.3));\n",
              "      fill: #FFFFFF;\n",
              "    }\n",
              "  </style>\n",
              "\n",
              "      <script>\n",
              "        const buttonEl =\n",
              "          document.querySelector('#df-86ee69df-dc2d-47e8-aea6-9d0125b06154 button.colab-df-convert');\n",
              "        buttonEl.style.display =\n",
              "          google.colab.kernel.accessAllowed ? 'block' : 'none';\n",
              "\n",
              "        async function convertToInteractive(key) {\n",
              "          const element = document.querySelector('#df-86ee69df-dc2d-47e8-aea6-9d0125b06154');\n",
              "          const dataTable =\n",
              "            await google.colab.kernel.invokeFunction('convertToInteractive',\n",
              "                                                     [key], {});\n",
              "          if (!dataTable) return;\n",
              "\n",
              "          const docLinkHtml = 'Like what you see? Visit the ' +\n",
              "            '<a target=\"_blank\" href=https://colab.research.google.com/notebooks/data_table.ipynb>data table notebook</a>'\n",
              "            + ' to learn more about interactive tables.';\n",
              "          element.innerHTML = '';\n",
              "          dataTable['output_type'] = 'display_data';\n",
              "          await google.colab.output.renderOutput(dataTable, element);\n",
              "          const docLink = document.createElement('div');\n",
              "          docLink.innerHTML = docLinkHtml;\n",
              "          element.appendChild(docLink);\n",
              "        }\n",
              "      </script>\n",
              "    </div>\n",
              "  </div>\n",
              "  "
            ]
          },
          "metadata": {},
          "execution_count": 3
        }
      ]
    },
    {
      "cell_type": "markdown",
      "source": [
        "Fungsi **tail(n)** berfungsi untuk melihat data sebanyak n pada kolom akhir. Jika nilai n tidak diisi, (secara default n = 5) akan ditampilkan 5 data terakhir.\n",
        "\n",
        "```\n",
        "# Menampilkan data secara default\n",
        "data.tail()\n",
        "\n",
        "# Menampilkan 100 data terakhir\n",
        "data.tail(100)\n",
        "```"
      ],
      "metadata": {
        "id": "HpomCRBYG7dI"
      }
    },
    {
      "cell_type": "code",
      "source": [
        "# menampilkan 5 data terbawah\n",
        "data.tail()"
      ],
      "metadata": {
        "colab": {
          "base_uri": "https://localhost:8080/",
          "height": 206
        },
        "id": "lQwY0UuhHQ7p",
        "outputId": "9fbfe796-d48b-4249-c4a7-553cbf996c3b"
      },
      "execution_count": null,
      "outputs": [
        {
          "output_type": "execute_result",
          "data": {
            "text/plain": [
              "     clumpThickness  UoCSz  UoCSh  MA  SECZ bareNuc  BlandChro  NormalNucl  \\\n",
              "694               3      1      1   1     3       2          1           1   \n",
              "695               2      1      1   1     2       1          1           1   \n",
              "696               5     10     10   3     7       3          8          10   \n",
              "697               4      8      6   4     3       4         10           6   \n",
              "698               4      8      8   5     4       5         10           4   \n",
              "\n",
              "     Mitoses  Class  \n",
              "694        1      2  \n",
              "695        1      2  \n",
              "696        2      4  \n",
              "697        1      4  \n",
              "698        1      4  "
            ],
            "text/html": [
              "\n",
              "  <div id=\"df-3ed2a735-3b48-4bca-a625-4940bd1118bc\">\n",
              "    <div class=\"colab-df-container\">\n",
              "      <div>\n",
              "<style scoped>\n",
              "    .dataframe tbody tr th:only-of-type {\n",
              "        vertical-align: middle;\n",
              "    }\n",
              "\n",
              "    .dataframe tbody tr th {\n",
              "        vertical-align: top;\n",
              "    }\n",
              "\n",
              "    .dataframe thead th {\n",
              "        text-align: right;\n",
              "    }\n",
              "</style>\n",
              "<table border=\"1\" class=\"dataframe\">\n",
              "  <thead>\n",
              "    <tr style=\"text-align: right;\">\n",
              "      <th></th>\n",
              "      <th>clumpThickness</th>\n",
              "      <th>UoCSz</th>\n",
              "      <th>UoCSh</th>\n",
              "      <th>MA</th>\n",
              "      <th>SECZ</th>\n",
              "      <th>bareNuc</th>\n",
              "      <th>BlandChro</th>\n",
              "      <th>NormalNucl</th>\n",
              "      <th>Mitoses</th>\n",
              "      <th>Class</th>\n",
              "    </tr>\n",
              "  </thead>\n",
              "  <tbody>\n",
              "    <tr>\n",
              "      <th>694</th>\n",
              "      <td>3</td>\n",
              "      <td>1</td>\n",
              "      <td>1</td>\n",
              "      <td>1</td>\n",
              "      <td>3</td>\n",
              "      <td>2</td>\n",
              "      <td>1</td>\n",
              "      <td>1</td>\n",
              "      <td>1</td>\n",
              "      <td>2</td>\n",
              "    </tr>\n",
              "    <tr>\n",
              "      <th>695</th>\n",
              "      <td>2</td>\n",
              "      <td>1</td>\n",
              "      <td>1</td>\n",
              "      <td>1</td>\n",
              "      <td>2</td>\n",
              "      <td>1</td>\n",
              "      <td>1</td>\n",
              "      <td>1</td>\n",
              "      <td>1</td>\n",
              "      <td>2</td>\n",
              "    </tr>\n",
              "    <tr>\n",
              "      <th>696</th>\n",
              "      <td>5</td>\n",
              "      <td>10</td>\n",
              "      <td>10</td>\n",
              "      <td>3</td>\n",
              "      <td>7</td>\n",
              "      <td>3</td>\n",
              "      <td>8</td>\n",
              "      <td>10</td>\n",
              "      <td>2</td>\n",
              "      <td>4</td>\n",
              "    </tr>\n",
              "    <tr>\n",
              "      <th>697</th>\n",
              "      <td>4</td>\n",
              "      <td>8</td>\n",
              "      <td>6</td>\n",
              "      <td>4</td>\n",
              "      <td>3</td>\n",
              "      <td>4</td>\n",
              "      <td>10</td>\n",
              "      <td>6</td>\n",
              "      <td>1</td>\n",
              "      <td>4</td>\n",
              "    </tr>\n",
              "    <tr>\n",
              "      <th>698</th>\n",
              "      <td>4</td>\n",
              "      <td>8</td>\n",
              "      <td>8</td>\n",
              "      <td>5</td>\n",
              "      <td>4</td>\n",
              "      <td>5</td>\n",
              "      <td>10</td>\n",
              "      <td>4</td>\n",
              "      <td>1</td>\n",
              "      <td>4</td>\n",
              "    </tr>\n",
              "  </tbody>\n",
              "</table>\n",
              "</div>\n",
              "      <button class=\"colab-df-convert\" onclick=\"convertToInteractive('df-3ed2a735-3b48-4bca-a625-4940bd1118bc')\"\n",
              "              title=\"Convert this dataframe to an interactive table.\"\n",
              "              style=\"display:none;\">\n",
              "        \n",
              "  <svg xmlns=\"http://www.w3.org/2000/svg\" height=\"24px\"viewBox=\"0 0 24 24\"\n",
              "       width=\"24px\">\n",
              "    <path d=\"M0 0h24v24H0V0z\" fill=\"none\"/>\n",
              "    <path d=\"M18.56 5.44l.94 2.06.94-2.06 2.06-.94-2.06-.94-.94-2.06-.94 2.06-2.06.94zm-11 1L8.5 8.5l.94-2.06 2.06-.94-2.06-.94L8.5 2.5l-.94 2.06-2.06.94zm10 10l.94 2.06.94-2.06 2.06-.94-2.06-.94-.94-2.06-.94 2.06-2.06.94z\"/><path d=\"M17.41 7.96l-1.37-1.37c-.4-.4-.92-.59-1.43-.59-.52 0-1.04.2-1.43.59L10.3 9.45l-7.72 7.72c-.78.78-.78 2.05 0 2.83L4 21.41c.39.39.9.59 1.41.59.51 0 1.02-.2 1.41-.59l7.78-7.78 2.81-2.81c.8-.78.8-2.07 0-2.86zM5.41 20L4 18.59l7.72-7.72 1.47 1.35L5.41 20z\"/>\n",
              "  </svg>\n",
              "      </button>\n",
              "      \n",
              "  <style>\n",
              "    .colab-df-container {\n",
              "      display:flex;\n",
              "      flex-wrap:wrap;\n",
              "      gap: 12px;\n",
              "    }\n",
              "\n",
              "    .colab-df-convert {\n",
              "      background-color: #E8F0FE;\n",
              "      border: none;\n",
              "      border-radius: 50%;\n",
              "      cursor: pointer;\n",
              "      display: none;\n",
              "      fill: #1967D2;\n",
              "      height: 32px;\n",
              "      padding: 0 0 0 0;\n",
              "      width: 32px;\n",
              "    }\n",
              "\n",
              "    .colab-df-convert:hover {\n",
              "      background-color: #E2EBFA;\n",
              "      box-shadow: 0px 1px 2px rgba(60, 64, 67, 0.3), 0px 1px 3px 1px rgba(60, 64, 67, 0.15);\n",
              "      fill: #174EA6;\n",
              "    }\n",
              "\n",
              "    [theme=dark] .colab-df-convert {\n",
              "      background-color: #3B4455;\n",
              "      fill: #D2E3FC;\n",
              "    }\n",
              "\n",
              "    [theme=dark] .colab-df-convert:hover {\n",
              "      background-color: #434B5C;\n",
              "      box-shadow: 0px 1px 3px 1px rgba(0, 0, 0, 0.15);\n",
              "      filter: drop-shadow(0px 1px 2px rgba(0, 0, 0, 0.3));\n",
              "      fill: #FFFFFF;\n",
              "    }\n",
              "  </style>\n",
              "\n",
              "      <script>\n",
              "        const buttonEl =\n",
              "          document.querySelector('#df-3ed2a735-3b48-4bca-a625-4940bd1118bc button.colab-df-convert');\n",
              "        buttonEl.style.display =\n",
              "          google.colab.kernel.accessAllowed ? 'block' : 'none';\n",
              "\n",
              "        async function convertToInteractive(key) {\n",
              "          const element = document.querySelector('#df-3ed2a735-3b48-4bca-a625-4940bd1118bc');\n",
              "          const dataTable =\n",
              "            await google.colab.kernel.invokeFunction('convertToInteractive',\n",
              "                                                     [key], {});\n",
              "          if (!dataTable) return;\n",
              "\n",
              "          const docLinkHtml = 'Like what you see? Visit the ' +\n",
              "            '<a target=\"_blank\" href=https://colab.research.google.com/notebooks/data_table.ipynb>data table notebook</a>'\n",
              "            + ' to learn more about interactive tables.';\n",
              "          element.innerHTML = '';\n",
              "          dataTable['output_type'] = 'display_data';\n",
              "          await google.colab.output.renderOutput(dataTable, element);\n",
              "          const docLink = document.createElement('div');\n",
              "          docLink.innerHTML = docLinkHtml;\n",
              "          element.appendChild(docLink);\n",
              "        }\n",
              "      </script>\n",
              "    </div>\n",
              "  </div>\n",
              "  "
            ]
          },
          "metadata": {},
          "execution_count": 4
        }
      ]
    },
    {
      "cell_type": "markdown",
      "source": [
        "Fungsi **columns** digunakan untuk menampilkan nama kolom pada dataset.\n",
        "\n",
        "```\n",
        "# Menampilkan nama kolom pada data\n",
        "data.columns\n",
        "\n",
        "# Menampilkan nama kolom tertentu pada data\n",
        "data.columns[index]\n",
        "```"
      ],
      "metadata": {
        "id": "_0cuU3KPovtF"
      }
    },
    {
      "cell_type": "code",
      "source": [
        "# menampilkan nama semua kolom pada data\n",
        "data.columns"
      ],
      "metadata": {
        "colab": {
          "base_uri": "https://localhost:8080/"
        },
        "id": "DNNVdy6coppa",
        "outputId": "c6beae52-a450-406f-8d7a-85ba46dfbf2e"
      },
      "execution_count": null,
      "outputs": [
        {
          "output_type": "execute_result",
          "data": {
            "text/plain": [
              "Index(['clumpThickness', 'UoCSz', 'UoCSh', 'MA', 'SECZ', 'bareNuc',\n",
              "       'BlandChro', 'NormalNucl', 'Mitoses', 'Class'],\n",
              "      dtype='object')"
            ]
          },
          "metadata": {},
          "execution_count": 5
        }
      ]
    },
    {
      "cell_type": "code",
      "source": [
        "# menampilkan nama kolom dengan index 8\n",
        "data.columns[8]"
      ],
      "metadata": {
        "colab": {
          "base_uri": "https://localhost:8080/",
          "height": 36
        },
        "id": "U7c3j21yql9b",
        "outputId": "9e867aba-c197-480e-f263-36b08ee00a60"
      },
      "execution_count": null,
      "outputs": [
        {
          "output_type": "execute_result",
          "data": {
            "text/plain": [
              "'Mitoses'"
            ],
            "application/vnd.google.colaboratory.intrinsic+json": {
              "type": "string"
            }
          },
          "metadata": {},
          "execution_count": 6
        }
      ]
    },
    {
      "cell_type": "markdown",
      "source": [
        "Fungsi **shape** digunakan untuk melihat jumlah baris dan kolom.\n",
        "\n",
        "\n",
        "```\n",
        "# Menampilkan jumlah baris dan kolom pada data.\n",
        "data.shape\n",
        "```\n",
        "\n"
      ],
      "metadata": {
        "id": "R7nFLfIQGatF"
      }
    },
    {
      "cell_type": "code",
      "source": [
        "data.shape"
      ],
      "metadata": {
        "colab": {
          "base_uri": "https://localhost:8080/"
        },
        "id": "q1olJa6PGoPG",
        "outputId": "34c6bfdf-6b2e-48bc-a482-66c3f9da2e63"
      },
      "execution_count": null,
      "outputs": [
        {
          "output_type": "execute_result",
          "data": {
            "text/plain": [
              "(699, 10)"
            ]
          },
          "metadata": {},
          "execution_count": 7
        }
      ]
    },
    {
      "cell_type": "markdown",
      "source": [
        "Untuk menampilkan semua data pada kolom tertentu bisa menggunakan perintah :\n",
        "\n",
        "\n",
        "\n",
        "```\n",
        "# Menampilkan data pada kolom tertentu\n",
        "data[\"nama_kolom\"] atau data[[\"nama_kolom\"]]\n",
        "\n",
        "# Menampilkan data pada beberapa kolom tertentu\n",
        "data[[\"nama_kolom_1\", \"nama_kolom_2\", \"nama_kolom_3\", dst]]\n",
        "\n",
        "# Menampilkan kolom menggunakan index\n",
        "data[[data.columns[index], data.columns[index + 1], dst]]\n",
        "```\n",
        "\n",
        "\n",
        "\n",
        "Sebagai contoh perintah untuk menampilkan kolom *clumpThickness* dan perintah untuk menampilkan kolom  *clumpThickness* dan *Class*."
      ],
      "metadata": {
        "id": "ed34qb4wDv9s"
      }
    },
    {
      "cell_type": "code",
      "source": [
        "# menampilkan kolom clumpThickness\n",
        "data[[\"clumpThickness\"]]"
      ],
      "metadata": {
        "colab": {
          "base_uri": "https://localhost:8080/",
          "height": 423
        },
        "id": "l3CenbWRDvaw",
        "outputId": "8f91715c-81c9-4f9e-86c6-9d85618d0ca8"
      },
      "execution_count": null,
      "outputs": [
        {
          "output_type": "execute_result",
          "data": {
            "text/plain": [
              "     clumpThickness\n",
              "0                 5\n",
              "1                 5\n",
              "2                 3\n",
              "3                 6\n",
              "4                 4\n",
              "..              ...\n",
              "694               3\n",
              "695               2\n",
              "696               5\n",
              "697               4\n",
              "698               4\n",
              "\n",
              "[699 rows x 1 columns]"
            ],
            "text/html": [
              "\n",
              "  <div id=\"df-1483c420-454a-4e94-abb6-724fb275b247\">\n",
              "    <div class=\"colab-df-container\">\n",
              "      <div>\n",
              "<style scoped>\n",
              "    .dataframe tbody tr th:only-of-type {\n",
              "        vertical-align: middle;\n",
              "    }\n",
              "\n",
              "    .dataframe tbody tr th {\n",
              "        vertical-align: top;\n",
              "    }\n",
              "\n",
              "    .dataframe thead th {\n",
              "        text-align: right;\n",
              "    }\n",
              "</style>\n",
              "<table border=\"1\" class=\"dataframe\">\n",
              "  <thead>\n",
              "    <tr style=\"text-align: right;\">\n",
              "      <th></th>\n",
              "      <th>clumpThickness</th>\n",
              "    </tr>\n",
              "  </thead>\n",
              "  <tbody>\n",
              "    <tr>\n",
              "      <th>0</th>\n",
              "      <td>5</td>\n",
              "    </tr>\n",
              "    <tr>\n",
              "      <th>1</th>\n",
              "      <td>5</td>\n",
              "    </tr>\n",
              "    <tr>\n",
              "      <th>2</th>\n",
              "      <td>3</td>\n",
              "    </tr>\n",
              "    <tr>\n",
              "      <th>3</th>\n",
              "      <td>6</td>\n",
              "    </tr>\n",
              "    <tr>\n",
              "      <th>4</th>\n",
              "      <td>4</td>\n",
              "    </tr>\n",
              "    <tr>\n",
              "      <th>...</th>\n",
              "      <td>...</td>\n",
              "    </tr>\n",
              "    <tr>\n",
              "      <th>694</th>\n",
              "      <td>3</td>\n",
              "    </tr>\n",
              "    <tr>\n",
              "      <th>695</th>\n",
              "      <td>2</td>\n",
              "    </tr>\n",
              "    <tr>\n",
              "      <th>696</th>\n",
              "      <td>5</td>\n",
              "    </tr>\n",
              "    <tr>\n",
              "      <th>697</th>\n",
              "      <td>4</td>\n",
              "    </tr>\n",
              "    <tr>\n",
              "      <th>698</th>\n",
              "      <td>4</td>\n",
              "    </tr>\n",
              "  </tbody>\n",
              "</table>\n",
              "<p>699 rows × 1 columns</p>\n",
              "</div>\n",
              "      <button class=\"colab-df-convert\" onclick=\"convertToInteractive('df-1483c420-454a-4e94-abb6-724fb275b247')\"\n",
              "              title=\"Convert this dataframe to an interactive table.\"\n",
              "              style=\"display:none;\">\n",
              "        \n",
              "  <svg xmlns=\"http://www.w3.org/2000/svg\" height=\"24px\"viewBox=\"0 0 24 24\"\n",
              "       width=\"24px\">\n",
              "    <path d=\"M0 0h24v24H0V0z\" fill=\"none\"/>\n",
              "    <path d=\"M18.56 5.44l.94 2.06.94-2.06 2.06-.94-2.06-.94-.94-2.06-.94 2.06-2.06.94zm-11 1L8.5 8.5l.94-2.06 2.06-.94-2.06-.94L8.5 2.5l-.94 2.06-2.06.94zm10 10l.94 2.06.94-2.06 2.06-.94-2.06-.94-.94-2.06-.94 2.06-2.06.94z\"/><path d=\"M17.41 7.96l-1.37-1.37c-.4-.4-.92-.59-1.43-.59-.52 0-1.04.2-1.43.59L10.3 9.45l-7.72 7.72c-.78.78-.78 2.05 0 2.83L4 21.41c.39.39.9.59 1.41.59.51 0 1.02-.2 1.41-.59l7.78-7.78 2.81-2.81c.8-.78.8-2.07 0-2.86zM5.41 20L4 18.59l7.72-7.72 1.47 1.35L5.41 20z\"/>\n",
              "  </svg>\n",
              "      </button>\n",
              "      \n",
              "  <style>\n",
              "    .colab-df-container {\n",
              "      display:flex;\n",
              "      flex-wrap:wrap;\n",
              "      gap: 12px;\n",
              "    }\n",
              "\n",
              "    .colab-df-convert {\n",
              "      background-color: #E8F0FE;\n",
              "      border: none;\n",
              "      border-radius: 50%;\n",
              "      cursor: pointer;\n",
              "      display: none;\n",
              "      fill: #1967D2;\n",
              "      height: 32px;\n",
              "      padding: 0 0 0 0;\n",
              "      width: 32px;\n",
              "    }\n",
              "\n",
              "    .colab-df-convert:hover {\n",
              "      background-color: #E2EBFA;\n",
              "      box-shadow: 0px 1px 2px rgba(60, 64, 67, 0.3), 0px 1px 3px 1px rgba(60, 64, 67, 0.15);\n",
              "      fill: #174EA6;\n",
              "    }\n",
              "\n",
              "    [theme=dark] .colab-df-convert {\n",
              "      background-color: #3B4455;\n",
              "      fill: #D2E3FC;\n",
              "    }\n",
              "\n",
              "    [theme=dark] .colab-df-convert:hover {\n",
              "      background-color: #434B5C;\n",
              "      box-shadow: 0px 1px 3px 1px rgba(0, 0, 0, 0.15);\n",
              "      filter: drop-shadow(0px 1px 2px rgba(0, 0, 0, 0.3));\n",
              "      fill: #FFFFFF;\n",
              "    }\n",
              "  </style>\n",
              "\n",
              "      <script>\n",
              "        const buttonEl =\n",
              "          document.querySelector('#df-1483c420-454a-4e94-abb6-724fb275b247 button.colab-df-convert');\n",
              "        buttonEl.style.display =\n",
              "          google.colab.kernel.accessAllowed ? 'block' : 'none';\n",
              "\n",
              "        async function convertToInteractive(key) {\n",
              "          const element = document.querySelector('#df-1483c420-454a-4e94-abb6-724fb275b247');\n",
              "          const dataTable =\n",
              "            await google.colab.kernel.invokeFunction('convertToInteractive',\n",
              "                                                     [key], {});\n",
              "          if (!dataTable) return;\n",
              "\n",
              "          const docLinkHtml = 'Like what you see? Visit the ' +\n",
              "            '<a target=\"_blank\" href=https://colab.research.google.com/notebooks/data_table.ipynb>data table notebook</a>'\n",
              "            + ' to learn more about interactive tables.';\n",
              "          element.innerHTML = '';\n",
              "          dataTable['output_type'] = 'display_data';\n",
              "          await google.colab.output.renderOutput(dataTable, element);\n",
              "          const docLink = document.createElement('div');\n",
              "          docLink.innerHTML = docLinkHtml;\n",
              "          element.appendChild(docLink);\n",
              "        }\n",
              "      </script>\n",
              "    </div>\n",
              "  </div>\n",
              "  "
            ]
          },
          "metadata": {},
          "execution_count": 8
        }
      ]
    },
    {
      "cell_type": "code",
      "source": [
        "# menampilkan kolom clumpThickness dan Class\n",
        "data[[\"clumpThickness\", \"Class\"]]"
      ],
      "metadata": {
        "colab": {
          "base_uri": "https://localhost:8080/",
          "height": 423
        },
        "id": "Uezbbek1FRQB",
        "outputId": "f3edab97-dfbf-4d9e-a323-65e2d4960ac7"
      },
      "execution_count": null,
      "outputs": [
        {
          "output_type": "execute_result",
          "data": {
            "text/plain": [
              "     clumpThickness  Class\n",
              "0                 5      2\n",
              "1                 5      2\n",
              "2                 3      2\n",
              "3                 6      2\n",
              "4                 4      2\n",
              "..              ...    ...\n",
              "694               3      2\n",
              "695               2      2\n",
              "696               5      4\n",
              "697               4      4\n",
              "698               4      4\n",
              "\n",
              "[699 rows x 2 columns]"
            ],
            "text/html": [
              "\n",
              "  <div id=\"df-1f6d7238-d04e-439c-ab45-b20c9a0d41dc\">\n",
              "    <div class=\"colab-df-container\">\n",
              "      <div>\n",
              "<style scoped>\n",
              "    .dataframe tbody tr th:only-of-type {\n",
              "        vertical-align: middle;\n",
              "    }\n",
              "\n",
              "    .dataframe tbody tr th {\n",
              "        vertical-align: top;\n",
              "    }\n",
              "\n",
              "    .dataframe thead th {\n",
              "        text-align: right;\n",
              "    }\n",
              "</style>\n",
              "<table border=\"1\" class=\"dataframe\">\n",
              "  <thead>\n",
              "    <tr style=\"text-align: right;\">\n",
              "      <th></th>\n",
              "      <th>clumpThickness</th>\n",
              "      <th>Class</th>\n",
              "    </tr>\n",
              "  </thead>\n",
              "  <tbody>\n",
              "    <tr>\n",
              "      <th>0</th>\n",
              "      <td>5</td>\n",
              "      <td>2</td>\n",
              "    </tr>\n",
              "    <tr>\n",
              "      <th>1</th>\n",
              "      <td>5</td>\n",
              "      <td>2</td>\n",
              "    </tr>\n",
              "    <tr>\n",
              "      <th>2</th>\n",
              "      <td>3</td>\n",
              "      <td>2</td>\n",
              "    </tr>\n",
              "    <tr>\n",
              "      <th>3</th>\n",
              "      <td>6</td>\n",
              "      <td>2</td>\n",
              "    </tr>\n",
              "    <tr>\n",
              "      <th>4</th>\n",
              "      <td>4</td>\n",
              "      <td>2</td>\n",
              "    </tr>\n",
              "    <tr>\n",
              "      <th>...</th>\n",
              "      <td>...</td>\n",
              "      <td>...</td>\n",
              "    </tr>\n",
              "    <tr>\n",
              "      <th>694</th>\n",
              "      <td>3</td>\n",
              "      <td>2</td>\n",
              "    </tr>\n",
              "    <tr>\n",
              "      <th>695</th>\n",
              "      <td>2</td>\n",
              "      <td>2</td>\n",
              "    </tr>\n",
              "    <tr>\n",
              "      <th>696</th>\n",
              "      <td>5</td>\n",
              "      <td>4</td>\n",
              "    </tr>\n",
              "    <tr>\n",
              "      <th>697</th>\n",
              "      <td>4</td>\n",
              "      <td>4</td>\n",
              "    </tr>\n",
              "    <tr>\n",
              "      <th>698</th>\n",
              "      <td>4</td>\n",
              "      <td>4</td>\n",
              "    </tr>\n",
              "  </tbody>\n",
              "</table>\n",
              "<p>699 rows × 2 columns</p>\n",
              "</div>\n",
              "      <button class=\"colab-df-convert\" onclick=\"convertToInteractive('df-1f6d7238-d04e-439c-ab45-b20c9a0d41dc')\"\n",
              "              title=\"Convert this dataframe to an interactive table.\"\n",
              "              style=\"display:none;\">\n",
              "        \n",
              "  <svg xmlns=\"http://www.w3.org/2000/svg\" height=\"24px\"viewBox=\"0 0 24 24\"\n",
              "       width=\"24px\">\n",
              "    <path d=\"M0 0h24v24H0V0z\" fill=\"none\"/>\n",
              "    <path d=\"M18.56 5.44l.94 2.06.94-2.06 2.06-.94-2.06-.94-.94-2.06-.94 2.06-2.06.94zm-11 1L8.5 8.5l.94-2.06 2.06-.94-2.06-.94L8.5 2.5l-.94 2.06-2.06.94zm10 10l.94 2.06.94-2.06 2.06-.94-2.06-.94-.94-2.06-.94 2.06-2.06.94z\"/><path d=\"M17.41 7.96l-1.37-1.37c-.4-.4-.92-.59-1.43-.59-.52 0-1.04.2-1.43.59L10.3 9.45l-7.72 7.72c-.78.78-.78 2.05 0 2.83L4 21.41c.39.39.9.59 1.41.59.51 0 1.02-.2 1.41-.59l7.78-7.78 2.81-2.81c.8-.78.8-2.07 0-2.86zM5.41 20L4 18.59l7.72-7.72 1.47 1.35L5.41 20z\"/>\n",
              "  </svg>\n",
              "      </button>\n",
              "      \n",
              "  <style>\n",
              "    .colab-df-container {\n",
              "      display:flex;\n",
              "      flex-wrap:wrap;\n",
              "      gap: 12px;\n",
              "    }\n",
              "\n",
              "    .colab-df-convert {\n",
              "      background-color: #E8F0FE;\n",
              "      border: none;\n",
              "      border-radius: 50%;\n",
              "      cursor: pointer;\n",
              "      display: none;\n",
              "      fill: #1967D2;\n",
              "      height: 32px;\n",
              "      padding: 0 0 0 0;\n",
              "      width: 32px;\n",
              "    }\n",
              "\n",
              "    .colab-df-convert:hover {\n",
              "      background-color: #E2EBFA;\n",
              "      box-shadow: 0px 1px 2px rgba(60, 64, 67, 0.3), 0px 1px 3px 1px rgba(60, 64, 67, 0.15);\n",
              "      fill: #174EA6;\n",
              "    }\n",
              "\n",
              "    [theme=dark] .colab-df-convert {\n",
              "      background-color: #3B4455;\n",
              "      fill: #D2E3FC;\n",
              "    }\n",
              "\n",
              "    [theme=dark] .colab-df-convert:hover {\n",
              "      background-color: #434B5C;\n",
              "      box-shadow: 0px 1px 3px 1px rgba(0, 0, 0, 0.15);\n",
              "      filter: drop-shadow(0px 1px 2px rgba(0, 0, 0, 0.3));\n",
              "      fill: #FFFFFF;\n",
              "    }\n",
              "  </style>\n",
              "\n",
              "      <script>\n",
              "        const buttonEl =\n",
              "          document.querySelector('#df-1f6d7238-d04e-439c-ab45-b20c9a0d41dc button.colab-df-convert');\n",
              "        buttonEl.style.display =\n",
              "          google.colab.kernel.accessAllowed ? 'block' : 'none';\n",
              "\n",
              "        async function convertToInteractive(key) {\n",
              "          const element = document.querySelector('#df-1f6d7238-d04e-439c-ab45-b20c9a0d41dc');\n",
              "          const dataTable =\n",
              "            await google.colab.kernel.invokeFunction('convertToInteractive',\n",
              "                                                     [key], {});\n",
              "          if (!dataTable) return;\n",
              "\n",
              "          const docLinkHtml = 'Like what you see? Visit the ' +\n",
              "            '<a target=\"_blank\" href=https://colab.research.google.com/notebooks/data_table.ipynb>data table notebook</a>'\n",
              "            + ' to learn more about interactive tables.';\n",
              "          element.innerHTML = '';\n",
              "          dataTable['output_type'] = 'display_data';\n",
              "          await google.colab.output.renderOutput(dataTable, element);\n",
              "          const docLink = document.createElement('div');\n",
              "          docLink.innerHTML = docLinkHtml;\n",
              "          element.appendChild(docLink);\n",
              "        }\n",
              "      </script>\n",
              "    </div>\n",
              "  </div>\n",
              "  "
            ]
          },
          "metadata": {},
          "execution_count": 9
        }
      ]
    },
    {
      "cell_type": "code",
      "source": [
        "# menampilkan kolom clumpThickness dan Class dengan index\n",
        "data[[data.columns[0], data.columns[9]]]"
      ],
      "metadata": {
        "colab": {
          "base_uri": "https://localhost:8080/",
          "height": 423
        },
        "id": "Fowt57n3pn2X",
        "outputId": "b88129a4-4f59-402d-872f-6a065dfad7ec"
      },
      "execution_count": null,
      "outputs": [
        {
          "output_type": "execute_result",
          "data": {
            "text/plain": [
              "     clumpThickness  Class\n",
              "0                 5      2\n",
              "1                 5      2\n",
              "2                 3      2\n",
              "3                 6      2\n",
              "4                 4      2\n",
              "..              ...    ...\n",
              "694               3      2\n",
              "695               2      2\n",
              "696               5      4\n",
              "697               4      4\n",
              "698               4      4\n",
              "\n",
              "[699 rows x 2 columns]"
            ],
            "text/html": [
              "\n",
              "  <div id=\"df-0072a261-9b4d-46f3-b1da-936d67bca33b\">\n",
              "    <div class=\"colab-df-container\">\n",
              "      <div>\n",
              "<style scoped>\n",
              "    .dataframe tbody tr th:only-of-type {\n",
              "        vertical-align: middle;\n",
              "    }\n",
              "\n",
              "    .dataframe tbody tr th {\n",
              "        vertical-align: top;\n",
              "    }\n",
              "\n",
              "    .dataframe thead th {\n",
              "        text-align: right;\n",
              "    }\n",
              "</style>\n",
              "<table border=\"1\" class=\"dataframe\">\n",
              "  <thead>\n",
              "    <tr style=\"text-align: right;\">\n",
              "      <th></th>\n",
              "      <th>clumpThickness</th>\n",
              "      <th>Class</th>\n",
              "    </tr>\n",
              "  </thead>\n",
              "  <tbody>\n",
              "    <tr>\n",
              "      <th>0</th>\n",
              "      <td>5</td>\n",
              "      <td>2</td>\n",
              "    </tr>\n",
              "    <tr>\n",
              "      <th>1</th>\n",
              "      <td>5</td>\n",
              "      <td>2</td>\n",
              "    </tr>\n",
              "    <tr>\n",
              "      <th>2</th>\n",
              "      <td>3</td>\n",
              "      <td>2</td>\n",
              "    </tr>\n",
              "    <tr>\n",
              "      <th>3</th>\n",
              "      <td>6</td>\n",
              "      <td>2</td>\n",
              "    </tr>\n",
              "    <tr>\n",
              "      <th>4</th>\n",
              "      <td>4</td>\n",
              "      <td>2</td>\n",
              "    </tr>\n",
              "    <tr>\n",
              "      <th>...</th>\n",
              "      <td>...</td>\n",
              "      <td>...</td>\n",
              "    </tr>\n",
              "    <tr>\n",
              "      <th>694</th>\n",
              "      <td>3</td>\n",
              "      <td>2</td>\n",
              "    </tr>\n",
              "    <tr>\n",
              "      <th>695</th>\n",
              "      <td>2</td>\n",
              "      <td>2</td>\n",
              "    </tr>\n",
              "    <tr>\n",
              "      <th>696</th>\n",
              "      <td>5</td>\n",
              "      <td>4</td>\n",
              "    </tr>\n",
              "    <tr>\n",
              "      <th>697</th>\n",
              "      <td>4</td>\n",
              "      <td>4</td>\n",
              "    </tr>\n",
              "    <tr>\n",
              "      <th>698</th>\n",
              "      <td>4</td>\n",
              "      <td>4</td>\n",
              "    </tr>\n",
              "  </tbody>\n",
              "</table>\n",
              "<p>699 rows × 2 columns</p>\n",
              "</div>\n",
              "      <button class=\"colab-df-convert\" onclick=\"convertToInteractive('df-0072a261-9b4d-46f3-b1da-936d67bca33b')\"\n",
              "              title=\"Convert this dataframe to an interactive table.\"\n",
              "              style=\"display:none;\">\n",
              "        \n",
              "  <svg xmlns=\"http://www.w3.org/2000/svg\" height=\"24px\"viewBox=\"0 0 24 24\"\n",
              "       width=\"24px\">\n",
              "    <path d=\"M0 0h24v24H0V0z\" fill=\"none\"/>\n",
              "    <path d=\"M18.56 5.44l.94 2.06.94-2.06 2.06-.94-2.06-.94-.94-2.06-.94 2.06-2.06.94zm-11 1L8.5 8.5l.94-2.06 2.06-.94-2.06-.94L8.5 2.5l-.94 2.06-2.06.94zm10 10l.94 2.06.94-2.06 2.06-.94-2.06-.94-.94-2.06-.94 2.06-2.06.94z\"/><path d=\"M17.41 7.96l-1.37-1.37c-.4-.4-.92-.59-1.43-.59-.52 0-1.04.2-1.43.59L10.3 9.45l-7.72 7.72c-.78.78-.78 2.05 0 2.83L4 21.41c.39.39.9.59 1.41.59.51 0 1.02-.2 1.41-.59l7.78-7.78 2.81-2.81c.8-.78.8-2.07 0-2.86zM5.41 20L4 18.59l7.72-7.72 1.47 1.35L5.41 20z\"/>\n",
              "  </svg>\n",
              "      </button>\n",
              "      \n",
              "  <style>\n",
              "    .colab-df-container {\n",
              "      display:flex;\n",
              "      flex-wrap:wrap;\n",
              "      gap: 12px;\n",
              "    }\n",
              "\n",
              "    .colab-df-convert {\n",
              "      background-color: #E8F0FE;\n",
              "      border: none;\n",
              "      border-radius: 50%;\n",
              "      cursor: pointer;\n",
              "      display: none;\n",
              "      fill: #1967D2;\n",
              "      height: 32px;\n",
              "      padding: 0 0 0 0;\n",
              "      width: 32px;\n",
              "    }\n",
              "\n",
              "    .colab-df-convert:hover {\n",
              "      background-color: #E2EBFA;\n",
              "      box-shadow: 0px 1px 2px rgba(60, 64, 67, 0.3), 0px 1px 3px 1px rgba(60, 64, 67, 0.15);\n",
              "      fill: #174EA6;\n",
              "    }\n",
              "\n",
              "    [theme=dark] .colab-df-convert {\n",
              "      background-color: #3B4455;\n",
              "      fill: #D2E3FC;\n",
              "    }\n",
              "\n",
              "    [theme=dark] .colab-df-convert:hover {\n",
              "      background-color: #434B5C;\n",
              "      box-shadow: 0px 1px 3px 1px rgba(0, 0, 0, 0.15);\n",
              "      filter: drop-shadow(0px 1px 2px rgba(0, 0, 0, 0.3));\n",
              "      fill: #FFFFFF;\n",
              "    }\n",
              "  </style>\n",
              "\n",
              "      <script>\n",
              "        const buttonEl =\n",
              "          document.querySelector('#df-0072a261-9b4d-46f3-b1da-936d67bca33b button.colab-df-convert');\n",
              "        buttonEl.style.display =\n",
              "          google.colab.kernel.accessAllowed ? 'block' : 'none';\n",
              "\n",
              "        async function convertToInteractive(key) {\n",
              "          const element = document.querySelector('#df-0072a261-9b4d-46f3-b1da-936d67bca33b');\n",
              "          const dataTable =\n",
              "            await google.colab.kernel.invokeFunction('convertToInteractive',\n",
              "                                                     [key], {});\n",
              "          if (!dataTable) return;\n",
              "\n",
              "          const docLinkHtml = 'Like what you see? Visit the ' +\n",
              "            '<a target=\"_blank\" href=https://colab.research.google.com/notebooks/data_table.ipynb>data table notebook</a>'\n",
              "            + ' to learn more about interactive tables.';\n",
              "          element.innerHTML = '';\n",
              "          dataTable['output_type'] = 'display_data';\n",
              "          await google.colab.output.renderOutput(dataTable, element);\n",
              "          const docLink = document.createElement('div');\n",
              "          docLink.innerHTML = docLinkHtml;\n",
              "          element.appendChild(docLink);\n",
              "        }\n",
              "      </script>\n",
              "    </div>\n",
              "  </div>\n",
              "  "
            ]
          },
          "metadata": {},
          "execution_count": 10
        }
      ]
    },
    {
      "cell_type": "markdown",
      "source": [
        "Fungsi **value_counts()** digunakan untuk menghitung jumlah data berdasarkan atribut/kolom.\n",
        "\n",
        "```\n",
        "# Menampilkan jumlah data berdasarkan nilai/value setiap kolom\n",
        "data.value_counts(\"nama_kolom\")\n",
        "```\n",
        "\n"
      ],
      "metadata": {
        "id": "Pb5ct71fr3vV"
      }
    },
    {
      "cell_type": "code",
      "source": [
        "# menampilkan jumlah data pernilai pada kolom Class\n",
        "data.value_counts('Class')"
      ],
      "metadata": {
        "colab": {
          "base_uri": "https://localhost:8080/"
        },
        "id": "dZOEdCZ6r3U5",
        "outputId": "7980776d-49b3-4d8e-cb3c-a95c84165361"
      },
      "execution_count": null,
      "outputs": [
        {
          "output_type": "execute_result",
          "data": {
            "text/plain": [
              "Class\n",
              "2    458\n",
              "4    241\n",
              "dtype: int64"
            ]
          },
          "metadata": {},
          "execution_count": 11
        }
      ]
    },
    {
      "cell_type": "markdown",
      "source": [
        "Berdasarkan output dataset breast cancer terdiri dari 458 data 2 (yaitu tidak diidentifikasi penyakit kanker payudara), dan 241 data 4 (yaitu diidentifikasi penyakit kanker payudara). Oleh karena itu, kita bisa mengatakan bahwa dataset ini agak kurang seimbang, yang mana sebenarnya adalah sebuah masalah yang mungkin akan mempengaruhi hasil akhir.Skewness Distribution\n",
        "Skewness adalah kondisi di mana dataset cenderung memiliki distribusi data yang tidak seimbang. Skewness akan mempengaruhi data dengan menciptakan bias terhadap model. Apa itu bias? Sebuah model cenderung memprediksi sesuatu karena ia lebih sering mempelajari hal tersebut."
      ],
      "metadata": {
        "id": "aVTV6QfcuKPq"
      }
    },
    {
      "cell_type": "markdown",
      "source": [
        "Fungsi **info()** digunakan untuk menampilkan informasi pada dataset seperti jumlah baris data, nama-nama kolom berserta jumlah data dan tipe datanya, dan sebagainya.\n",
        "\n",
        "\n",
        "\n",
        "```\n",
        "# Menampilkan informasi pada dataset\n",
        "data.info()\n",
        "```"
      ],
      "metadata": {
        "id": "svUdZYAmrKU5"
      }
    },
    {
      "cell_type": "code",
      "source": [
        "data.info()"
      ],
      "metadata": {
        "colab": {
          "base_uri": "https://localhost:8080/"
        },
        "id": "pg8yogczOiVI",
        "outputId": "54e2b2ff-162c-460f-b9f2-68cdbcab0a6d"
      },
      "execution_count": null,
      "outputs": [
        {
          "output_type": "stream",
          "name": "stdout",
          "text": [
            "<class 'pandas.core.frame.DataFrame'>\n",
            "RangeIndex: 699 entries, 0 to 698\n",
            "Data columns (total 10 columns):\n",
            " #   Column          Non-Null Count  Dtype \n",
            "---  ------          --------------  ----- \n",
            " 0   clumpThickness  699 non-null    int64 \n",
            " 1   UoCSz           699 non-null    int64 \n",
            " 2   UoCSh           699 non-null    int64 \n",
            " 3   MA              699 non-null    int64 \n",
            " 4   SECZ            699 non-null    int64 \n",
            " 5   bareNuc         699 non-null    object\n",
            " 6   BlandChro       699 non-null    int64 \n",
            " 7   NormalNucl      699 non-null    int64 \n",
            " 8   Mitoses         699 non-null    int64 \n",
            " 9   Class           699 non-null    int64 \n",
            "dtypes: int64(9), object(1)\n",
            "memory usage: 54.7+ KB\n"
          ]
        }
      ]
    },
    {
      "cell_type": "markdown",
      "source": [
        "Berdasarkan output, dapat dilihat bahwa data memiliki 1 kolom bertipe kategori yaitu Class (nilai 2 untuk tidak diidentifikasi penyakit kanker payudara, dan nilai 4 untuk diidentifikasi penyakit kanker payudara). Semua atribut/kolom seharusnya bertipe integer, tapi terlihat data bareNuc bertipe Object. Maka perlu dilakukan analisis mendalam pada tahap ***data preparation*** terhadap atribut/kolom ini. Mungkin saja terdapat karakter lain selain angka.   "
      ],
      "metadata": {
        "id": "o51DIe2_v8Ka"
      }
    },
    {
      "cell_type": "markdown",
      "source": [
        "Fungsi **describe()** digunakan untuk menampilkan deskriptif statistik data. Hanya kolom yang bertipe numerik yang akan ditampilkan statistiknya."
      ],
      "metadata": {
        "id": "QWtYzS4uRAcf"
      }
    },
    {
      "cell_type": "code",
      "source": [
        "data.describe()"
      ],
      "metadata": {
        "colab": {
          "base_uri": "https://localhost:8080/",
          "height": 300
        },
        "id": "TuoGFjSXOk0n",
        "outputId": "9f02790d-29af-4d20-8f6e-c8b57e83c9c7"
      },
      "execution_count": null,
      "outputs": [
        {
          "output_type": "execute_result",
          "data": {
            "text/plain": [
              "       clumpThickness       UoCSz       UoCSh          MA        SECZ  \\\n",
              "count      699.000000  699.000000  699.000000  699.000000  699.000000   \n",
              "mean         4.417740    3.134478    3.207439    2.806867    3.216023   \n",
              "std          2.815741    3.051459    2.971913    2.855379    2.214300   \n",
              "min          1.000000    1.000000    1.000000    1.000000    1.000000   \n",
              "25%          2.000000    1.000000    1.000000    1.000000    2.000000   \n",
              "50%          4.000000    1.000000    1.000000    1.000000    2.000000   \n",
              "75%          6.000000    5.000000    5.000000    4.000000    4.000000   \n",
              "max         10.000000   10.000000   10.000000   10.000000   10.000000   \n",
              "\n",
              "        BlandChro  NormalNucl     Mitoses       Class  \n",
              "count  699.000000  699.000000  699.000000  699.000000  \n",
              "mean     3.437768    2.866953    1.589413    2.689557  \n",
              "std      2.438364    3.053634    1.715078    0.951273  \n",
              "min      1.000000    1.000000    1.000000    2.000000  \n",
              "25%      2.000000    1.000000    1.000000    2.000000  \n",
              "50%      3.000000    1.000000    1.000000    2.000000  \n",
              "75%      5.000000    4.000000    1.000000    4.000000  \n",
              "max     10.000000   10.000000   10.000000    4.000000  "
            ],
            "text/html": [
              "\n",
              "  <div id=\"df-9b9c54b8-8b33-4677-b788-3d15369fedc6\">\n",
              "    <div class=\"colab-df-container\">\n",
              "      <div>\n",
              "<style scoped>\n",
              "    .dataframe tbody tr th:only-of-type {\n",
              "        vertical-align: middle;\n",
              "    }\n",
              "\n",
              "    .dataframe tbody tr th {\n",
              "        vertical-align: top;\n",
              "    }\n",
              "\n",
              "    .dataframe thead th {\n",
              "        text-align: right;\n",
              "    }\n",
              "</style>\n",
              "<table border=\"1\" class=\"dataframe\">\n",
              "  <thead>\n",
              "    <tr style=\"text-align: right;\">\n",
              "      <th></th>\n",
              "      <th>clumpThickness</th>\n",
              "      <th>UoCSz</th>\n",
              "      <th>UoCSh</th>\n",
              "      <th>MA</th>\n",
              "      <th>SECZ</th>\n",
              "      <th>BlandChro</th>\n",
              "      <th>NormalNucl</th>\n",
              "      <th>Mitoses</th>\n",
              "      <th>Class</th>\n",
              "    </tr>\n",
              "  </thead>\n",
              "  <tbody>\n",
              "    <tr>\n",
              "      <th>count</th>\n",
              "      <td>699.000000</td>\n",
              "      <td>699.000000</td>\n",
              "      <td>699.000000</td>\n",
              "      <td>699.000000</td>\n",
              "      <td>699.000000</td>\n",
              "      <td>699.000000</td>\n",
              "      <td>699.000000</td>\n",
              "      <td>699.000000</td>\n",
              "      <td>699.000000</td>\n",
              "    </tr>\n",
              "    <tr>\n",
              "      <th>mean</th>\n",
              "      <td>4.417740</td>\n",
              "      <td>3.134478</td>\n",
              "      <td>3.207439</td>\n",
              "      <td>2.806867</td>\n",
              "      <td>3.216023</td>\n",
              "      <td>3.437768</td>\n",
              "      <td>2.866953</td>\n",
              "      <td>1.589413</td>\n",
              "      <td>2.689557</td>\n",
              "    </tr>\n",
              "    <tr>\n",
              "      <th>std</th>\n",
              "      <td>2.815741</td>\n",
              "      <td>3.051459</td>\n",
              "      <td>2.971913</td>\n",
              "      <td>2.855379</td>\n",
              "      <td>2.214300</td>\n",
              "      <td>2.438364</td>\n",
              "      <td>3.053634</td>\n",
              "      <td>1.715078</td>\n",
              "      <td>0.951273</td>\n",
              "    </tr>\n",
              "    <tr>\n",
              "      <th>min</th>\n",
              "      <td>1.000000</td>\n",
              "      <td>1.000000</td>\n",
              "      <td>1.000000</td>\n",
              "      <td>1.000000</td>\n",
              "      <td>1.000000</td>\n",
              "      <td>1.000000</td>\n",
              "      <td>1.000000</td>\n",
              "      <td>1.000000</td>\n",
              "      <td>2.000000</td>\n",
              "    </tr>\n",
              "    <tr>\n",
              "      <th>25%</th>\n",
              "      <td>2.000000</td>\n",
              "      <td>1.000000</td>\n",
              "      <td>1.000000</td>\n",
              "      <td>1.000000</td>\n",
              "      <td>2.000000</td>\n",
              "      <td>2.000000</td>\n",
              "      <td>1.000000</td>\n",
              "      <td>1.000000</td>\n",
              "      <td>2.000000</td>\n",
              "    </tr>\n",
              "    <tr>\n",
              "      <th>50%</th>\n",
              "      <td>4.000000</td>\n",
              "      <td>1.000000</td>\n",
              "      <td>1.000000</td>\n",
              "      <td>1.000000</td>\n",
              "      <td>2.000000</td>\n",
              "      <td>3.000000</td>\n",
              "      <td>1.000000</td>\n",
              "      <td>1.000000</td>\n",
              "      <td>2.000000</td>\n",
              "    </tr>\n",
              "    <tr>\n",
              "      <th>75%</th>\n",
              "      <td>6.000000</td>\n",
              "      <td>5.000000</td>\n",
              "      <td>5.000000</td>\n",
              "      <td>4.000000</td>\n",
              "      <td>4.000000</td>\n",
              "      <td>5.000000</td>\n",
              "      <td>4.000000</td>\n",
              "      <td>1.000000</td>\n",
              "      <td>4.000000</td>\n",
              "    </tr>\n",
              "    <tr>\n",
              "      <th>max</th>\n",
              "      <td>10.000000</td>\n",
              "      <td>10.000000</td>\n",
              "      <td>10.000000</td>\n",
              "      <td>10.000000</td>\n",
              "      <td>10.000000</td>\n",
              "      <td>10.000000</td>\n",
              "      <td>10.000000</td>\n",
              "      <td>10.000000</td>\n",
              "      <td>4.000000</td>\n",
              "    </tr>\n",
              "  </tbody>\n",
              "</table>\n",
              "</div>\n",
              "      <button class=\"colab-df-convert\" onclick=\"convertToInteractive('df-9b9c54b8-8b33-4677-b788-3d15369fedc6')\"\n",
              "              title=\"Convert this dataframe to an interactive table.\"\n",
              "              style=\"display:none;\">\n",
              "        \n",
              "  <svg xmlns=\"http://www.w3.org/2000/svg\" height=\"24px\"viewBox=\"0 0 24 24\"\n",
              "       width=\"24px\">\n",
              "    <path d=\"M0 0h24v24H0V0z\" fill=\"none\"/>\n",
              "    <path d=\"M18.56 5.44l.94 2.06.94-2.06 2.06-.94-2.06-.94-.94-2.06-.94 2.06-2.06.94zm-11 1L8.5 8.5l.94-2.06 2.06-.94-2.06-.94L8.5 2.5l-.94 2.06-2.06.94zm10 10l.94 2.06.94-2.06 2.06-.94-2.06-.94-.94-2.06-.94 2.06-2.06.94z\"/><path d=\"M17.41 7.96l-1.37-1.37c-.4-.4-.92-.59-1.43-.59-.52 0-1.04.2-1.43.59L10.3 9.45l-7.72 7.72c-.78.78-.78 2.05 0 2.83L4 21.41c.39.39.9.59 1.41.59.51 0 1.02-.2 1.41-.59l7.78-7.78 2.81-2.81c.8-.78.8-2.07 0-2.86zM5.41 20L4 18.59l7.72-7.72 1.47 1.35L5.41 20z\"/>\n",
              "  </svg>\n",
              "      </button>\n",
              "      \n",
              "  <style>\n",
              "    .colab-df-container {\n",
              "      display:flex;\n",
              "      flex-wrap:wrap;\n",
              "      gap: 12px;\n",
              "    }\n",
              "\n",
              "    .colab-df-convert {\n",
              "      background-color: #E8F0FE;\n",
              "      border: none;\n",
              "      border-radius: 50%;\n",
              "      cursor: pointer;\n",
              "      display: none;\n",
              "      fill: #1967D2;\n",
              "      height: 32px;\n",
              "      padding: 0 0 0 0;\n",
              "      width: 32px;\n",
              "    }\n",
              "\n",
              "    .colab-df-convert:hover {\n",
              "      background-color: #E2EBFA;\n",
              "      box-shadow: 0px 1px 2px rgba(60, 64, 67, 0.3), 0px 1px 3px 1px rgba(60, 64, 67, 0.15);\n",
              "      fill: #174EA6;\n",
              "    }\n",
              "\n",
              "    [theme=dark] .colab-df-convert {\n",
              "      background-color: #3B4455;\n",
              "      fill: #D2E3FC;\n",
              "    }\n",
              "\n",
              "    [theme=dark] .colab-df-convert:hover {\n",
              "      background-color: #434B5C;\n",
              "      box-shadow: 0px 1px 3px 1px rgba(0, 0, 0, 0.15);\n",
              "      filter: drop-shadow(0px 1px 2px rgba(0, 0, 0, 0.3));\n",
              "      fill: #FFFFFF;\n",
              "    }\n",
              "  </style>\n",
              "\n",
              "      <script>\n",
              "        const buttonEl =\n",
              "          document.querySelector('#df-9b9c54b8-8b33-4677-b788-3d15369fedc6 button.colab-df-convert');\n",
              "        buttonEl.style.display =\n",
              "          google.colab.kernel.accessAllowed ? 'block' : 'none';\n",
              "\n",
              "        async function convertToInteractive(key) {\n",
              "          const element = document.querySelector('#df-9b9c54b8-8b33-4677-b788-3d15369fedc6');\n",
              "          const dataTable =\n",
              "            await google.colab.kernel.invokeFunction('convertToInteractive',\n",
              "                                                     [key], {});\n",
              "          if (!dataTable) return;\n",
              "\n",
              "          const docLinkHtml = 'Like what you see? Visit the ' +\n",
              "            '<a target=\"_blank\" href=https://colab.research.google.com/notebooks/data_table.ipynb>data table notebook</a>'\n",
              "            + ' to learn more about interactive tables.';\n",
              "          element.innerHTML = '';\n",
              "          dataTable['output_type'] = 'display_data';\n",
              "          await google.colab.output.renderOutput(dataTable, element);\n",
              "          const docLink = document.createElement('div');\n",
              "          docLink.innerHTML = docLinkHtml;\n",
              "          element.appendChild(docLink);\n",
              "        }\n",
              "      </script>\n",
              "    </div>\n",
              "  </div>\n",
              "  "
            ]
          },
          "metadata": {},
          "execution_count": 13
        }
      ]
    },
    {
      "cell_type": "markdown",
      "source": [
        "\n",
        "**Matplotlib** digunakan untuk membuat grafik dasar.Matplotlib Python bisa disajikan baik dalam bentuk 2D ataupun 3D. Kumpulan data yang besar nantinya akan divisualisasikan dalam bantuan grafik batang, histogram, diagram lingkaran, scatterplot (diagram sebar), line chart dan lain-lain. \n",
        "\n",
        "**Seaborn** berisi berbagai macam pola dan plot untuk melakukan visualisasi data. Tentunya seaborn dapat mengakomodasi tema yang menarik. Seaborn dapat membantu mengkompilasi seluruh data menjadi satu plot.Library ini dibangun berdasarkan library Matplotlib yang sudah ada. Kemudian terintegrasi dengan struktur data pada Pandas."
      ],
      "metadata": {
        "id": "NYh4xmuA5YrC"
      }
    },
    {
      "cell_type": "code",
      "source": [
        "import matplotlib.pyplot as plt\n",
        "%matplotlib inline\n",
        "\n",
        "import seaborn as sns\n",
        "sns.set_palette('husl')"
      ],
      "metadata": {
        "id": "43DqsCe91WbM"
      },
      "execution_count": null,
      "outputs": []
    },
    {
      "cell_type": "markdown",
      "source": [
        "Gunakan perintah **corr()** untuk mengetahui korelasi atau hubungan antar kolom.\n",
        "\n",
        "*   Positif correlation dimana data akan bergerak searah.\n",
        "*   Negatif correlation dimana data akan bergerak berlawanan arah.\n",
        "\n",
        "\n",
        "\n"
      ],
      "metadata": {
        "id": "k8bLYBxotthG"
      }
    },
    {
      "cell_type": "code",
      "source": [
        "plt.figure(figsize=[18,8])\n",
        "sns.heatmap(data.corr(method='pearson'), annot = True, cmap = 'coolwarm')"
      ],
      "metadata": {
        "colab": {
          "base_uri": "https://localhost:8080/",
          "height": 505
        },
        "id": "RFaG0PCNOtdF",
        "outputId": "c76e3113-a3cb-454c-be7d-f1cce16b2721"
      },
      "execution_count": null,
      "outputs": [
        {
          "output_type": "execute_result",
          "data": {
            "text/plain": [
              "<AxesSubplot:>"
            ]
          },
          "metadata": {},
          "execution_count": 15
        },
        {
          "output_type": "display_data",
          "data": {
            "text/plain": [
              "<Figure size 1296x576 with 2 Axes>"
            ],
            "image/png": "[encoded data removed]"
          },
          "metadata": {
            "needs_background": "light"
          }
        }
      ]
    },
    {
      "cell_type": "markdown",
      "source": [
        "Perhatikan kolom pada atribut class, ***Mitoses*** adalah atribut yang nilainya paling rendah diantara atribut lainya, artinya naik-turunya Mitoses tidak memiliki cukup hubungan yang signifikan dengan hasil diagnosis. Sehingga seharusnya atribut Mitoses untuk diganosis penyakit breast cancer bisa kita abaikan. Atribut yang cukup mempengaruhi hasil diagnosis adalah ***UoCSz (Uniformity of Cell Size)*** dan ***UoCSh (Uniformity of Cell Shape)***, karena nilainya paling tinggi.  "
      ],
      "metadata": {
        "id": "EFv0ze-3zr0n"
      }
    },
    {
      "cell_type": "markdown",
      "source": [
        "***Dataset Breast Cancer Wisconsin*** Original memiliki 699 data pengaman terhadap pasien, dan terdiri dari 10 (sepuluh) atribut. Kesepuluh atribut pada *dataset Breast Cancer Wisconsin Original* adalah sebagai berikut:\n",
        "\n",
        "1)\t**clumpThickness** berisi data ketebalan gumpalan dengan interval nilai 1-10.\n",
        "\n",
        "2)\t**UoCSz (Uniformity of Cell Size)**, berisi data keseragaman ukuran sel dengan interval nilai 1-10.\n",
        "\n",
        "3)\t**UoCSh (Uniformity of Cell Shape)**, berisi data keseragaman bentuk sel dengan interval nilai 1-10.\n",
        "\n",
        "4)\t**MA (Marginal Adhesion)**, berisi data batas tepi jaringan sel yang tumbuh (melekat) pada bagian tubuh dengan interval nilai 1-10.\n",
        "\n",
        "5)\t**SECZ (Single Epithelial Cell Size)**, berisi data ukuran sel epitel tunggal dengan interval nilai 1-10.\n",
        "\n",
        "6)\t**bareNuc (Bare Nuclie)**, berisi data inti terbuka dengan interval nilai 1-10.\n",
        "\n",
        "7)\t**BlandChro (Bland Chromatin)**, berisi data kromatin lunak dengan interval nilai 1-10.\n",
        "\n",
        "8)\t**NormalNucl (Normal Nucleoli)**, berisi data nukleolus normal dengan interval nilai 1-10.\n",
        "\n",
        "9)\t**Mitoses**, berisi data pembelahan inti sel biasa sehingga dari satu inti sel induk terjadi dua inti sel baru yang jumlah dan susunan kromosomnya sama dengan interval nilai 1-10.\n",
        "\n",
        "10)\t**Class**, adalah label, berisi data 2, yaitu tidak diidentifikasi penyakit kanker payudara (benign), dan berisi data 4, yaitu diidentifikasi penyakit kanker payudara (malignant). \n",
        "\n",
        "Target pada ataset breast cancer terdiri dari 458 data yaitu tidak diidentifikasi penyakit kanker payudara, dan 241 data yaitu diidentifikasi penyakit kanker payudara. Dataset ini agak kurang seimbang, yang mana sebenarnya adalah sebuah masalah yang mungkin akan mempengaruhi hasil akhir."
      ],
      "metadata": {
        "id": "bVp1vlaaeuIC"
      }
    },
    {
      "cell_type": "markdown",
      "source": [
        "# Data Preparation"
      ],
      "metadata": {
        "id": "NrQiXXXx2aiS"
      }
    },
    {
      "cell_type": "markdown",
      "source": [
        "Fungsi **isnull()** digunakan untuk mengecek apakah ada nilai Null pada dataframe.\n",
        "\n",
        "Fungsi **isna()** digunakan untuk mengecek apakah ada nilai NaN pada dataframe. \n",
        "\n",
        "Kedua Fungsi ini akan mengembalikan nilai Boolean, True atau False, untuk tiap elemen di dataframe. Fungsi ini bisa ditambahkan fungsi lain dibelakangnya, misalkan menambahkan fungsi sum() untuk \n",
        "menjumlahkan nilai Null/NaN pada dataframe berdasarkan kolom.\n",
        "Atau Bisa juga dapat menambahkan function any() untuk mengecek nilai NaN berdasarkan kolom."
      ],
      "metadata": {
        "id": "pP4V9fuMRW1c"
      }
    },
    {
      "cell_type": "code",
      "source": [
        "data.isnull().sum()"
      ],
      "metadata": {
        "colab": {
          "base_uri": "https://localhost:8080/"
        },
        "id": "AYInRFnYuqPc",
        "outputId": "3dff48fb-4d36-45cb-ce22-5b79551ae76e"
      },
      "execution_count": null,
      "outputs": [
        {
          "output_type": "execute_result",
          "data": {
            "text/plain": [
              "clumpThickness    0\n",
              "UoCSz             0\n",
              "UoCSh             0\n",
              "MA                0\n",
              "SECZ              0\n",
              "bareNuc           0\n",
              "BlandChro         0\n",
              "NormalNucl        0\n",
              "Mitoses           0\n",
              "Class             0\n",
              "dtype: int64"
            ]
          },
          "metadata": {},
          "execution_count": 16
        }
      ]
    },
    {
      "cell_type": "code",
      "source": [
        "data.isna().sum()"
      ],
      "metadata": {
        "colab": {
          "base_uri": "https://localhost:8080/"
        },
        "id": "Kz_RFbljBC76",
        "outputId": "6b510e27-809e-4d2f-d11d-73b20bab6e8a"
      },
      "execution_count": null,
      "outputs": [
        {
          "output_type": "execute_result",
          "data": {
            "text/plain": [
              "clumpThickness    0\n",
              "UoCSz             0\n",
              "UoCSh             0\n",
              "MA                0\n",
              "SECZ              0\n",
              "bareNuc           0\n",
              "BlandChro         0\n",
              "NormalNucl        0\n",
              "Mitoses           0\n",
              "Class             0\n",
              "dtype: int64"
            ]
          },
          "metadata": {},
          "execution_count": 17
        }
      ]
    },
    {
      "cell_type": "markdown",
      "source": [
        "Fungsi **isin()** digunakan untuk mengecek apakah ada elemen tertentu di dalam dataframe. Function ini mengembalikan nilai Boolean, True atau False, untuk tiap elemen pada dataframe. Kita juga dapat menambahkan function any() untuk mengecek keberadaan suatu elemen pada kolom tertentu."
      ],
      "metadata": {
        "id": "CwHVKswDOT7w"
      }
    },
    {
      "cell_type": "code",
      "source": [
        "data.isin(['?']).any()"
      ],
      "metadata": {
        "colab": {
          "base_uri": "https://localhost:8080/"
        },
        "id": "eGY3vTydMXKK",
        "outputId": "2bc86bc3-8ee6-4ae2-8458-3922ea9374d0"
      },
      "execution_count": null,
      "outputs": [
        {
          "output_type": "execute_result",
          "data": {
            "text/plain": [
              "clumpThickness    False\n",
              "UoCSz             False\n",
              "UoCSh             False\n",
              "MA                False\n",
              "SECZ              False\n",
              "bareNuc            True\n",
              "BlandChro         False\n",
              "NormalNucl        False\n",
              "Mitoses           False\n",
              "Class             False\n",
              "dtype: bool"
            ]
          },
          "metadata": {},
          "execution_count": 18
        }
      ]
    },
    {
      "cell_type": "code",
      "source": [
        "data.applymap(lambda x : isinstance(x, (int, float)))"
      ],
      "metadata": {
        "colab": {
          "base_uri": "https://localhost:8080/",
          "height": 423
        },
        "id": "EIugABw577C2",
        "outputId": "b1651d46-12f0-405a-a12f-dcf19ae2336a"
      },
      "execution_count": null,
      "outputs": [
        {
          "output_type": "execute_result",
          "data": {
            "text/plain": [
              "     clumpThickness  UoCSz  UoCSh    MA  SECZ  bareNuc  BlandChro  NormalNucl  \\\n",
              "0              True   True   True  True  True    False       True        True   \n",
              "1              True   True   True  True  True    False       True        True   \n",
              "2              True   True   True  True  True    False       True        True   \n",
              "3              True   True   True  True  True    False       True        True   \n",
              "4              True   True   True  True  True    False       True        True   \n",
              "..              ...    ...    ...   ...   ...      ...        ...         ...   \n",
              "694            True   True   True  True  True    False       True        True   \n",
              "695            True   True   True  True  True    False       True        True   \n",
              "696            True   True   True  True  True    False       True        True   \n",
              "697            True   True   True  True  True    False       True        True   \n",
              "698            True   True   True  True  True    False       True        True   \n",
              "\n",
              "     Mitoses  Class  \n",
              "0       True   True  \n",
              "1       True   True  \n",
              "2       True   True  \n",
              "3       True   True  \n",
              "4       True   True  \n",
              "..       ...    ...  \n",
              "694     True   True  \n",
              "695     True   True  \n",
              "696     True   True  \n",
              "697     True   True  \n",
              "698     True   True  \n",
              "\n",
              "[699 rows x 10 columns]"
            ],
            "text/html": [
              "\n",
              "  <div id=\"df-b2407a4a-1957-40b3-852f-1c1bf440ce6a\">\n",
              "    <div class=\"colab-df-container\">\n",
              "      <div>\n",
              "<style scoped>\n",
              "    .dataframe tbody tr th:only-of-type {\n",
              "        vertical-align: middle;\n",
              "    }\n",
              "\n",
              "    .dataframe tbody tr th {\n",
              "        vertical-align: top;\n",
              "    }\n",
              "\n",
              "    .dataframe thead th {\n",
              "        text-align: right;\n",
              "    }\n",
              "</style>\n",
              "<table border=\"1\" class=\"dataframe\">\n",
              "  <thead>\n",
              "    <tr style=\"text-align: right;\">\n",
              "      <th></th>\n",
              "      <th>clumpThickness</th>\n",
              "      <th>UoCSz</th>\n",
              "      <th>UoCSh</th>\n",
              "      <th>MA</th>\n",
              "      <th>SECZ</th>\n",
              "      <th>bareNuc</th>\n",
              "      <th>BlandChro</th>\n",
              "      <th>NormalNucl</th>\n",
              "      <th>Mitoses</th>\n",
              "      <th>Class</th>\n",
              "    </tr>\n",
              "  </thead>\n",
              "  <tbody>\n",
              "    <tr>\n",
              "      <th>0</th>\n",
              "      <td>True</td>\n",
              "      <td>True</td>\n",
              "      <td>True</td>\n",
              "      <td>True</td>\n",
              "      <td>True</td>\n",
              "      <td>False</td>\n",
              "      <td>True</td>\n",
              "      <td>True</td>\n",
              "      <td>True</td>\n",
              "      <td>True</td>\n",
              "    </tr>\n",
              "    <tr>\n",
              "      <th>1</th>\n",
              "      <td>True</td>\n",
              "      <td>True</td>\n",
              "      <td>True</td>\n",
              "      <td>True</td>\n",
              "      <td>True</td>\n",
              "      <td>False</td>\n",
              "      <td>True</td>\n",
              "      <td>True</td>\n",
              "      <td>True</td>\n",
              "      <td>True</td>\n",
              "    </tr>\n",
              "    <tr>\n",
              "      <th>2</th>\n",
              "      <td>True</td>\n",
              "      <td>True</td>\n",
              "      <td>True</td>\n",
              "      <td>True</td>\n",
              "      <td>True</td>\n",
              "      <td>False</td>\n",
              "      <td>True</td>\n",
              "      <td>True</td>\n",
              "      <td>True</td>\n",
              "      <td>True</td>\n",
              "    </tr>\n",
              "    <tr>\n",
              "      <th>3</th>\n",
              "      <td>True</td>\n",
              "      <td>True</td>\n",
              "      <td>True</td>\n",
              "      <td>True</td>\n",
              "      <td>True</td>\n",
              "      <td>False</td>\n",
              "      <td>True</td>\n",
              "      <td>True</td>\n",
              "      <td>True</td>\n",
              "      <td>True</td>\n",
              "    </tr>\n",
              "    <tr>\n",
              "      <th>4</th>\n",
              "      <td>True</td>\n",
              "      <td>True</td>\n",
              "      <td>True</td>\n",
              "      <td>True</td>\n",
              "      <td>True</td>\n",
              "      <td>False</td>\n",
              "      <td>True</td>\n",
              "      <td>True</td>\n",
              "      <td>True</td>\n",
              "      <td>True</td>\n",
              "    </tr>\n",
              "    <tr>\n",
              "      <th>...</th>\n",
              "      <td>...</td>\n",
              "      <td>...</td>\n",
              "      <td>...</td>\n",
              "      <td>...</td>\n",
              "      <td>...</td>\n",
              "      <td>...</td>\n",
              "      <td>...</td>\n",
              "      <td>...</td>\n",
              "      <td>...</td>\n",
              "      <td>...</td>\n",
              "    </tr>\n",
              "    <tr>\n",
              "      <th>694</th>\n",
              "      <td>True</td>\n",
              "      <td>True</td>\n",
              "      <td>True</td>\n",
              "      <td>True</td>\n",
              "      <td>True</td>\n",
              "      <td>False</td>\n",
              "      <td>True</td>\n",
              "      <td>True</td>\n",
              "      <td>True</td>\n",
              "      <td>True</td>\n",
              "    </tr>\n",
              "    <tr>\n",
              "      <th>695</th>\n",
              "      <td>True</td>\n",
              "      <td>True</td>\n",
              "      <td>True</td>\n",
              "      <td>True</td>\n",
              "      <td>True</td>\n",
              "      <td>False</td>\n",
              "      <td>True</td>\n",
              "      <td>True</td>\n",
              "      <td>True</td>\n",
              "      <td>True</td>\n",
              "    </tr>\n",
              "    <tr>\n",
              "      <th>696</th>\n",
              "      <td>True</td>\n",
              "      <td>True</td>\n",
              "      <td>True</td>\n",
              "      <td>True</td>\n",
              "      <td>True</td>\n",
              "      <td>False</td>\n",
              "      <td>True</td>\n",
              "      <td>True</td>\n",
              "      <td>True</td>\n",
              "      <td>True</td>\n",
              "    </tr>\n",
              "    <tr>\n",
              "      <th>697</th>\n",
              "      <td>True</td>\n",
              "      <td>True</td>\n",
              "      <td>True</td>\n",
              "      <td>True</td>\n",
              "      <td>True</td>\n",
              "      <td>False</td>\n",
              "      <td>True</td>\n",
              "      <td>True</td>\n",
              "      <td>True</td>\n",
              "      <td>True</td>\n",
              "    </tr>\n",
              "    <tr>\n",
              "      <th>698</th>\n",
              "      <td>True</td>\n",
              "      <td>True</td>\n",
              "      <td>True</td>\n",
              "      <td>True</td>\n",
              "      <td>True</td>\n",
              "      <td>False</td>\n",
              "      <td>True</td>\n",
              "      <td>True</td>\n",
              "      <td>True</td>\n",
              "      <td>True</td>\n",
              "    </tr>\n",
              "  </tbody>\n",
              "</table>\n",
              "<p>699 rows × 10 columns</p>\n",
              "</div>\n",
              "      <button class=\"colab-df-convert\" onclick=\"convertToInteractive('df-b2407a4a-1957-40b3-852f-1c1bf440ce6a')\"\n",
              "              title=\"Convert this dataframe to an interactive table.\"\n",
              "              style=\"display:none;\">\n",
              "        \n",
              "  <svg xmlns=\"http://www.w3.org/2000/svg\" height=\"24px\"viewBox=\"0 0 24 24\"\n",
              "       width=\"24px\">\n",
              "    <path d=\"M0 0h24v24H0V0z\" fill=\"none\"/>\n",
              "    <path d=\"M18.56 5.44l.94 2.06.94-2.06 2.06-.94-2.06-.94-.94-2.06-.94 2.06-2.06.94zm-11 1L8.5 8.5l.94-2.06 2.06-.94-2.06-.94L8.5 2.5l-.94 2.06-2.06.94zm10 10l.94 2.06.94-2.06 2.06-.94-2.06-.94-.94-2.06-.94 2.06-2.06.94z\"/><path d=\"M17.41 7.96l-1.37-1.37c-.4-.4-.92-.59-1.43-.59-.52 0-1.04.2-1.43.59L10.3 9.45l-7.72 7.72c-.78.78-.78 2.05 0 2.83L4 21.41c.39.39.9.59 1.41.59.51 0 1.02-.2 1.41-.59l7.78-7.78 2.81-2.81c.8-.78.8-2.07 0-2.86zM5.41 20L4 18.59l7.72-7.72 1.47 1.35L5.41 20z\"/>\n",
              "  </svg>\n",
              "      </button>\n",
              "      \n",
              "  <style>\n",
              "    .colab-df-container {\n",
              "      display:flex;\n",
              "      flex-wrap:wrap;\n",
              "      gap: 12px;\n",
              "    }\n",
              "\n",
              "    .colab-df-convert {\n",
              "      background-color: #E8F0FE;\n",
              "      border: none;\n",
              "      border-radius: 50%;\n",
              "      cursor: pointer;\n",
              "      display: none;\n",
              "      fill: #1967D2;\n",
              "      height: 32px;\n",
              "      padding: 0 0 0 0;\n",
              "      width: 32px;\n",
              "    }\n",
              "\n",
              "    .colab-df-convert:hover {\n",
              "      background-color: #E2EBFA;\n",
              "      box-shadow: 0px 1px 2px rgba(60, 64, 67, 0.3), 0px 1px 3px 1px rgba(60, 64, 67, 0.15);\n",
              "      fill: #174EA6;\n",
              "    }\n",
              "\n",
              "    [theme=dark] .colab-df-convert {\n",
              "      background-color: #3B4455;\n",
              "      fill: #D2E3FC;\n",
              "    }\n",
              "\n",
              "    [theme=dark] .colab-df-convert:hover {\n",
              "      background-color: #434B5C;\n",
              "      box-shadow: 0px 1px 3px 1px rgba(0, 0, 0, 0.15);\n",
              "      filter: drop-shadow(0px 1px 2px rgba(0, 0, 0, 0.3));\n",
              "      fill: #FFFFFF;\n",
              "    }\n",
              "  </style>\n",
              "\n",
              "      <script>\n",
              "        const buttonEl =\n",
              "          document.querySelector('#df-b2407a4a-1957-40b3-852f-1c1bf440ce6a button.colab-df-convert');\n",
              "        buttonEl.style.display =\n",
              "          google.colab.kernel.accessAllowed ? 'block' : 'none';\n",
              "\n",
              "        async function convertToInteractive(key) {\n",
              "          const element = document.querySelector('#df-b2407a4a-1957-40b3-852f-1c1bf440ce6a');\n",
              "          const dataTable =\n",
              "            await google.colab.kernel.invokeFunction('convertToInteractive',\n",
              "                                                     [key], {});\n",
              "          if (!dataTable) return;\n",
              "\n",
              "          const docLinkHtml = 'Like what you see? Visit the ' +\n",
              "            '<a target=\"_blank\" href=https://colab.research.google.com/notebooks/data_table.ipynb>data table notebook</a>'\n",
              "            + ' to learn more about interactive tables.';\n",
              "          element.innerHTML = '';\n",
              "          dataTable['output_type'] = 'display_data';\n",
              "          await google.colab.output.renderOutput(dataTable, element);\n",
              "          const docLink = document.createElement('div');\n",
              "          docLink.innerHTML = docLinkHtml;\n",
              "          element.appendChild(docLink);\n",
              "        }\n",
              "      </script>\n",
              "    </div>\n",
              "  </div>\n",
              "  "
            ]
          },
          "metadata": {},
          "execution_count": 19
        }
      ]
    },
    {
      "cell_type": "markdown",
      "source": [
        "Pandas to_numeric() adalah fungsi bawaan yang digunakan untuk mengonversi argumen menjadi tipe numerik. Jenis pengembalian default dari fungsi tersebut adalah float64 atau int64 tergantung pada input yang diberikan. Untuk mendapatkan nilai dari tipe data lain, kita perlu menggunakan parameter downcast."
      ],
      "metadata": {
        "id": "z8kYPvjnPJ6Q"
      }
    },
    {
      "cell_type": "code",
      "source": [
        "# bareNuc = pd.to_numeric(data['bareNuc'], errors='coerce')\n",
        "# idx = bareNuc.isna()\n",
        "# data[idx]\n",
        "\n",
        "df = data\n",
        "\n",
        "df[pd.to_numeric(df['bareNuc'], errors='coerce').isna()]"
      ],
      "metadata": {
        "colab": {
          "base_uri": "https://localhost:8080/",
          "height": 551
        },
        "id": "YC2Sk0Ou8-Dw",
        "outputId": "d3ce9705-cdf1-44a1-8bc1-6b5185e937a8"
      },
      "execution_count": null,
      "outputs": [
        {
          "output_type": "execute_result",
          "data": {
            "text/plain": [
              "     clumpThickness  UoCSz  UoCSh  MA  SECZ bareNuc  BlandChro  NormalNucl  \\\n",
              "23                8      4      5   1     2       ?          7           3   \n",
              "40                6      6      6   9     6       ?          7           8   \n",
              "139               1      1      1   1     1       ?          2           1   \n",
              "145               1      1      3   1     2       ?          2           1   \n",
              "158               1      1      2   1     3       ?          1           1   \n",
              "164               5      1      1   1     2       ?          3           1   \n",
              "235               3      1      4   1     2       ?          3           1   \n",
              "249               3      1      1   1     2       ?          3           1   \n",
              "275               3      1      3   1     2       ?          2           1   \n",
              "292               8      8      8   1     2       ?          6          10   \n",
              "294               1      1      1   1     2       ?          2           1   \n",
              "297               5      4      3   1     2       ?          2           3   \n",
              "315               4      6      5   6     7       ?          4           9   \n",
              "321               3      1      1   1     2       ?          3           1   \n",
              "411               1      1      1   1     1       ?          2           1   \n",
              "617               1      1      1   1     1       ?          1           1   \n",
              "\n",
              "     Mitoses  Class  \n",
              "23         1      4  \n",
              "40         1      2  \n",
              "139        1      2  \n",
              "145        1      2  \n",
              "158        1      2  \n",
              "164        1      2  \n",
              "235        1      2  \n",
              "249        1      2  \n",
              "275        1      2  \n",
              "292        1      4  \n",
              "294        1      2  \n",
              "297        1      2  \n",
              "315        1      2  \n",
              "321        1      2  \n",
              "411        1      2  \n",
              "617        1      2  "
            ],
            "text/html": [
              "\n",
              "  <div id=\"df-c8ce79be-4843-4a97-85f9-0f56825c60bd\">\n",
              "    <div class=\"colab-df-container\">\n",
              "      <div>\n",
              "<style scoped>\n",
              "    .dataframe tbody tr th:only-of-type {\n",
              "        vertical-align: middle;\n",
              "    }\n",
              "\n",
              "    .dataframe tbody tr th {\n",
              "        vertical-align: top;\n",
              "    }\n",
              "\n",
              "    .dataframe thead th {\n",
              "        text-align: right;\n",
              "    }\n",
              "</style>\n",
              "<table border=\"1\" class=\"dataframe\">\n",
              "  <thead>\n",
              "    <tr style=\"text-align: right;\">\n",
              "      <th></th>\n",
              "      <th>clumpThickness</th>\n",
              "      <th>UoCSz</th>\n",
              "      <th>UoCSh</th>\n",
              "      <th>MA</th>\n",
              "      <th>SECZ</th>\n",
              "      <th>bareNuc</th>\n",
              "      <th>BlandChro</th>\n",
              "      <th>NormalNucl</th>\n",
              "      <th>Mitoses</th>\n",
              "      <th>Class</th>\n",
              "    </tr>\n",
              "  </thead>\n",
              "  <tbody>\n",
              "    <tr>\n",
              "      <th>23</th>\n",
              "      <td>8</td>\n",
              "      <td>4</td>\n",
              "      <td>5</td>\n",
              "      <td>1</td>\n",
              "      <td>2</td>\n",
              "      <td>?</td>\n",
              "      <td>7</td>\n",
              "      <td>3</td>\n",
              "      <td>1</td>\n",
              "      <td>4</td>\n",
              "    </tr>\n",
              "    <tr>\n",
              "      <th>40</th>\n",
              "      <td>6</td>\n",
              "      <td>6</td>\n",
              "      <td>6</td>\n",
              "      <td>9</td>\n",
              "      <td>6</td>\n",
              "      <td>?</td>\n",
              "      <td>7</td>\n",
              "      <td>8</td>\n",
              "      <td>1</td>\n",
              "      <td>2</td>\n",
              "    </tr>\n",
              "    <tr>\n",
              "      <th>139</th>\n",
              "      <td>1</td>\n",
              "      <td>1</td>\n",
              "      <td>1</td>\n",
              "      <td>1</td>\n",
              "      <td>1</td>\n",
              "      <td>?</td>\n",
              "      <td>2</td>\n",
              "      <td>1</td>\n",
              "      <td>1</td>\n",
              "      <td>2</td>\n",
              "    </tr>\n",
              "    <tr>\n",
              "      <th>145</th>\n",
              "      <td>1</td>\n",
              "      <td>1</td>\n",
              "      <td>3</td>\n",
              "      <td>1</td>\n",
              "      <td>2</td>\n",
              "      <td>?</td>\n",
              "      <td>2</td>\n",
              "      <td>1</td>\n",
              "      <td>1</td>\n",
              "      <td>2</td>\n",
              "    </tr>\n",
              "    <tr>\n",
              "      <th>158</th>\n",
              "      <td>1</td>\n",
              "      <td>1</td>\n",
              "      <td>2</td>\n",
              "      <td>1</td>\n",
              "      <td>3</td>\n",
              "      <td>?</td>\n",
              "      <td>1</td>\n",
              "      <td>1</td>\n",
              "      <td>1</td>\n",
              "      <td>2</td>\n",
              "    </tr>\n",
              "    <tr>\n",
              "      <th>164</th>\n",
              "      <td>5</td>\n",
              "      <td>1</td>\n",
              "      <td>1</td>\n",
              "      <td>1</td>\n",
              "      <td>2</td>\n",
              "      <td>?</td>\n",
              "      <td>3</td>\n",
              "      <td>1</td>\n",
              "      <td>1</td>\n",
              "      <td>2</td>\n",
              "    </tr>\n",
              "    <tr>\n",
              "      <th>235</th>\n",
              "      <td>3</td>\n",
              "      <td>1</td>\n",
              "      <td>4</td>\n",
              "      <td>1</td>\n",
              "      <td>2</td>\n",
              "      <td>?</td>\n",
              "      <td>3</td>\n",
              "      <td>1</td>\n",
              "      <td>1</td>\n",
              "      <td>2</td>\n",
              "    </tr>\n",
              "    <tr>\n",
              "      <th>249</th>\n",
              "      <td>3</td>\n",
              "      <td>1</td>\n",
              "      <td>1</td>\n",
              "      <td>1</td>\n",
              "      <td>2</td>\n",
              "      <td>?</td>\n",
              "      <td>3</td>\n",
              "      <td>1</td>\n",
              "      <td>1</td>\n",
              "      <td>2</td>\n",
              "    </tr>\n",
              "    <tr>\n",
              "      <th>275</th>\n",
              "      <td>3</td>\n",
              "      <td>1</td>\n",
              "      <td>3</td>\n",
              "      <td>1</td>\n",
              "      <td>2</td>\n",
              "      <td>?</td>\n",
              "      <td>2</td>\n",
              "      <td>1</td>\n",
              "      <td>1</td>\n",
              "      <td>2</td>\n",
              "    </tr>\n",
              "    <tr>\n",
              "      <th>292</th>\n",
              "      <td>8</td>\n",
              "      <td>8</td>\n",
              "      <td>8</td>\n",
              "      <td>1</td>\n",
              "      <td>2</td>\n",
              "      <td>?</td>\n",
              "      <td>6</td>\n",
              "      <td>10</td>\n",
              "      <td>1</td>\n",
              "      <td>4</td>\n",
              "    </tr>\n",
              "    <tr>\n",
              "      <th>294</th>\n",
              "      <td>1</td>\n",
              "      <td>1</td>\n",
              "      <td>1</td>\n",
              "      <td>1</td>\n",
              "      <td>2</td>\n",
              "      <td>?</td>\n",
              "      <td>2</td>\n",
              "      <td>1</td>\n",
              "      <td>1</td>\n",
              "      <td>2</td>\n",
              "    </tr>\n",
              "    <tr>\n",
              "      <th>297</th>\n",
              "      <td>5</td>\n",
              "      <td>4</td>\n",
              "      <td>3</td>\n",
              "      <td>1</td>\n",
              "      <td>2</td>\n",
              "      <td>?</td>\n",
              "      <td>2</td>\n",
              "      <td>3</td>\n",
              "      <td>1</td>\n",
              "      <td>2</td>\n",
              "    </tr>\n",
              "    <tr>\n",
              "      <th>315</th>\n",
              "      <td>4</td>\n",
              "      <td>6</td>\n",
              "      <td>5</td>\n",
              "      <td>6</td>\n",
              "      <td>7</td>\n",
              "      <td>?</td>\n",
              "      <td>4</td>\n",
              "      <td>9</td>\n",
              "      <td>1</td>\n",
              "      <td>2</td>\n",
              "    </tr>\n",
              "    <tr>\n",
              "      <th>321</th>\n",
              "      <td>3</td>\n",
              "      <td>1</td>\n",
              "      <td>1</td>\n",
              "      <td>1</td>\n",
              "      <td>2</td>\n",
              "      <td>?</td>\n",
              "      <td>3</td>\n",
              "      <td>1</td>\n",
              "      <td>1</td>\n",
              "      <td>2</td>\n",
              "    </tr>\n",
              "    <tr>\n",
              "      <th>411</th>\n",
              "      <td>1</td>\n",
              "      <td>1</td>\n",
              "      <td>1</td>\n",
              "      <td>1</td>\n",
              "      <td>1</td>\n",
              "      <td>?</td>\n",
              "      <td>2</td>\n",
              "      <td>1</td>\n",
              "      <td>1</td>\n",
              "      <td>2</td>\n",
              "    </tr>\n",
              "    <tr>\n",
              "      <th>617</th>\n",
              "      <td>1</td>\n",
              "      <td>1</td>\n",
              "      <td>1</td>\n",
              "      <td>1</td>\n",
              "      <td>1</td>\n",
              "      <td>?</td>\n",
              "      <td>1</td>\n",
              "      <td>1</td>\n",
              "      <td>1</td>\n",
              "      <td>2</td>\n",
              "    </tr>\n",
              "  </tbody>\n",
              "</table>\n",
              "</div>\n",
              "      <button class=\"colab-df-convert\" onclick=\"convertToInteractive('df-c8ce79be-4843-4a97-85f9-0f56825c60bd')\"\n",
              "              title=\"Convert this dataframe to an interactive table.\"\n",
              "              style=\"display:none;\">\n",
              "        \n",
              "  <svg xmlns=\"http://www.w3.org/2000/svg\" height=\"24px\"viewBox=\"0 0 24 24\"\n",
              "       width=\"24px\">\n",
              "    <path d=\"M0 0h24v24H0V0z\" fill=\"none\"/>\n",
              "    <path d=\"M18.56 5.44l.94 2.06.94-2.06 2.06-.94-2.06-.94-.94-2.06-.94 2.06-2.06.94zm-11 1L8.5 8.5l.94-2.06 2.06-.94-2.06-.94L8.5 2.5l-.94 2.06-2.06.94zm10 10l.94 2.06.94-2.06 2.06-.94-2.06-.94-.94-2.06-.94 2.06-2.06.94z\"/><path d=\"M17.41 7.96l-1.37-1.37c-.4-.4-.92-.59-1.43-.59-.52 0-1.04.2-1.43.59L10.3 9.45l-7.72 7.72c-.78.78-.78 2.05 0 2.83L4 21.41c.39.39.9.59 1.41.59.51 0 1.02-.2 1.41-.59l7.78-7.78 2.81-2.81c.8-.78.8-2.07 0-2.86zM5.41 20L4 18.59l7.72-7.72 1.47 1.35L5.41 20z\"/>\n",
              "  </svg>\n",
              "      </button>\n",
              "      \n",
              "  <style>\n",
              "    .colab-df-container {\n",
              "      display:flex;\n",
              "      flex-wrap:wrap;\n",
              "      gap: 12px;\n",
              "    }\n",
              "\n",
              "    .colab-df-convert {\n",
              "      background-color: #E8F0FE;\n",
              "      border: none;\n",
              "      border-radius: 50%;\n",
              "      cursor: pointer;\n",
              "      display: none;\n",
              "      fill: #1967D2;\n",
              "      height: 32px;\n",
              "      padding: 0 0 0 0;\n",
              "      width: 32px;\n",
              "    }\n",
              "\n",
              "    .colab-df-convert:hover {\n",
              "      background-color: #E2EBFA;\n",
              "      box-shadow: 0px 1px 2px rgba(60, 64, 67, 0.3), 0px 1px 3px 1px rgba(60, 64, 67, 0.15);\n",
              "      fill: #174EA6;\n",
              "    }\n",
              "\n",
              "    [theme=dark] .colab-df-convert {\n",
              "      background-color: #3B4455;\n",
              "      fill: #D2E3FC;\n",
              "    }\n",
              "\n",
              "    [theme=dark] .colab-df-convert:hover {\n",
              "      background-color: #434B5C;\n",
              "      box-shadow: 0px 1px 3px 1px rgba(0, 0, 0, 0.15);\n",
              "      filter: drop-shadow(0px 1px 2px rgba(0, 0, 0, 0.3));\n",
              "      fill: #FFFFFF;\n",
              "    }\n",
              "  </style>\n",
              "\n",
              "      <script>\n",
              "        const buttonEl =\n",
              "          document.querySelector('#df-c8ce79be-4843-4a97-85f9-0f56825c60bd button.colab-df-convert');\n",
              "        buttonEl.style.display =\n",
              "          google.colab.kernel.accessAllowed ? 'block' : 'none';\n",
              "\n",
              "        async function convertToInteractive(key) {\n",
              "          const element = document.querySelector('#df-c8ce79be-4843-4a97-85f9-0f56825c60bd');\n",
              "          const dataTable =\n",
              "            await google.colab.kernel.invokeFunction('convertToInteractive',\n",
              "                                                     [key], {});\n",
              "          if (!dataTable) return;\n",
              "\n",
              "          const docLinkHtml = 'Like what you see? Visit the ' +\n",
              "            '<a target=\"_blank\" href=https://colab.research.google.com/notebooks/data_table.ipynb>data table notebook</a>'\n",
              "            + ' to learn more about interactive tables.';\n",
              "          element.innerHTML = '';\n",
              "          dataTable['output_type'] = 'display_data';\n",
              "          await google.colab.output.renderOutput(dataTable, element);\n",
              "          const docLink = document.createElement('div');\n",
              "          docLink.innerHTML = docLinkHtml;\n",
              "          element.appendChild(docLink);\n",
              "        }\n",
              "      </script>\n",
              "    </div>\n",
              "  </div>\n",
              "  "
            ]
          },
          "metadata": {},
          "execution_count": 20
        }
      ]
    },
    {
      "cell_type": "markdown",
      "source": [
        "Missing value terjadi ketika data dari sebuah record tidak lengkap. Missing value sangat mempengaruhi performa model machine learning. Ada 2 (dua) opsi untuk mengatasi missing value, yaitu menghilangkan data missing value atau mengganti nilai yang hilang dengan nilai lain, seperti rata-rata dari kolom tersebut (mean) atau nilai yang paling sering muncul (modus), atau nilai tengah (median)."
      ],
      "metadata": {
        "id": "DHbPQiav2_NB"
      }
    },
    {
      "cell_type": "markdown",
      "source": [
        "Fungsi **replace()** digunakan untuk mengganti sebuah nilai pada dataframe. Misalnya disini kita mengganti karakter '?'  yang ada di dataframe dengan nilai 0 untuk kolom 'bareNuc'."
      ],
      "metadata": {
        "id": "Aq4mJDcuSV3z"
      }
    },
    {
      "cell_type": "code",
      "source": [
        "data['bareNuc'] = data['bareNuc'].replace('?', 0)"
      ],
      "metadata": {
        "id": "FNWJmFOOS7oH"
      },
      "execution_count": null,
      "outputs": []
    },
    {
      "cell_type": "markdown",
      "source": [
        "Fungsi **astype()** digunakan untuk mengubah tipe data dari sebuah kolom di dataframe. Misalnya disini kita mengubah tipe data kolom ‘bareNuc’ dari yang tadinya ‘object’ menjadi ‘int64’."
      ],
      "metadata": {
        "id": "d0U0u_g-SyWI"
      }
    },
    {
      "cell_type": "code",
      "source": [
        "data['bareNuc'] = data['bareNuc'].astype('int64')"
      ],
      "metadata": {
        "id": "dv2Rks_cFYh3"
      },
      "execution_count": null,
      "outputs": []
    },
    {
      "cell_type": "code",
      "source": [
        "data.info()"
      ],
      "metadata": {
        "colab": {
          "base_uri": "https://localhost:8080/"
        },
        "id": "fwgq6a7oFQvb",
        "outputId": "d333330e-3033-41db-ad35-2ed80d484275"
      },
      "execution_count": null,
      "outputs": [
        {
          "output_type": "stream",
          "name": "stdout",
          "text": [
            "<class 'pandas.core.frame.DataFrame'>\n",
            "RangeIndex: 699 entries, 0 to 698\n",
            "Data columns (total 10 columns):\n",
            " #   Column          Non-Null Count  Dtype\n",
            "---  ------          --------------  -----\n",
            " 0   clumpThickness  699 non-null    int64\n",
            " 1   UoCSz           699 non-null    int64\n",
            " 2   UoCSh           699 non-null    int64\n",
            " 3   MA              699 non-null    int64\n",
            " 4   SECZ            699 non-null    int64\n",
            " 5   bareNuc         699 non-null    int64\n",
            " 6   BlandChro       699 non-null    int64\n",
            " 7   NormalNucl      699 non-null    int64\n",
            " 8   Mitoses         699 non-null    int64\n",
            " 9   Class           699 non-null    int64\n",
            "dtypes: int64(10)\n",
            "memory usage: 54.7 KB\n"
          ]
        }
      ]
    },
    {
      "cell_type": "markdown",
      "source": [
        "Tampilkan lagi hubungan antara variabel dengan perintah .corr()"
      ],
      "metadata": {
        "id": "rvxTeZh5uHIK"
      }
    },
    {
      "cell_type": "code",
      "source": [
        "data.corr(method='pearson')"
      ],
      "metadata": {
        "colab": {
          "base_uri": "https://localhost:8080/",
          "height": 363
        },
        "id": "oF4DK5OKF9tS",
        "outputId": "c7d627e5-2e24-4a6c-8986-66cd6cfbdfb6"
      },
      "execution_count": null,
      "outputs": [
        {
          "output_type": "execute_result",
          "data": {
            "text/plain": [
              "                clumpThickness     UoCSz     UoCSh        MA      SECZ  \\\n",
              "clumpThickness        1.000000  0.644913  0.654589  0.486356  0.521816   \n",
              "UoCSz                 0.644913  1.000000  0.906882  0.705582  0.751799   \n",
              "UoCSh                 0.654589  0.906882  1.000000  0.683079  0.719668   \n",
              "MA                    0.486356  0.705582  0.683079  1.000000  0.599599   \n",
              "SECZ                  0.521816  0.751799  0.719668  0.599599  1.000000   \n",
              "bareNuc               0.589296  0.684569  0.704529  0.665723  0.582904   \n",
              "BlandChro             0.558428  0.755721  0.735948  0.666715  0.616102   \n",
              "NormalNucl            0.535835  0.722865  0.719446  0.603352  0.628881   \n",
              "Mitoses               0.350034  0.458693  0.438911  0.417633  0.479101   \n",
              "Class                 0.716001  0.817904  0.818934  0.696800  0.682785   \n",
              "\n",
              "                 bareNuc  BlandChro  NormalNucl   Mitoses     Class  \n",
              "clumpThickness  0.589296   0.558428    0.535835  0.350034  0.716001  \n",
              "UoCSz           0.684569   0.755721    0.722865  0.458693  0.817904  \n",
              "UoCSh           0.704529   0.735948    0.719446  0.438911  0.818934  \n",
              "MA              0.665723   0.666715    0.603352  0.417633  0.696800  \n",
              "SECZ            0.582904   0.616102    0.628881  0.479101  0.682785  \n",
              "bareNuc         1.000000   0.671545    0.572054  0.342795  0.817653  \n",
              "BlandChro       0.671545   1.000000    0.665878  0.344169  0.756616  \n",
              "NormalNucl      0.572054   0.665878    1.000000  0.428336  0.712244  \n",
              "Mitoses         0.342795   0.344169    0.428336  1.000000  0.423170  \n",
              "Class           0.817653   0.756616    0.712244  0.423170  1.000000  "
            ],
            "text/html": [
              "\n",
              "  <div id=\"df-f8ece5fa-4bc3-4d0e-b954-b1b2947e17ed\">\n",
              "    <div class=\"colab-df-container\">\n",
              "      <div>\n",
              "<style scoped>\n",
              "    .dataframe tbody tr th:only-of-type {\n",
              "        vertical-align: middle;\n",
              "    }\n",
              "\n",
              "    .dataframe tbody tr th {\n",
              "        vertical-align: top;\n",
              "    }\n",
              "\n",
              "    .dataframe thead th {\n",
              "        text-align: right;\n",
              "    }\n",
              "</style>\n",
              "<table border=\"1\" class=\"dataframe\">\n",
              "  <thead>\n",
              "    <tr style=\"text-align: right;\">\n",
              "      <th></th>\n",
              "      <th>clumpThickness</th>\n",
              "      <th>UoCSz</th>\n",
              "      <th>UoCSh</th>\n",
              "      <th>MA</th>\n",
              "      <th>SECZ</th>\n",
              "      <th>bareNuc</th>\n",
              "      <th>BlandChro</th>\n",
              "      <th>NormalNucl</th>\n",
              "      <th>Mitoses</th>\n",
              "      <th>Class</th>\n",
              "    </tr>\n",
              "  </thead>\n",
              "  <tbody>\n",
              "    <tr>\n",
              "      <th>clumpThickness</th>\n",
              "      <td>1.000000</td>\n",
              "      <td>0.644913</td>\n",
              "      <td>0.654589</td>\n",
              "      <td>0.486356</td>\n",
              "      <td>0.521816</td>\n",
              "      <td>0.589296</td>\n",
              "      <td>0.558428</td>\n",
              "      <td>0.535835</td>\n",
              "      <td>0.350034</td>\n",
              "      <td>0.716001</td>\n",
              "    </tr>\n",
              "    <tr>\n",
              "      <th>UoCSz</th>\n",
              "      <td>0.644913</td>\n",
              "      <td>1.000000</td>\n",
              "      <td>0.906882</td>\n",
              "      <td>0.705582</td>\n",
              "      <td>0.751799</td>\n",
              "      <td>0.684569</td>\n",
              "      <td>0.755721</td>\n",
              "      <td>0.722865</td>\n",
              "      <td>0.458693</td>\n",
              "      <td>0.817904</td>\n",
              "    </tr>\n",
              "    <tr>\n",
              "      <th>UoCSh</th>\n",
              "      <td>0.654589</td>\n",
              "      <td>0.906882</td>\n",
              "      <td>1.000000</td>\n",
              "      <td>0.683079</td>\n",
              "      <td>0.719668</td>\n",
              "      <td>0.704529</td>\n",
              "      <td>0.735948</td>\n",
              "      <td>0.719446</td>\n",
              "      <td>0.438911</td>\n",
              "      <td>0.818934</td>\n",
              "    </tr>\n",
              "    <tr>\n",
              "      <th>MA</th>\n",
              "      <td>0.486356</td>\n",
              "      <td>0.705582</td>\n",
              "      <td>0.683079</td>\n",
              "      <td>1.000000</td>\n",
              "      <td>0.599599</td>\n",
              "      <td>0.665723</td>\n",
              "      <td>0.666715</td>\n",
              "      <td>0.603352</td>\n",
              "      <td>0.417633</td>\n",
              "      <td>0.696800</td>\n",
              "    </tr>\n",
              "    <tr>\n",
              "      <th>SECZ</th>\n",
              "      <td>0.521816</td>\n",
              "      <td>0.751799</td>\n",
              "      <td>0.719668</td>\n",
              "      <td>0.599599</td>\n",
              "      <td>1.000000</td>\n",
              "      <td>0.582904</td>\n",
              "      <td>0.616102</td>\n",
              "      <td>0.628881</td>\n",
              "      <td>0.479101</td>\n",
              "      <td>0.682785</td>\n",
              "    </tr>\n",
              "    <tr>\n",
              "      <th>bareNuc</th>\n",
              "      <td>0.589296</td>\n",
              "      <td>0.684569</td>\n",
              "      <td>0.704529</td>\n",
              "      <td>0.665723</td>\n",
              "      <td>0.582904</td>\n",
              "      <td>1.000000</td>\n",
              "      <td>0.671545</td>\n",
              "      <td>0.572054</td>\n",
              "      <td>0.342795</td>\n",
              "      <td>0.817653</td>\n",
              "    </tr>\n",
              "    <tr>\n",
              "      <th>BlandChro</th>\n",
              "      <td>0.558428</td>\n",
              "      <td>0.755721</td>\n",
              "      <td>0.735948</td>\n",
              "      <td>0.666715</td>\n",
              "      <td>0.616102</td>\n",
              "      <td>0.671545</td>\n",
              "      <td>1.000000</td>\n",
              "      <td>0.665878</td>\n",
              "      <td>0.344169</td>\n",
              "      <td>0.756616</td>\n",
              "    </tr>\n",
              "    <tr>\n",
              "      <th>NormalNucl</th>\n",
              "      <td>0.535835</td>\n",
              "      <td>0.722865</td>\n",
              "      <td>0.719446</td>\n",
              "      <td>0.603352</td>\n",
              "      <td>0.628881</td>\n",
              "      <td>0.572054</td>\n",
              "      <td>0.665878</td>\n",
              "      <td>1.000000</td>\n",
              "      <td>0.428336</td>\n",
              "      <td>0.712244</td>\n",
              "    </tr>\n",
              "    <tr>\n",
              "      <th>Mitoses</th>\n",
              "      <td>0.350034</td>\n",
              "      <td>0.458693</td>\n",
              "      <td>0.438911</td>\n",
              "      <td>0.417633</td>\n",
              "      <td>0.479101</td>\n",
              "      <td>0.342795</td>\n",
              "      <td>0.344169</td>\n",
              "      <td>0.428336</td>\n",
              "      <td>1.000000</td>\n",
              "      <td>0.423170</td>\n",
              "    </tr>\n",
              "    <tr>\n",
              "      <th>Class</th>\n",
              "      <td>0.716001</td>\n",
              "      <td>0.817904</td>\n",
              "      <td>0.818934</td>\n",
              "      <td>0.696800</td>\n",
              "      <td>0.682785</td>\n",
              "      <td>0.817653</td>\n",
              "      <td>0.756616</td>\n",
              "      <td>0.712244</td>\n",
              "      <td>0.423170</td>\n",
              "      <td>1.000000</td>\n",
              "    </tr>\n",
              "  </tbody>\n",
              "</table>\n",
              "</div>\n",
              "      <button class=\"colab-df-convert\" onclick=\"convertToInteractive('df-f8ece5fa-4bc3-4d0e-b954-b1b2947e17ed')\"\n",
              "              title=\"Convert this dataframe to an interactive table.\"\n",
              "              style=\"display:none;\">\n",
              "        \n",
              "  <svg xmlns=\"http://www.w3.org/2000/svg\" height=\"24px\"viewBox=\"0 0 24 24\"\n",
              "       width=\"24px\">\n",
              "    <path d=\"M0 0h24v24H0V0z\" fill=\"none\"/>\n",
              "    <path d=\"M18.56 5.44l.94 2.06.94-2.06 2.06-.94-2.06-.94-.94-2.06-.94 2.06-2.06.94zm-11 1L8.5 8.5l.94-2.06 2.06-.94-2.06-.94L8.5 2.5l-.94 2.06-2.06.94zm10 10l.94 2.06.94-2.06 2.06-.94-2.06-.94-.94-2.06-.94 2.06-2.06.94z\"/><path d=\"M17.41 7.96l-1.37-1.37c-.4-.4-.92-.59-1.43-.59-.52 0-1.04.2-1.43.59L10.3 9.45l-7.72 7.72c-.78.78-.78 2.05 0 2.83L4 21.41c.39.39.9.59 1.41.59.51 0 1.02-.2 1.41-.59l7.78-7.78 2.81-2.81c.8-.78.8-2.07 0-2.86zM5.41 20L4 18.59l7.72-7.72 1.47 1.35L5.41 20z\"/>\n",
              "  </svg>\n",
              "      </button>\n",
              "      \n",
              "  <style>\n",
              "    .colab-df-container {\n",
              "      display:flex;\n",
              "      flex-wrap:wrap;\n",
              "      gap: 12px;\n",
              "    }\n",
              "\n",
              "    .colab-df-convert {\n",
              "      background-color: #E8F0FE;\n",
              "      border: none;\n",
              "      border-radius: 50%;\n",
              "      cursor: pointer;\n",
              "      display: none;\n",
              "      fill: #1967D2;\n",
              "      height: 32px;\n",
              "      padding: 0 0 0 0;\n",
              "      width: 32px;\n",
              "    }\n",
              "\n",
              "    .colab-df-convert:hover {\n",
              "      background-color: #E2EBFA;\n",
              "      box-shadow: 0px 1px 2px rgba(60, 64, 67, 0.3), 0px 1px 3px 1px rgba(60, 64, 67, 0.15);\n",
              "      fill: #174EA6;\n",
              "    }\n",
              "\n",
              "    [theme=dark] .colab-df-convert {\n",
              "      background-color: #3B4455;\n",
              "      fill: #D2E3FC;\n",
              "    }\n",
              "\n",
              "    [theme=dark] .colab-df-convert:hover {\n",
              "      background-color: #434B5C;\n",
              "      box-shadow: 0px 1px 3px 1px rgba(0, 0, 0, 0.15);\n",
              "      filter: drop-shadow(0px 1px 2px rgba(0, 0, 0, 0.3));\n",
              "      fill: #FFFFFF;\n",
              "    }\n",
              "  </style>\n",
              "\n",
              "      <script>\n",
              "        const buttonEl =\n",
              "          document.querySelector('#df-f8ece5fa-4bc3-4d0e-b954-b1b2947e17ed button.colab-df-convert');\n",
              "        buttonEl.style.display =\n",
              "          google.colab.kernel.accessAllowed ? 'block' : 'none';\n",
              "\n",
              "        async function convertToInteractive(key) {\n",
              "          const element = document.querySelector('#df-f8ece5fa-4bc3-4d0e-b954-b1b2947e17ed');\n",
              "          const dataTable =\n",
              "            await google.colab.kernel.invokeFunction('convertToInteractive',\n",
              "                                                     [key], {});\n",
              "          if (!dataTable) return;\n",
              "\n",
              "          const docLinkHtml = 'Like what you see? Visit the ' +\n",
              "            '<a target=\"_blank\" href=https://colab.research.google.com/notebooks/data_table.ipynb>data table notebook</a>'\n",
              "            + ' to learn more about interactive tables.';\n",
              "          element.innerHTML = '';\n",
              "          dataTable['output_type'] = 'display_data';\n",
              "          await google.colab.output.renderOutput(dataTable, element);\n",
              "          const docLink = document.createElement('div');\n",
              "          docLink.innerHTML = docLinkHtml;\n",
              "          element.appendChild(docLink);\n",
              "        }\n",
              "      </script>\n",
              "    </div>\n",
              "  </div>\n",
              "  "
            ]
          },
          "metadata": {},
          "execution_count": 24
        }
      ]
    },
    {
      "cell_type": "code",
      "source": [
        "\n",
        "df = data\n",
        "\n",
        "target = data['Class']"
      ],
      "metadata": {
        "id": "11GFwsmFV8VT"
      },
      "execution_count": null,
      "outputs": []
    },
    {
      "cell_type": "markdown",
      "source": [
        "Fungsi **drop()** berfungsi untuk menghapus baris atau kolom pada pandas. Nilai axis = 0 berarti yang dihapus adalah baris dan axis = 1 berarti yang dihapus adalah kolom. Parameter inplace=True berfungsi agar hasil modifikasi dataframe tersebut langsung tersimpan kembali ke variabel dataframe yang sama.Secara default nilai inplace adalah False, artinya perubahan pada dataframe tidak akan disimpan"
      ],
      "metadata": {
        "id": "0inIV572HsgL"
      }
    },
    {
      "cell_type": "code",
      "source": [
        "# menghapus kolom Class\n",
        "data.drop([data.columns[9]], axis= 1, inplace= True)"
      ],
      "metadata": {
        "id": "_8QxCJRjIIK8"
      },
      "execution_count": null,
      "outputs": []
    },
    {
      "cell_type": "code",
      "source": [
        "for i in data.columns:\n",
        "    a = data[i].unique()\n",
        "    len(a)\n",
        "    print(i, len(a))\n",
        "    if len(a) < 3:\n",
        "        print(a)"
      ],
      "metadata": {
        "colab": {
          "base_uri": "https://localhost:8080/"
        },
        "id": "Rtqyp9L6OyLI",
        "outputId": "c3c46888-4ac1-491c-f442-2564a501686b"
      },
      "execution_count": null,
      "outputs": [
        {
          "output_type": "stream",
          "name": "stdout",
          "text": [
            "clumpThickness 10\n",
            "UoCSz 10\n",
            "UoCSh 10\n",
            "MA 10\n",
            "SECZ 10\n",
            "bareNuc 11\n",
            "BlandChro 10\n",
            "NormalNucl 10\n",
            "Mitoses 9\n"
          ]
        }
      ]
    },
    {
      "cell_type": "code",
      "source": [
        "# df['Class'].loc[df['Class'] == 2] = 0\n",
        "# df['Class'].loc[df['Class'] == 4] = 1"
      ],
      "metadata": {
        "id": "pAT4aJQmO1Sj"
      },
      "execution_count": null,
      "outputs": []
    },
    {
      "cell_type": "code",
      "source": [
        "data.head(100)"
      ],
      "metadata": {
        "id": "Z7TAav5zO-sH",
        "colab": {
          "base_uri": "https://localhost:8080/",
          "height": 423
        },
        "outputId": "6f6a6676-be32-448c-cb43-3833cb61475f"
      },
      "execution_count": null,
      "outputs": [
        {
          "output_type": "execute_result",
          "data": {
            "text/plain": [
              "    clumpThickness  UoCSz  UoCSh  MA  SECZ  bareNuc  BlandChro  NormalNucl  \\\n",
              "0                5      1      1   1     2        1          3           1   \n",
              "1                5      4      4   5     7       10          3           2   \n",
              "2                3      1      1   1     2        2          3           1   \n",
              "3                6      8      8   1     3        4          3           7   \n",
              "4                4      1      1   3     2        1          3           1   \n",
              "..             ...    ...    ...  ..   ...      ...        ...         ...   \n",
              "95               1      1      1   1     2        1          3           1   \n",
              "96               2      1      1   2     2        1          1           1   \n",
              "97               5      1      1   1     2        1          3           1   \n",
              "98               9      6      9   2    10        6          2           9   \n",
              "99               7      5      6  10     5       10          7           9   \n",
              "\n",
              "    Mitoses  \n",
              "0         1  \n",
              "1         1  \n",
              "2         1  \n",
              "3         1  \n",
              "4         1  \n",
              "..      ...  \n",
              "95        1  \n",
              "96        1  \n",
              "97        1  \n",
              "98       10  \n",
              "99        4  \n",
              "\n",
              "[100 rows x 9 columns]"
            ],
            "text/html": [
              "\n",
              "  <div id=\"df-bbf5202c-6eb4-4d2d-a5a5-0a94ae7bcc28\">\n",
              "    <div class=\"colab-df-container\">\n",
              "      <div>\n",
              "<style scoped>\n",
              "    .dataframe tbody tr th:only-of-type {\n",
              "        vertical-align: middle;\n",
              "    }\n",
              "\n",
              "    .dataframe tbody tr th {\n",
              "        vertical-align: top;\n",
              "    }\n",
              "\n",
              "    .dataframe thead th {\n",
              "        text-align: right;\n",
              "    }\n",
              "</style>\n",
              "<table border=\"1\" class=\"dataframe\">\n",
              "  <thead>\n",
              "    <tr style=\"text-align: right;\">\n",
              "      <th></th>\n",
              "      <th>clumpThickness</th>\n",
              "      <th>UoCSz</th>\n",
              "      <th>UoCSh</th>\n",
              "      <th>MA</th>\n",
              "      <th>SECZ</th>\n",
              "      <th>bareNuc</th>\n",
              "      <th>BlandChro</th>\n",
              "      <th>NormalNucl</th>\n",
              "      <th>Mitoses</th>\n",
              "    </tr>\n",
              "  </thead>\n",
              "  <tbody>\n",
              "    <tr>\n",
              "      <th>0</th>\n",
              "      <td>5</td>\n",
              "      <td>1</td>\n",
              "      <td>1</td>\n",
              "      <td>1</td>\n",
              "      <td>2</td>\n",
              "      <td>1</td>\n",
              "      <td>3</td>\n",
              "      <td>1</td>\n",
              "      <td>1</td>\n",
              "    </tr>\n",
              "    <tr>\n",
              "      <th>1</th>\n",
              "      <td>5</td>\n",
              "      <td>4</td>\n",
              "      <td>4</td>\n",
              "      <td>5</td>\n",
              "      <td>7</td>\n",
              "      <td>10</td>\n",
              "      <td>3</td>\n",
              "      <td>2</td>\n",
              "      <td>1</td>\n",
              "    </tr>\n",
              "    <tr>\n",
              "      <th>2</th>\n",
              "      <td>3</td>\n",
              "      <td>1</td>\n",
              "      <td>1</td>\n",
              "      <td>1</td>\n",
              "      <td>2</td>\n",
              "      <td>2</td>\n",
              "      <td>3</td>\n",
              "      <td>1</td>\n",
              "      <td>1</td>\n",
              "    </tr>\n",
              "    <tr>\n",
              "      <th>3</th>\n",
              "      <td>6</td>\n",
              "      <td>8</td>\n",
              "      <td>8</td>\n",
              "      <td>1</td>\n",
              "      <td>3</td>\n",
              "      <td>4</td>\n",
              "      <td>3</td>\n",
              "      <td>7</td>\n",
              "      <td>1</td>\n",
              "    </tr>\n",
              "    <tr>\n",
              "      <th>4</th>\n",
              "      <td>4</td>\n",
              "      <td>1</td>\n",
              "      <td>1</td>\n",
              "      <td>3</td>\n",
              "      <td>2</td>\n",
              "      <td>1</td>\n",
              "      <td>3</td>\n",
              "      <td>1</td>\n",
              "      <td>1</td>\n",
              "    </tr>\n",
              "    <tr>\n",
              "      <th>...</th>\n",
              "      <td>...</td>\n",
              "      <td>...</td>\n",
              "      <td>...</td>\n",
              "      <td>...</td>\n",
              "      <td>...</td>\n",
              "      <td>...</td>\n",
              "      <td>...</td>\n",
              "      <td>...</td>\n",
              "      <td>...</td>\n",
              "    </tr>\n",
              "    <tr>\n",
              "      <th>95</th>\n",
              "      <td>1</td>\n",
              "      <td>1</td>\n",
              "      <td>1</td>\n",
              "      <td>1</td>\n",
              "      <td>2</td>\n",
              "      <td>1</td>\n",
              "      <td>3</td>\n",
              "      <td>1</td>\n",
              "      <td>1</td>\n",
              "    </tr>\n",
              "    <tr>\n",
              "      <th>96</th>\n",
              "      <td>2</td>\n",
              "      <td>1</td>\n",
              "      <td>1</td>\n",
              "      <td>2</td>\n",
              "      <td>2</td>\n",
              "      <td>1</td>\n",
              "      <td>1</td>\n",
              "      <td>1</td>\n",
              "      <td>1</td>\n",
              "    </tr>\n",
              "    <tr>\n",
              "      <th>97</th>\n",
              "      <td>5</td>\n",
              "      <td>1</td>\n",
              "      <td>1</td>\n",
              "      <td>1</td>\n",
              "      <td>2</td>\n",
              "      <td>1</td>\n",
              "      <td>3</td>\n",
              "      <td>1</td>\n",
              "      <td>1</td>\n",
              "    </tr>\n",
              "    <tr>\n",
              "      <th>98</th>\n",
              "      <td>9</td>\n",
              "      <td>6</td>\n",
              "      <td>9</td>\n",
              "      <td>2</td>\n",
              "      <td>10</td>\n",
              "      <td>6</td>\n",
              "      <td>2</td>\n",
              "      <td>9</td>\n",
              "      <td>10</td>\n",
              "    </tr>\n",
              "    <tr>\n",
              "      <th>99</th>\n",
              "      <td>7</td>\n",
              "      <td>5</td>\n",
              "      <td>6</td>\n",
              "      <td>10</td>\n",
              "      <td>5</td>\n",
              "      <td>10</td>\n",
              "      <td>7</td>\n",
              "      <td>9</td>\n",
              "      <td>4</td>\n",
              "    </tr>\n",
              "  </tbody>\n",
              "</table>\n",
              "<p>100 rows × 9 columns</p>\n",
              "</div>\n",
              "      <button class=\"colab-df-convert\" onclick=\"convertToInteractive('df-bbf5202c-6eb4-4d2d-a5a5-0a94ae7bcc28')\"\n",
              "              title=\"Convert this dataframe to an interactive table.\"\n",
              "              style=\"display:none;\">\n",
              "        \n",
              "  <svg xmlns=\"http://www.w3.org/2000/svg\" height=\"24px\"viewBox=\"0 0 24 24\"\n",
              "       width=\"24px\">\n",
              "    <path d=\"M0 0h24v24H0V0z\" fill=\"none\"/>\n",
              "    <path d=\"M18.56 5.44l.94 2.06.94-2.06 2.06-.94-2.06-.94-.94-2.06-.94 2.06-2.06.94zm-11 1L8.5 8.5l.94-2.06 2.06-.94-2.06-.94L8.5 2.5l-.94 2.06-2.06.94zm10 10l.94 2.06.94-2.06 2.06-.94-2.06-.94-.94-2.06-.94 2.06-2.06.94z\"/><path d=\"M17.41 7.96l-1.37-1.37c-.4-.4-.92-.59-1.43-.59-.52 0-1.04.2-1.43.59L10.3 9.45l-7.72 7.72c-.78.78-.78 2.05 0 2.83L4 21.41c.39.39.9.59 1.41.59.51 0 1.02-.2 1.41-.59l7.78-7.78 2.81-2.81c.8-.78.8-2.07 0-2.86zM5.41 20L4 18.59l7.72-7.72 1.47 1.35L5.41 20z\"/>\n",
              "  </svg>\n",
              "      </button>\n",
              "      \n",
              "  <style>\n",
              "    .colab-df-container {\n",
              "      display:flex;\n",
              "      flex-wrap:wrap;\n",
              "      gap: 12px;\n",
              "    }\n",
              "\n",
              "    .colab-df-convert {\n",
              "      background-color: #E8F0FE;\n",
              "      border: none;\n",
              "      border-radius: 50%;\n",
              "      cursor: pointer;\n",
              "      display: none;\n",
              "      fill: #1967D2;\n",
              "      height: 32px;\n",
              "      padding: 0 0 0 0;\n",
              "      width: 32px;\n",
              "    }\n",
              "\n",
              "    .colab-df-convert:hover {\n",
              "      background-color: #E2EBFA;\n",
              "      box-shadow: 0px 1px 2px rgba(60, 64, 67, 0.3), 0px 1px 3px 1px rgba(60, 64, 67, 0.15);\n",
              "      fill: #174EA6;\n",
              "    }\n",
              "\n",
              "    [theme=dark] .colab-df-convert {\n",
              "      background-color: #3B4455;\n",
              "      fill: #D2E3FC;\n",
              "    }\n",
              "\n",
              "    [theme=dark] .colab-df-convert:hover {\n",
              "      background-color: #434B5C;\n",
              "      box-shadow: 0px 1px 3px 1px rgba(0, 0, 0, 0.15);\n",
              "      filter: drop-shadow(0px 1px 2px rgba(0, 0, 0, 0.3));\n",
              "      fill: #FFFFFF;\n",
              "    }\n",
              "  </style>\n",
              "\n",
              "      <script>\n",
              "        const buttonEl =\n",
              "          document.querySelector('#df-bbf5202c-6eb4-4d2d-a5a5-0a94ae7bcc28 button.colab-df-convert');\n",
              "        buttonEl.style.display =\n",
              "          google.colab.kernel.accessAllowed ? 'block' : 'none';\n",
              "\n",
              "        async function convertToInteractive(key) {\n",
              "          const element = document.querySelector('#df-bbf5202c-6eb4-4d2d-a5a5-0a94ae7bcc28');\n",
              "          const dataTable =\n",
              "            await google.colab.kernel.invokeFunction('convertToInteractive',\n",
              "                                                     [key], {});\n",
              "          if (!dataTable) return;\n",
              "\n",
              "          const docLinkHtml = 'Like what you see? Visit the ' +\n",
              "            '<a target=\"_blank\" href=https://colab.research.google.com/notebooks/data_table.ipynb>data table notebook</a>'\n",
              "            + ' to learn more about interactive tables.';\n",
              "          element.innerHTML = '';\n",
              "          dataTable['output_type'] = 'display_data';\n",
              "          await google.colab.output.renderOutput(dataTable, element);\n",
              "          const docLink = document.createElement('div');\n",
              "          docLink.innerHTML = docLinkHtml;\n",
              "          element.appendChild(docLink);\n",
              "        }\n",
              "      </script>\n",
              "    </div>\n",
              "  </div>\n",
              "  "
            ]
          },
          "metadata": {},
          "execution_count": 29
        }
      ]
    },
    {
      "cell_type": "markdown",
      "source": [
        "Membagi dataset menjadi data training dan data testing dengan perbandingan 80% data training dan 20% data testing. Pembagian data dilakukan secara random/acak.\n",
        "\n",
        "*   x_train berisi data training tanpa label/target.\n",
        "*   y_train berisi label/target data training.\n",
        "*   x_test berisi data testing tanpa label/target.\n",
        "*   y_test berisi label/target data testing.\n",
        "\n",
        "\n",
        "\n",
        "\n",
        "\n",
        "\n",
        "\n",
        "\n",
        "\n"
      ],
      "metadata": {
        "id": "gzL_44C4Vj89"
      }
    },
    {
      "cell_type": "markdown",
      "source": [
        "# Modeling"
      ],
      "metadata": {
        "id": "cBa-Nb60vXoV"
      }
    },
    {
      "cell_type": "code",
      "source": [
        "from sklearn.model_selection import train_test_split\n",
        "\n",
        "x_train, x_test, y_train, y_test = train_test_split(data, target, test_size = 0.2, random_state = 42)\n",
        "\n",
        "print(y_train)"
      ],
      "metadata": {
        "id": "9FOaPRfiPPGK",
        "colab": {
          "base_uri": "https://localhost:8080/"
        },
        "outputId": "038f307c-40d2-4bf4-f598-f208c5e1d448"
      },
      "execution_count": null,
      "outputs": [
        {
          "output_type": "stream",
          "name": "stdout",
          "text": [
            "82     2\n",
            "51     4\n",
            "220    2\n",
            "559    2\n",
            "544    2\n",
            "      ..\n",
            "71     4\n",
            "106    4\n",
            "270    4\n",
            "435    4\n",
            "102    2\n",
            "Name: Class, Length: 559, dtype: int64\n"
          ]
        }
      ]
    },
    {
      "cell_type": "code",
      "source": [
        "from sklearn.neighbors import KNeighborsClassifier\n",
        "from sklearn.metrics import accuracy_score\n",
        "\n",
        "k_range = list(range(1,26))\n",
        "scores = []\n",
        "for k in k_range:\n",
        "  knn = KNeighborsClassifier(n_neighbors = k, p = 1)\n",
        "  knn.fit(x_train, y_train)\n",
        "  y_pred1 = knn.predict(x_test)\n",
        "  scores.append(accuracy_score(y_test, y_pred1))\n",
        "\n",
        "plt.plot(k_range, scores)\n",
        "plt.xlabel('Value of k for KNN')\n",
        "plt.ylabel('Accuracy Score')\n",
        "plt.title('Accuracy Scores for Values of k of k-Nearest-Neighbors Manhattan')\n",
        "plt.show()\n",
        "\n",
        "scores_list = [(i + 1, score) for i, score in enumerate(scores)]\n",
        "\n",
        "print('Nilai Akurasi', scores_list)\n",
        "print('Nilai Tertinggi :', max(scores))"
      ],
      "metadata": {
        "id": "0g1bLQTBdVbT",
        "colab": {
          "base_uri": "https://localhost:8080/",
          "height": 352
        },
        "outputId": "2133b385-fc89-416a-9acf-97c3dbfc9302"
      },
      "execution_count": null,
      "outputs": [
        {
          "output_type": "display_data",
          "data": {
            "text/plain": [
              "<Figure size 432x288 with 1 Axes>"
            ],
            "image/png": "[encoded data removed]"
          },
          "metadata": {
            "needs_background": "light"
          }
        },
        {
          "output_type": "stream",
          "name": "stdout",
          "text": [
            "Nilai Akurasi [(1, 0.9428571428571428), (2, 0.9142857142857143), (3, 0.9714285714285714), (4, 0.9642857142857143), (5, 0.9785714285714285), (6, 0.9714285714285714), (7, 0.9714285714285714), (8, 0.9714285714285714), (9, 0.9714285714285714), (10, 0.9714285714285714), (11, 0.9714285714285714), (12, 0.9714285714285714), (13, 0.9714285714285714), (14, 0.9714285714285714), (15, 0.9785714285714285), (16, 0.9714285714285714), (17, 0.9785714285714285), (18, 0.9714285714285714), (19, 0.9642857142857143), (20, 0.9642857142857143), (21, 0.9714285714285714), (22, 0.9714285714285714), (23, 0.9642857142857143), (24, 0.9714285714285714), (25, 0.9714285714285714)]\n",
            "Nilai Tertinggi : 0.9785714285714285\n"
          ]
        }
      ]
    },
    {
      "cell_type": "code",
      "source": [
        "k_range = list(range(1,26))\n",
        "scores = []\n",
        "for k in k_range:\n",
        "  knn = KNeighborsClassifier(n_neighbors = k, p = 2)\n",
        "  knn.fit(x_train, y_train)\n",
        "  y_pred2= knn.predict(x_test)\n",
        "  scores.append(accuracy_score(y_test, y_pred2))\n",
        "\n",
        "plt.plot(k_range, scores)\n",
        "plt.xlabel('Value of k for KNN')\n",
        "plt.ylabel('Accuracy Score')\n",
        "plt.title('Accuracy Scores for Values of k of k-Nearest-Neighbors Euclidean')\n",
        "plt.show()\n",
        "\n",
        "scores_list = [(i + 1, score) for i, score in enumerate(scores)]\n",
        "\n",
        "print('Nilai Akurasi', scores_list)\n",
        "print('Nilai Tertinggi :', max(scores))"
      ],
      "metadata": {
        "id": "hCX6pP_ucTxF",
        "colab": {
          "base_uri": "https://localhost:8080/",
          "height": 352
        },
        "outputId": "8d3f6f46-60a9-40b3-fc56-b83a94d853da"
      },
      "execution_count": null,
      "outputs": [
        {
          "output_type": "display_data",
          "data": {
            "text/plain": [
              "<Figure size 432x288 with 1 Axes>"
            ],
            "image/png": "[encoded data removed]"
          },
          "metadata": {
            "needs_background": "light"
          }
        },
        {
          "output_type": "stream",
          "name": "stdout",
          "text": [
            "Nilai Akurasi [(1, 0.95), (2, 0.9142857142857143), (3, 0.9714285714285714), (4, 0.9642857142857143), (5, 0.9785714285714285), (6, 0.9642857142857143), (7, 0.9714285714285714), (8, 0.9714285714285714), (9, 0.9714285714285714), (10, 0.9714285714285714), (11, 0.9785714285714285), (12, 0.9785714285714285), (13, 0.9785714285714285), (14, 0.9785714285714285), (15, 0.9785714285714285), (16, 0.9785714285714285), (17, 0.9785714285714285), (18, 0.9785714285714285), (19, 0.9785714285714285), (20, 0.9714285714285714), (21, 0.9714285714285714), (22, 0.9714285714285714), (23, 0.9714285714285714), (24, 0.9714285714285714), (25, 0.9714285714285714)]\n",
            "Nilai Tertinggi : 0.9785714285714285\n"
          ]
        }
      ]
    },
    {
      "cell_type": "code",
      "source": [
        "k_range = list(range(1,26))\n",
        "scores = []\n",
        "for k in k_range:\n",
        "  knn = KNeighborsClassifier(n_neighbors = k, p = 3, metric='minkowski')\n",
        "  knn.fit(x_train, y_train)\n",
        "  y_pred3 = knn.predict(x_test)\n",
        "  scores.append(accuracy_score(y_test, y_pred3))\n",
        "\n",
        "plt.plot(k_range, scores)\n",
        "plt.xlabel('Value of k for KNN')\n",
        "plt.ylabel('Accuracy Score')\n",
        "plt.title('Accuracy Scores for Values of k of k-Nearest-Neighbors Minkowski')\n",
        "plt.show()\n",
        "\n",
        "scores_list = [(i + 1, score) for i, score in enumerate(scores)]\n",
        "\n",
        "print('Nilai Akurasi', scores_list)\n",
        "print('Nilai Tertinggi :', max(scores))"
      ],
      "metadata": {
        "id": "pxfNh8AadumA",
        "colab": {
          "base_uri": "https://localhost:8080/",
          "height": 352
        },
        "outputId": "90b94435-d299-4ecf-f698-edf177cf1bbc"
      },
      "execution_count": null,
      "outputs": [
        {
          "output_type": "display_data",
          "data": {
            "text/plain": [
              "<Figure size 432x288 with 1 Axes>"
            ],
            "image/png": "[encoded data removed]"
          },
          "metadata": {
            "needs_background": "light"
          }
        },
        {
          "output_type": "stream",
          "name": "stdout",
          "text": [
            "Nilai Akurasi [(1, 0.9428571428571428), (2, 0.9285714285714286), (3, 0.9642857142857143), (4, 0.9642857142857143), (5, 0.9785714285714285), (6, 0.9642857142857143), (7, 0.9714285714285714), (8, 0.9714285714285714), (9, 0.9714285714285714), (10, 0.9714285714285714), (11, 0.9785714285714285), (12, 0.9714285714285714), (13, 0.9785714285714285), (14, 0.9785714285714285), (15, 0.9785714285714285), (16, 0.9785714285714285), (17, 0.9785714285714285), (18, 0.9785714285714285), (19, 0.9785714285714285), (20, 0.9785714285714285), (21, 0.9785714285714285), (22, 0.9785714285714285), (23, 0.9785714285714285), (24, 0.9785714285714285), (25, 0.9785714285714285)]\n",
            "Nilai Tertinggi : 0.9785714285714285\n"
          ]
        }
      ]
    },
    {
      "cell_type": "code",
      "source": [
        "knn = KNeighborsClassifier(n_neighbors = 5, p = 1)\n",
        "knn.fit(x_train,y_train)\n",
        "y_pred1 = knn.predict(x_test)\n",
        "\n",
        "print(\"Accuracy Score of KNN Manhattan:\", accuracy_score(y_test,y_pred1))"
      ],
      "metadata": {
        "id": "KdeA6vvtdh3t",
        "colab": {
          "base_uri": "https://localhost:8080/"
        },
        "outputId": "39ac2205-e35f-43fe-d7c0-74e8abe9ff51"
      },
      "execution_count": null,
      "outputs": [
        {
          "output_type": "stream",
          "name": "stdout",
          "text": [
            "Accuracy Score of KNN Manhattan: 0.9785714285714285\n"
          ]
        }
      ]
    },
    {
      "cell_type": "code",
      "source": [
        "knn = KNeighborsClassifier(n_neighbors = 11, p = 2)\n",
        "knn.fit(x_train, y_train)\n",
        "y_pred1 = knn.predict(x_test)\n",
        "\n",
        "print(\"Accuracy Score of KNN Euclidean:\", accuracy_score(y_test,y_pred1))"
      ],
      "metadata": {
        "id": "dfDXH4EBeHdW",
        "colab": {
          "base_uri": "https://localhost:8080/"
        },
        "outputId": "7bfdf32d-a6a7-4fd6-c203-aed7dababfb8"
      },
      "execution_count": null,
      "outputs": [
        {
          "output_type": "stream",
          "name": "stdout",
          "text": [
            "Accuracy Score of KNN Euclidean: 0.9785714285714285\n"
          ]
        }
      ]
    },
    {
      "cell_type": "code",
      "source": [
        "knn = KNeighborsClassifier(n_neighbors = 8, p = 3, metric='minkowski')\n",
        "knn.fit(x_train,y_train)\n",
        "y_pred1 = knn.predict(x_test)\n",
        "\n",
        "print(\"Accuracy Score of KNN Minkowski :\", accuracy_score(y_test,y_pred1))"
      ],
      "metadata": {
        "id": "XxLKlj1hcj9u",
        "colab": {
          "base_uri": "https://localhost:8080/"
        },
        "outputId": "01306afc-6d4b-42fd-ce29-35644cebed30"
      },
      "execution_count": null,
      "outputs": [
        {
          "output_type": "stream",
          "name": "stdout",
          "text": [
            "Accuracy Score of KNN Minkowski : 0.9714285714285714\n"
          ]
        }
      ]
    },
    {
      "cell_type": "code",
      "source": [
        "from sklearn.naive_bayes import GaussianNB\n",
        "\n",
        "nb = GaussianNB()\n",
        "nb.fit(x_train, y_train)\n",
        "y_pred_svc = nb.predict(x_test)\n",
        "\n",
        "print(\"Accuracy Score of SVC :\", accuracy_score(y_test,y_pred_svc))"
      ],
      "metadata": {
        "id": "Coi944d7ZzIF",
        "colab": {
          "base_uri": "https://localhost:8080/"
        },
        "outputId": "cb41986f-1e94-4f39-d420-db8b9206c0ad"
      },
      "execution_count": null,
      "outputs": [
        {
          "output_type": "stream",
          "name": "stdout",
          "text": [
            "Accuracy Score of SVC : 0.9642857142857143\n"
          ]
        }
      ]
    },
    {
      "cell_type": "code",
      "source": [
        "from sklearn.svm import SVC\n",
        "\n",
        "svc = SVC()\n",
        "svc.fit(x_train, y_train)\n",
        "y_pred_svc = svc.predict(x_test)\n",
        "\n",
        "print(\"Accuracy Score of SVC :\", accuracy_score(y_test,y_pred_svc))"
      ],
      "metadata": {
        "id": "Gv8cOgTKa9pd",
        "colab": {
          "base_uri": "https://localhost:8080/"
        },
        "outputId": "3ae333e7-b469-4384-82fe-ba6983773442"
      },
      "execution_count": null,
      "outputs": [
        {
          "output_type": "stream",
          "name": "stdout",
          "text": [
            "Accuracy Score of SVC : 0.9714285714285714\n"
          ]
        }
      ]
    },
    {
      "cell_type": "code",
      "source": [
        "from sklearn.linear_model import LogisticRegression\n",
        "\n",
        "logreg = LogisticRegression()\n",
        "logreg.fit(x_train, y_train)\n",
        "y_pred = logreg.predict(x_test)\n",
        "\n",
        "print(\"Accuracy Score:\",accuracy_score(y_test,y_pred))"
      ],
      "metadata": {
        "id": "ErOi64u2PWyK",
        "colab": {
          "base_uri": "https://localhost:8080/"
        },
        "outputId": "807ddd11-6e99-4258-f4bd-2fda1ed0cc2d"
      },
      "execution_count": null,
      "outputs": [
        {
          "output_type": "stream",
          "name": "stdout",
          "text": [
            "Accuracy Score: 0.9642857142857143\n"
          ]
        }
      ]
    },
    {
      "cell_type": "code",
      "source": [
        "cubes = [x**3 for x in range(10)] \n",
        "print(cubes) "
      ],
      "metadata": {
        "id": "8ThBJyp8htzk",
        "colab": {
          "base_uri": "https://localhost:8080/"
        },
        "outputId": "2a90886e-8931-44f3-fc42-9b9bb7545261"
      },
      "execution_count": null,
      "outputs": [
        {
          "output_type": "stream",
          "name": "stdout",
          "text": [
            "[0, 1, 8, 27, 64, 125, 216, 343, 512, 729]\n"
          ]
        }
      ]
    },
    {
      "cell_type": "markdown",
      "source": [
        "# Evaluation"
      ],
      "metadata": {
        "id": "3Yz8rLCZvjbc"
      }
    },
    {
      "cell_type": "code",
      "source": [
        "from sklearn.metrics import classification_report\n",
        "\n",
        "knn = KNeighborsClassifier(n_neighbors = 7, p=3)\n",
        "knn.fit(x_train,y_train)\n",
        "y_pred = knn.predict(x_test)\n",
        "\n",
        "print(\"Confusion Matrix Untuk Minkowski\")\n",
        "target_names = ['benign', 'malignant']\n",
        "matrix = classification_report(y_test, y_pred, target_names = target_names)\n",
        "print(matrix)"
      ],
      "metadata": {
        "id": "rj-ioyYx220L",
        "colab": {
          "base_uri": "https://localhost:8080/"
        },
        "outputId": "e7565661-909f-427e-9dd9-c5fe83078b46"
      },
      "execution_count": null,
      "outputs": [
        {
          "output_type": "stream",
          "name": "stdout",
          "text": [
            "Confusion Matrix Untuk Minkowski\n",
            "              precision    recall  f1-score   support\n",
            "\n",
            "      benign       0.97      0.99      0.98        95\n",
            "   malignant       0.98      0.93      0.95        45\n",
            "\n",
            "    accuracy                           0.97       140\n",
            "   macro avg       0.97      0.96      0.97       140\n",
            "weighted avg       0.97      0.97      0.97       140\n",
            "\n"
          ]
        }
      ]
    },
    {
      "cell_type": "code",
      "source": [
        "from sklearn.metrics import accuracy_score, precision_score, recall_score\n",
        "\n",
        "print(\"Accuracy score : {} \".format(accuracy_score(y_test, y_pred)))\n",
        "print(\"Precision score : {} \".format(precision_score(y_test, y_pred, average='macro')))\n",
        "print(\"Recall score : {} \".format(recall_score(y_test, y_pred, average='macro')))"
      ],
      "metadata": {
        "id": "s4R6Y1zW2w5b",
        "colab": {
          "base_uri": "https://localhost:8080/"
        },
        "outputId": "dd2703ee-e425-4d73-d272-315dd8c18468"
      },
      "execution_count": null,
      "outputs": [
        {
          "output_type": "stream",
          "name": "stdout",
          "text": [
            "Accuracy score : 0.9714285714285714 \n",
            "Precision score : 0.9729081754974827 \n",
            "Recall score : 0.9614035087719298 \n"
          ]
        }
      ]
    },
    {
      "cell_type": "code",
      "source": [
        "from sklearn.metrics import roc_auc_score, roc_curve\n",
        "\n",
        "knn.fit(x_train, y_train)\n",
        "\n",
        "y_pred_proba = knn.predict_proba(x_test)[:, 1]\n",
        "\n",
        "auc_score = roc_auc_score(y_test, y_pred_proba, multi_class='ovo')\n",
        "\n",
        "def plot_roc_curve(y_test, y_pred_proba):\n",
        "    \"\"\"\n",
        "    plots the roc curve based of the probabilities\n",
        "    \"\"\"\n",
        "    y_test = y_test.map({2: 0, 4: 1}).astype(int)\n",
        "\n",
        "    fpr, tpr, thresholds = roc_curve(y_test, y_pred_proba)\n",
        "    plt.plot(fpr, tpr)\n",
        "    plt.xlabel('False Positive Rate')\n",
        "    plt.ylabel('True Positive Rate')\n",
        "\n",
        "plot_roc_curve(y_test, y_pred_proba)\n",
        "\n",
        "print(auc_score)"
      ],
      "metadata": {
        "id": "tBs_3fMP2gWf",
        "colab": {
          "base_uri": "https://localhost:8080/",
          "height": 297
        },
        "outputId": "5029d2b1-6233-4ab9-8dd7-d4c0746eb9e6"
      },
      "execution_count": null,
      "outputs": [
        {
          "output_type": "stream",
          "name": "stdout",
          "text": [
            "0.9964912280701755\n"
          ]
        },
        {
          "output_type": "display_data",
          "data": {
            "text/plain": [
              "<Figure size 432x288 with 1 Axes>"
            ],
            "image/png": "[encoded data removed]"
          },
          "metadata": {
            "needs_background": "light"
          }
        }
      ]
    }
  ]
}