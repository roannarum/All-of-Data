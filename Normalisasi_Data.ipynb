{
  "nbformat": 4,
  "nbformat_minor": 0,
  "metadata": {
    "colab": {
      "provenance": [],
      "authorship_tag": "ABX9TyNgArUc6d6P1kd8LLnazxH4",
      "include_colab_link": true
    },
    "kernelspec": {
      "name": "python3",
      "display_name": "Python 3"
    },
    "language_info": {
      "name": "python"
    }
  },
  "cells": [
    {
      "cell_type": "markdown",
      "metadata": {
        "id": "view-in-github",
        "colab_type": "text"
      },
      "source": [
        "<a href=\"https://colab.research.google.com/github/roannarum/Data-Practice/blob/main/Normalisasi_Data.ipynb\" target=\"_parent\"><img src=\"https://colab.research.google.com/assets/colab-badge.svg\" alt=\"Open In Colab\"/></a>"
      ]
    },
    {
      "cell_type": "code",
      "execution_count": 1,
      "metadata": {
        "id": "lMWkAeH0mxUR"
      },
      "outputs": [],
      "source": [
        "import numpy as np\n",
        "\n",
        "list = [3.24,-1.58,-0.35,1.68,-1.27,2.46,1.70,1.23,1.46,1.02]\n",
        "data = np.array(list)"
      ]
    },
    {
      "cell_type": "code",
      "source": [
        "data_simplefeaturescalling = data/data.max()"
      ],
      "metadata": {
        "id": "TBq30Fsuwuo8"
      },
      "execution_count": 2,
      "outputs": []
    },
    {
      "cell_type": "code",
      "source": [
        "data_simplefeaturescalling "
      ],
      "metadata": {
        "colab": {
          "base_uri": "https://localhost:8080/"
        },
        "id": "x7JAkN4bw71t",
        "outputId": "0d2f0433-b1a2-4732-ca48-7c687e434580"
      },
      "execution_count": 14,
      "outputs": [
        {
          "output_type": "execute_result",
          "data": {
            "text/plain": [
              "array([ 1.        , -0.48765432, -0.10802469,  0.51851852, -0.39197531,\n",
              "        0.75925926,  0.52469136,  0.37962963,  0.45061728,  0.31481481])"
            ]
          },
          "metadata": {},
          "execution_count": 14
        }
      ]
    },
    {
      "cell_type": "code",
      "source": [
        "data_minmax = (data-data.min())/(data.max()-data.min())"
      ],
      "metadata": {
        "id": "SZomAwH2w9vi"
      },
      "execution_count": 4,
      "outputs": []
    },
    {
      "cell_type": "code",
      "source": [
        "data_minmax"
      ],
      "metadata": {
        "colab": {
          "base_uri": "https://localhost:8080/"
        },
        "id": "pvP32kSDxNSW",
        "outputId": "0418610c-63e9-43b7-f8a5-06274b0265b9"
      },
      "execution_count": 5,
      "outputs": [
        {
          "output_type": "execute_result",
          "data": {
            "text/plain": [
              "array([1.        , 0.        , 0.25518672, 0.67634855, 0.06431535,\n",
              "       0.83817427, 0.68049793, 0.58298755, 0.63070539, 0.53941909])"
            ]
          },
          "metadata": {},
          "execution_count": 5
        }
      ]
    },
    {
      "cell_type": "code",
      "source": [
        "data_zscore = (data-data.mean())/data.std()"
      ],
      "metadata": {
        "id": "4q9hTiK7xO72"
      },
      "execution_count": 6,
      "outputs": []
    },
    {
      "cell_type": "code",
      "source": [
        "data_zscore"
      ],
      "metadata": {
        "colab": {
          "base_uri": "https://localhost:8080/"
        },
        "id": "JzwptQvOxofl",
        "outputId": "7450123b-4d05-4b84-f6a7-c38698c04192"
      },
      "execution_count": 7,
      "outputs": [
        {
          "output_type": "execute_result",
          "data": {
            "text/plain": [
              "array([ 1.53849724, -1.71251403, -0.88289912,  0.48630272, -1.50342409,\n",
              "        1.01239998,  0.4997924 ,  0.18278507,  0.33791632,  0.0411435 ])"
            ]
          },
          "metadata": {},
          "execution_count": 7
        }
      ]
    },
    {
      "cell_type": "code",
      "source": [
        "from scipy import stats\n",
        "\n",
        "random = np.random.default_rng()\n",
        "data = stats.norm.rvs(size=100, random_state = random)\n",
        "data"
      ],
      "metadata": {
        "colab": {
          "base_uri": "https://localhost:8080/"
        },
        "id": "ycAsN8r0xqu4",
        "outputId": "48fbb817-4006-4d40-b2b9-b27f990cc204"
      },
      "execution_count": 11,
      "outputs": [
        {
          "output_type": "execute_result",
          "data": {
            "text/plain": [
              "array([ 2.56354200e+00, -7.04832708e-02,  1.35357712e+00,  2.06259787e+00,\n",
              "       -1.65857441e+00, -8.91487039e-04, -1.53234241e+00,  5.29256115e-01,\n",
              "        8.42243685e-01, -7.21767054e-01, -1.20559286e+00,  8.95656452e-01,\n",
              "        1.31594480e-01,  6.97415160e-01,  1.42184583e+00, -1.32053042e+00,\n",
              "       -4.09634522e-01,  6.10243499e-01, -3.76967517e-01, -6.18934490e-01,\n",
              "        4.98693578e-01, -1.68880634e+00, -5.99946683e-01, -8.02797087e-01,\n",
              "       -1.10166178e+00, -1.88846948e+00,  1.82209520e+00,  1.72007866e+00,\n",
              "       -3.71158044e-02, -1.04055237e-01,  7.90098393e-02,  1.32433422e+00,\n",
              "        1.58352653e+00, -2.21443005e+00,  1.74437853e-01,  3.35992502e-01,\n",
              "       -4.35777260e-01,  5.72436890e-01,  1.90936757e+00, -6.07250601e-01,\n",
              "        1.16420920e-01, -6.73499246e-01,  9.22408382e-02, -6.17017526e-01,\n",
              "        1.04186736e+00, -9.37914322e-01,  1.39586080e-01, -1.17341192e+00,\n",
              "       -2.22198522e+00, -2.67503072e-01, -8.79400839e-02, -3.06431519e-01,\n",
              "       -2.50278439e-01, -1.74955108e+00, -2.07579528e-01,  4.69884075e-01,\n",
              "       -1.24767627e+00, -1.60020042e+00, -3.96745589e-01, -9.49334003e-01,\n",
              "        1.56229753e+00, -5.41344597e-01, -1.83610854e-01,  5.06279081e-01,\n",
              "       -6.66019866e-03, -1.18704215e+00, -1.37421888e+00,  4.11464161e-01,\n",
              "        1.10223823e+00, -1.02958094e+00, -1.37153628e-01, -1.04036636e+00,\n",
              "        4.54969342e-01,  6.58703764e-01, -1.29646726e-01,  5.45698737e-01,\n",
              "       -5.00177229e-01, -1.50319546e-01,  2.63062190e+00,  4.43343719e-01,\n",
              "       -5.86091766e-01,  4.68008057e-02,  4.36578670e-01, -1.41030470e-01,\n",
              "        9.51443460e-01, -1.30951352e+00,  1.19294495e-01,  1.30207783e-01,\n",
              "       -1.42884937e+00,  1.65054160e+00,  1.27722337e+00,  5.01570815e-01,\n",
              "       -5.84133711e-01,  8.79846725e-01, -4.26243424e-01, -4.53116395e-01,\n",
              "        3.52353475e-01,  1.33985352e+00, -1.72014577e-01, -6.74491633e-01])"
            ]
          },
          "metadata": {},
          "execution_count": 11
        }
      ]
    },
    {
      "cell_type": "code",
      "source": [
        "from scipy.stats import kstest\n",
        "\n",
        "kstest(data, 'norm')"
      ],
      "metadata": {
        "colab": {
          "base_uri": "https://localhost:8080/"
        },
        "id": "mmWaKWr3yh73",
        "outputId": "6056770e-d982-4c03-b47d-2dd9ca293050"
      },
      "execution_count": 13,
      "outputs": [
        {
          "output_type": "execute_result",
          "data": {
            "text/plain": [
              "KstestResult(statistic=0.07449351991247088, pvalue=0.6088489082749593)"
            ]
          },
          "metadata": {},
          "execution_count": 13
        }
      ]
    },
    {
      "cell_type": "code",
      "source": [
        "# normalisasi dengan simple feature scalling\n",
        "data_simplefeaturescalling = data/data.max()\n"
      ],
      "metadata": {
        "id": "E5ZdM8bBy35y"
      },
      "execution_count": 16,
      "outputs": []
    },
    {
      "cell_type": "code",
      "source": [
        "data_simplefeaturescalling"
      ],
      "metadata": {
        "id": "3E9iRKFBzmOE"
      },
      "execution_count": null,
      "outputs": []
    },
    {
      "cell_type": "code",
      "source": [
        "kstest(data_simplefeaturescalling, 'norm')"
      ],
      "metadata": {
        "colab": {
          "base_uri": "https://localhost:8080/"
        },
        "id": "r3njtuwVzosw",
        "outputId": "4e4426b0-43a8-4f92-b122-95b0473b8f3c"
      },
      "execution_count": 18,
      "outputs": [
        {
          "output_type": "execute_result",
          "data": {
            "text/plain": [
              "KstestResult(statistic=0.22300245096551788, pvalue=7.5310690211704e-05)"
            ]
          },
          "metadata": {},
          "execution_count": 18
        }
      ]
    },
    {
      "cell_type": "markdown",
      "source": [
        "# Diperoleh p-value > 0,05, maka data belum normal"
      ],
      "metadata": {
        "id": "TZ7LoT9Yz-fV"
      }
    },
    {
      "cell_type": "code",
      "source": [
        "data_minmax = (data-data.min())/(data.max()-data.min())"
      ],
      "metadata": {
        "id": "bWfT5eYWzt3h"
      },
      "execution_count": 19,
      "outputs": []
    },
    {
      "cell_type": "code",
      "source": [
        "kstest(data_minmax, 'norm') #"
      ],
      "metadata": {
        "colab": {
          "base_uri": "https://localhost:8080/"
        },
        "id": "59l9WeVS0u_6",
        "outputId": "96b2576a-e51b-4757-9672-e7903025742c"
      },
      "execution_count": 20,
      "outputs": [
        {
          "output_type": "execute_result",
          "data": {
            "text/plain": [
              "KstestResult(statistic=0.5087784620200366, pvalue=1.5979398544781537e-24)"
            ]
          },
          "metadata": {},
          "execution_count": 20
        }
      ]
    },
    {
      "cell_type": "markdown",
      "source": [
        "# Diperoleh p-value > 0,05, maka data belum normal"
      ],
      "metadata": {
        "id": "ZPaOvixZ1qTz"
      }
    },
    {
      "cell_type": "code",
      "source": [
        "data_zscore = (data-data.mean())/data.std()"
      ],
      "metadata": {
        "id": "C7fEMJK800wy"
      },
      "execution_count": 21,
      "outputs": []
    },
    {
      "cell_type": "code",
      "source": [
        "kstest(data_zscore, 'norm') #Diperoleh p-value > 0,05, maka data belum normal"
      ],
      "metadata": {
        "colab": {
          "base_uri": "https://localhost:8080/"
        },
        "id": "sXG9y8yc081i",
        "outputId": "1b948847-52e7-495e-f342-3ed97486e3d7"
      },
      "execution_count": 22,
      "outputs": [
        {
          "output_type": "execute_result",
          "data": {
            "text/plain": [
              "KstestResult(statistic=0.06390493900194816, pvalue=0.7845417997861245)"
            ]
          },
          "metadata": {},
          "execution_count": 22
        }
      ]
    },
    {
      "cell_type": "markdown",
      "source": [
        "# Diperoleh p-value > 0,05, maka data belum normal"
      ],
      "metadata": {
        "id": "WZ0rA2pn1sBZ"
      }
    },
    {
      "cell_type": "code",
      "source": [],
      "metadata": {
        "id": "wL_R-4wU1CZV"
      },
      "execution_count": null,
      "outputs": []
    }
  ]
}