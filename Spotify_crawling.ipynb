{
  "nbformat": 4,
  "nbformat_minor": 0,
  "metadata": {
    "colab": {
      "name": "Spotify crawling.ipynb",
      "provenance": [],
      "authorship_tag": "ABX9TyMr5uid6d9abjDThNkpW+D5",
      "include_colab_link": true
    },
    "kernelspec": {
      "name": "python3",
      "display_name": "Python 3"
    },
    "language_info": {
      "name": "python"
    }
  },
  "cells": [
    {
      "cell_type": "markdown",
      "metadata": {
        "id": "view-in-github",
        "colab_type": "text"
      },
      "source": [
        "<a href=\"https://colab.research.google.com/github/roannarum/Data-Practice/blob/main/Spotify_crawling.ipynb\" target=\"_parent\"><img src=\"https://colab.research.google.com/assets/colab-badge.svg\" alt=\"Open In Colab\"/></a>"
      ]
    },
    {
      "cell_type": "code",
      "execution_count": null,
      "metadata": {
        "id": "QDMXsaJaWc_B"
      },
      "outputs": [],
      "source": [
        "!pip install spotipy"
      ]
    },
    {
      "cell_type": "code",
      "source": [
        "import spotipy\n",
        "from spotipy.oauth2 import SpotifyClientCredentials\n",
        "# by album\n",
        "justin = 'spotify:artist:1uNFoZAHBGtllmzznpCI3s'\n",
        "spotify = spotipy.Spotify(client_credentials_manager=SpotifyClientCredentials(client_id='',client_secret=''))\n",
        "\n",
        "results = spotify.artist_albums(justin, album_type='album')\n",
        "albums = results['items']\n",
        "while results['next']:\n",
        "    results = spotify.next(results)\n",
        "    albums.extend(results['items'])\n",
        "\n",
        "for album in albums:\n",
        "    print(album['name'])"
      ],
      "metadata": {
        "id": "J5lniRfaWwN0"
      },
      "execution_count": null,
      "outputs": []
    },
    {
      "cell_type": "code",
      "source": [
        "import spotipy\n",
        "from spotipy.oauth2 import SpotifyClientCredentials\n",
        "\n",
        "\n",
        "# reading client id and client secret code\n",
        "# with open(r\"C:/Users/vamsi/Documents/Python_Scripts/Spotify_Automation/credentials.txt\") as f:\n",
        "#     [SPOTIPY_CLIENT_ID,SPOTIPY_CLIENT_SECRET] = f.read().split(\"\\n\")\n",
        "#     f.close()\n",
        "\n",
        "# connecting with spotify api\n",
        "#open spotify for developer and copy client id&secret\n",
        "auth_manager = SpotifyClientCredentials(client_id='',client_secret='')\n",
        "sp = spotipy.Spotify(auth_manager=auth_manager)\n",
        "\n",
        "# giving playlist link\n",
        "playlist_code = input(\"Enter the Playlist Link: \\n\")\n",
        "playlist_dict = sp.playlist(playlist_code)\n",
        "\n",
        "no_of_songs = playlist_dict[\"tracks\"][\"total\"]\n",
        "\n",
        "album_list = []\n",
        "song_list = []\n",
        "release_date_list = []\n",
        "artists_list = []\n",
        "\n",
        "tracks = playlist_dict[\"tracks\"]\n",
        "items = tracks[\"items\"]\n",
        "offset=0\n",
        "i=0\n",
        "while i < no_of_songs:\n",
        "    song = items[i-offset][\"track\"][\"name\"]\n",
        "    album = items[i-offset][\"track\"][\"album\"][\"name\"]\n",
        "    release_date = items[i-offset][\"track\"][\"album\"][\"release_date\"]\n",
        "    artists = [k[\"name\"] for k in items[i-offset][\"track\"][\"artists\"]]\n",
        "    artists = ','.join(artists)\n",
        "    album_list.append(album)\n",
        "    song_list.append(song)\n",
        "    release_date_list.append(release_date)\n",
        "    artists_list.append(artists)\n",
        "    if (i+1)%100 == 0:\n",
        "        tracks = sp.next(tracks)\n",
        "        items = tracks[\"items\"]\n",
        "        offset = i+1\n",
        "    i+=1\n",
        "    \n",
        "final_data = list(zip(song_list,artists_list,album_list,release_date_list))\n",
        "\n",
        "\n",
        "# creating csv file\n",
        "import csv\n",
        "Details = [\"Name\",\"Artists\",\"Album\",\"Release Date\"]\n",
        "rows = final_data\n",
        "with open(\"final.csv\",'w', newline='') as f:\n",
        "    write = csv.writer(f)\n",
        "    write.writerow(Details)\n",
        "    write.writerows(rows)\n",
        "f.close()"
      ],
      "metadata": {
        "id": "sBlkR7e3d3Qz"
      },
      "execution_count": null,
      "outputs": []
    }
  ]
}